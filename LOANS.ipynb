{
 "cells": [
  {
   "cell_type": "markdown",
   "id": "a7b7d5f6-cb56-47e9-a680-81d8055c3f9d",
   "metadata": {},
   "source": [
    "<h2 style=\"font-weight: bold;\">ANALYSIS OF A LOANS DATASET</h2>\n",
    "<p>This is an analysis of the loan_train.csv file to derive insight from the data</p>\n",
    "<p>Our group used questions to help us analyze the data and understand the story of the dataset. They questions are as follows:</p>\n",
    "<ol>\n",
    "    <li>What is the relationship between marital status and loan approvals?</li>\n",
    "    <li>What are the most common loan terms(in months) and their effect on approval rates?</li>\n",
    "    <li>Is there a relation between the applicants' income and the loan amount?</li>\n",
    "    <li>Do applicants from urban areas have higher loan approval rates compared to those from rural or semi-urban areas?</li>\n",
    "    <li>What is the effect of the number of dependents on loan approval?</li>\n",
    "    <li>What is the distribution of applicants' income across different property areas?</li>\n",
    "    <li>How does the applicant's education level affect loan approvals?</li>\n",
    "    <li>How does the applicant's self-employment status affect loan approval chances?</li>\n",
    "    <li>Are there differences in loan approval rates based on gender?</li>\n",
    "    <li>How does the presence of a co-applicant affect the likelihood of loan approval?</li>\n",
    "    <li>Is there a relationship between the combined income of the applicant and co-applicant and the loan amount?</li>\n",
    "    <li>What effect does credit history have on and loan status?</li>\n",
    "</ol>\n"
   ]
  },
  {
   "cell_type": "code",
   "execution_count": 119,
   "id": "bf7a7cc0-1846-41fc-a7cd-bfed25b0d38c",
   "metadata": {},
   "outputs": [],
   "source": [
    "#importing packages\n",
    "import pandas as pd\n",
    "import numpy as np\n",
    "import matplotlib.pyplot as plt\n",
    "import seaborn as sns\n",
    "sns.set(color_codes=True)\n",
    "import re"
   ]
  },
  {
   "cell_type": "code",
   "execution_count": 120,
   "id": "bdd73b7b-76ee-4ea9-bd8c-d9f09eb48e33",
   "metadata": {},
   "outputs": [],
   "source": [
    "#To call on the dataset\n",
    "data = pd.read_csv(\"loan_train.csv\")"
   ]
  },
  {
   "cell_type": "code",
   "execution_count": 121,
   "id": "100aa65d-6a7d-46fb-9aa4-6dab9054fafa",
   "metadata": {},
   "outputs": [
    {
     "data": {
      "text/html": [
       "<div>\n",
       "<style scoped>\n",
       "    .dataframe tbody tr th:only-of-type {\n",
       "        vertical-align: middle;\n",
       "    }\n",
       "\n",
       "    .dataframe tbody tr th {\n",
       "        vertical-align: top;\n",
       "    }\n",
       "\n",
       "    .dataframe thead th {\n",
       "        text-align: right;\n",
       "    }\n",
       "</style>\n",
       "<table border=\"1\" class=\"dataframe\">\n",
       "  <thead>\n",
       "    <tr style=\"text-align: right;\">\n",
       "      <th></th>\n",
       "      <th>Loan_ID</th>\n",
       "      <th>Gender</th>\n",
       "      <th>Married</th>\n",
       "      <th>Dependents</th>\n",
       "      <th>Education</th>\n",
       "      <th>Self_Employed</th>\n",
       "      <th>ApplicantIncome</th>\n",
       "      <th>CoapplicantIncome</th>\n",
       "      <th>LoanAmount</th>\n",
       "      <th>Loan_Amount_Term</th>\n",
       "      <th>Credit_History</th>\n",
       "      <th>Property_Area</th>\n",
       "      <th>Loan_Status</th>\n",
       "    </tr>\n",
       "  </thead>\n",
       "  <tbody>\n",
       "    <tr>\n",
       "      <th>0</th>\n",
       "      <td>LP001002</td>\n",
       "      <td>Male</td>\n",
       "      <td>No</td>\n",
       "      <td>0</td>\n",
       "      <td>Graduate</td>\n",
       "      <td>No</td>\n",
       "      <td>5849</td>\n",
       "      <td>0.0</td>\n",
       "      <td>NaN</td>\n",
       "      <td>360.0</td>\n",
       "      <td>1.0</td>\n",
       "      <td>Urban</td>\n",
       "      <td>Y</td>\n",
       "    </tr>\n",
       "    <tr>\n",
       "      <th>1</th>\n",
       "      <td>LP001003</td>\n",
       "      <td>Male</td>\n",
       "      <td>Yes</td>\n",
       "      <td>1</td>\n",
       "      <td>Graduate</td>\n",
       "      <td>No</td>\n",
       "      <td>4583</td>\n",
       "      <td>1508.0</td>\n",
       "      <td>128.0</td>\n",
       "      <td>360.0</td>\n",
       "      <td>1.0</td>\n",
       "      <td>Rural</td>\n",
       "      <td>N</td>\n",
       "    </tr>\n",
       "    <tr>\n",
       "      <th>2</th>\n",
       "      <td>LP001005</td>\n",
       "      <td>Male</td>\n",
       "      <td>Yes</td>\n",
       "      <td>0</td>\n",
       "      <td>Graduate</td>\n",
       "      <td>Yes</td>\n",
       "      <td>3000</td>\n",
       "      <td>0.0</td>\n",
       "      <td>66.0</td>\n",
       "      <td>360.0</td>\n",
       "      <td>1.0</td>\n",
       "      <td>Urban</td>\n",
       "      <td>Y</td>\n",
       "    </tr>\n",
       "    <tr>\n",
       "      <th>3</th>\n",
       "      <td>LP001006</td>\n",
       "      <td>Male</td>\n",
       "      <td>Yes</td>\n",
       "      <td>0</td>\n",
       "      <td>Not Graduate</td>\n",
       "      <td>No</td>\n",
       "      <td>2583</td>\n",
       "      <td>2358.0</td>\n",
       "      <td>120.0</td>\n",
       "      <td>360.0</td>\n",
       "      <td>1.0</td>\n",
       "      <td>Urban</td>\n",
       "      <td>Y</td>\n",
       "    </tr>\n",
       "    <tr>\n",
       "      <th>4</th>\n",
       "      <td>LP001008</td>\n",
       "      <td>Male</td>\n",
       "      <td>No</td>\n",
       "      <td>0</td>\n",
       "      <td>Graduate</td>\n",
       "      <td>No</td>\n",
       "      <td>6000</td>\n",
       "      <td>0.0</td>\n",
       "      <td>141.0</td>\n",
       "      <td>360.0</td>\n",
       "      <td>1.0</td>\n",
       "      <td>Urban</td>\n",
       "      <td>Y</td>\n",
       "    </tr>\n",
       "  </tbody>\n",
       "</table>\n",
       "</div>"
      ],
      "text/plain": [
       "    Loan_ID Gender Married Dependents     Education Self_Employed  \\\n",
       "0  LP001002   Male      No          0      Graduate            No   \n",
       "1  LP001003   Male     Yes          1      Graduate            No   \n",
       "2  LP001005   Male     Yes          0      Graduate           Yes   \n",
       "3  LP001006   Male     Yes          0  Not Graduate            No   \n",
       "4  LP001008   Male      No          0      Graduate            No   \n",
       "\n",
       "   ApplicantIncome  CoapplicantIncome  LoanAmount  Loan_Amount_Term  \\\n",
       "0             5849                0.0         NaN             360.0   \n",
       "1             4583             1508.0       128.0             360.0   \n",
       "2             3000                0.0        66.0             360.0   \n",
       "3             2583             2358.0       120.0             360.0   \n",
       "4             6000                0.0       141.0             360.0   \n",
       "\n",
       "   Credit_History Property_Area Loan_Status  \n",
       "0             1.0         Urban           Y  \n",
       "1             1.0         Rural           N  \n",
       "2             1.0         Urban           Y  \n",
       "3             1.0         Urban           Y  \n",
       "4             1.0         Urban           Y  "
      ]
     },
     "execution_count": 121,
     "metadata": {},
     "output_type": "execute_result"
    }
   ],
   "source": [
    "#displays the first few rows\n",
    "data.head()"
   ]
  },
  {
   "cell_type": "code",
   "execution_count": 122,
   "id": "ed2d1b86-675e-442a-838e-6ddf648b09a9",
   "metadata": {},
   "outputs": [
    {
     "data": {
      "text/html": [
       "<div>\n",
       "<style scoped>\n",
       "    .dataframe tbody tr th:only-of-type {\n",
       "        vertical-align: middle;\n",
       "    }\n",
       "\n",
       "    .dataframe tbody tr th {\n",
       "        vertical-align: top;\n",
       "    }\n",
       "\n",
       "    .dataframe thead th {\n",
       "        text-align: right;\n",
       "    }\n",
       "</style>\n",
       "<table border=\"1\" class=\"dataframe\">\n",
       "  <thead>\n",
       "    <tr style=\"text-align: right;\">\n",
       "      <th></th>\n",
       "      <th>Loan_ID</th>\n",
       "      <th>Gender</th>\n",
       "      <th>Married</th>\n",
       "      <th>Dependents</th>\n",
       "      <th>Education</th>\n",
       "      <th>Self_Employed</th>\n",
       "      <th>ApplicantIncome</th>\n",
       "      <th>CoapplicantIncome</th>\n",
       "      <th>LoanAmount</th>\n",
       "      <th>Loan_Amount_Term</th>\n",
       "      <th>Credit_History</th>\n",
       "      <th>Property_Area</th>\n",
       "      <th>Loan_Status</th>\n",
       "    </tr>\n",
       "  </thead>\n",
       "  <tbody>\n",
       "    <tr>\n",
       "      <th>609</th>\n",
       "      <td>LP002978</td>\n",
       "      <td>Female</td>\n",
       "      <td>No</td>\n",
       "      <td>0</td>\n",
       "      <td>Graduate</td>\n",
       "      <td>No</td>\n",
       "      <td>2900</td>\n",
       "      <td>0.0</td>\n",
       "      <td>71.0</td>\n",
       "      <td>360.0</td>\n",
       "      <td>1.0</td>\n",
       "      <td>Rural</td>\n",
       "      <td>Y</td>\n",
       "    </tr>\n",
       "    <tr>\n",
       "      <th>610</th>\n",
       "      <td>LP002979</td>\n",
       "      <td>Male</td>\n",
       "      <td>Yes</td>\n",
       "      <td>3+</td>\n",
       "      <td>Graduate</td>\n",
       "      <td>No</td>\n",
       "      <td>4106</td>\n",
       "      <td>0.0</td>\n",
       "      <td>40.0</td>\n",
       "      <td>180.0</td>\n",
       "      <td>1.0</td>\n",
       "      <td>Rural</td>\n",
       "      <td>Y</td>\n",
       "    </tr>\n",
       "    <tr>\n",
       "      <th>611</th>\n",
       "      <td>LP002983</td>\n",
       "      <td>Male</td>\n",
       "      <td>Yes</td>\n",
       "      <td>1</td>\n",
       "      <td>Graduate</td>\n",
       "      <td>No</td>\n",
       "      <td>8072</td>\n",
       "      <td>240.0</td>\n",
       "      <td>253.0</td>\n",
       "      <td>360.0</td>\n",
       "      <td>1.0</td>\n",
       "      <td>Urban</td>\n",
       "      <td>Y</td>\n",
       "    </tr>\n",
       "    <tr>\n",
       "      <th>612</th>\n",
       "      <td>LP002984</td>\n",
       "      <td>Male</td>\n",
       "      <td>Yes</td>\n",
       "      <td>2</td>\n",
       "      <td>Graduate</td>\n",
       "      <td>No</td>\n",
       "      <td>7583</td>\n",
       "      <td>0.0</td>\n",
       "      <td>187.0</td>\n",
       "      <td>360.0</td>\n",
       "      <td>1.0</td>\n",
       "      <td>Urban</td>\n",
       "      <td>Y</td>\n",
       "    </tr>\n",
       "    <tr>\n",
       "      <th>613</th>\n",
       "      <td>LP002990</td>\n",
       "      <td>Female</td>\n",
       "      <td>No</td>\n",
       "      <td>0</td>\n",
       "      <td>Graduate</td>\n",
       "      <td>Yes</td>\n",
       "      <td>4583</td>\n",
       "      <td>0.0</td>\n",
       "      <td>133.0</td>\n",
       "      <td>360.0</td>\n",
       "      <td>0.0</td>\n",
       "      <td>Semiurban</td>\n",
       "      <td>N</td>\n",
       "    </tr>\n",
       "  </tbody>\n",
       "</table>\n",
       "</div>"
      ],
      "text/plain": [
       "      Loan_ID  Gender Married Dependents Education Self_Employed  \\\n",
       "609  LP002978  Female      No          0  Graduate            No   \n",
       "610  LP002979    Male     Yes         3+  Graduate            No   \n",
       "611  LP002983    Male     Yes          1  Graduate            No   \n",
       "612  LP002984    Male     Yes          2  Graduate            No   \n",
       "613  LP002990  Female      No          0  Graduate           Yes   \n",
       "\n",
       "     ApplicantIncome  CoapplicantIncome  LoanAmount  Loan_Amount_Term  \\\n",
       "609             2900                0.0        71.0             360.0   \n",
       "610             4106                0.0        40.0             180.0   \n",
       "611             8072              240.0       253.0             360.0   \n",
       "612             7583                0.0       187.0             360.0   \n",
       "613             4583                0.0       133.0             360.0   \n",
       "\n",
       "     Credit_History Property_Area Loan_Status  \n",
       "609             1.0         Rural           Y  \n",
       "610             1.0         Rural           Y  \n",
       "611             1.0         Urban           Y  \n",
       "612             1.0         Urban           Y  \n",
       "613             0.0     Semiurban           N  "
      ]
     },
     "execution_count": 122,
     "metadata": {},
     "output_type": "execute_result"
    }
   ],
   "source": [
    "data.tail()"
   ]
  },
  {
   "cell_type": "code",
   "execution_count": 123,
   "id": "7c4bb679-c80f-46d8-b431-6c467f052d22",
   "metadata": {},
   "outputs": [
    {
     "data": {
      "text/plain": [
       "Index(['Loan_ID', 'Gender', 'Married', 'Dependents', 'Education',\n",
       "       'Self_Employed', 'ApplicantIncome', 'CoapplicantIncome', 'LoanAmount',\n",
       "       'Loan_Amount_Term', 'Credit_History', 'Property_Area', 'Loan_Status'],\n",
       "      dtype='object')"
      ]
     },
     "execution_count": 123,
     "metadata": {},
     "output_type": "execute_result"
    }
   ],
   "source": [
    "#To show the columns in the dataset\n",
    "data.columns"
   ]
  },
  {
   "cell_type": "code",
   "execution_count": 124,
   "id": "eec2012d-4910-49b5-a826-d04cef83fae5",
   "metadata": {},
   "outputs": [
    {
     "data": {
      "text/html": [
       "<div>\n",
       "<style scoped>\n",
       "    .dataframe tbody tr th:only-of-type {\n",
       "        vertical-align: middle;\n",
       "    }\n",
       "\n",
       "    .dataframe tbody tr th {\n",
       "        vertical-align: top;\n",
       "    }\n",
       "\n",
       "    .dataframe thead th {\n",
       "        text-align: right;\n",
       "    }\n",
       "</style>\n",
       "<table border=\"1\" class=\"dataframe\">\n",
       "  <thead>\n",
       "    <tr style=\"text-align: right;\">\n",
       "      <th></th>\n",
       "      <th>ApplicantIncome</th>\n",
       "      <th>CoapplicantIncome</th>\n",
       "      <th>LoanAmount</th>\n",
       "      <th>Loan_Amount_Term</th>\n",
       "      <th>Credit_History</th>\n",
       "    </tr>\n",
       "  </thead>\n",
       "  <tbody>\n",
       "    <tr>\n",
       "      <th>count</th>\n",
       "      <td>614.000000</td>\n",
       "      <td>614.000000</td>\n",
       "      <td>592.000000</td>\n",
       "      <td>600.00000</td>\n",
       "      <td>564.000000</td>\n",
       "    </tr>\n",
       "    <tr>\n",
       "      <th>mean</th>\n",
       "      <td>5403.459283</td>\n",
       "      <td>1621.245798</td>\n",
       "      <td>146.412162</td>\n",
       "      <td>342.00000</td>\n",
       "      <td>0.842199</td>\n",
       "    </tr>\n",
       "    <tr>\n",
       "      <th>std</th>\n",
       "      <td>6109.041673</td>\n",
       "      <td>2926.248369</td>\n",
       "      <td>85.587325</td>\n",
       "      <td>65.12041</td>\n",
       "      <td>0.364878</td>\n",
       "    </tr>\n",
       "    <tr>\n",
       "      <th>min</th>\n",
       "      <td>150.000000</td>\n",
       "      <td>0.000000</td>\n",
       "      <td>9.000000</td>\n",
       "      <td>12.00000</td>\n",
       "      <td>0.000000</td>\n",
       "    </tr>\n",
       "    <tr>\n",
       "      <th>25%</th>\n",
       "      <td>2877.500000</td>\n",
       "      <td>0.000000</td>\n",
       "      <td>100.000000</td>\n",
       "      <td>360.00000</td>\n",
       "      <td>1.000000</td>\n",
       "    </tr>\n",
       "    <tr>\n",
       "      <th>50%</th>\n",
       "      <td>3812.500000</td>\n",
       "      <td>1188.500000</td>\n",
       "      <td>128.000000</td>\n",
       "      <td>360.00000</td>\n",
       "      <td>1.000000</td>\n",
       "    </tr>\n",
       "    <tr>\n",
       "      <th>75%</th>\n",
       "      <td>5795.000000</td>\n",
       "      <td>2297.250000</td>\n",
       "      <td>168.000000</td>\n",
       "      <td>360.00000</td>\n",
       "      <td>1.000000</td>\n",
       "    </tr>\n",
       "    <tr>\n",
       "      <th>max</th>\n",
       "      <td>81000.000000</td>\n",
       "      <td>41667.000000</td>\n",
       "      <td>700.000000</td>\n",
       "      <td>480.00000</td>\n",
       "      <td>1.000000</td>\n",
       "    </tr>\n",
       "  </tbody>\n",
       "</table>\n",
       "</div>"
      ],
      "text/plain": [
       "       ApplicantIncome  CoapplicantIncome  LoanAmount  Loan_Amount_Term  \\\n",
       "count       614.000000         614.000000  592.000000         600.00000   \n",
       "mean       5403.459283        1621.245798  146.412162         342.00000   \n",
       "std        6109.041673        2926.248369   85.587325          65.12041   \n",
       "min         150.000000           0.000000    9.000000          12.00000   \n",
       "25%        2877.500000           0.000000  100.000000         360.00000   \n",
       "50%        3812.500000        1188.500000  128.000000         360.00000   \n",
       "75%        5795.000000        2297.250000  168.000000         360.00000   \n",
       "max       81000.000000       41667.000000  700.000000         480.00000   \n",
       "\n",
       "       Credit_History  \n",
       "count      564.000000  \n",
       "mean         0.842199  \n",
       "std          0.364878  \n",
       "min          0.000000  \n",
       "25%          1.000000  \n",
       "50%          1.000000  \n",
       "75%          1.000000  \n",
       "max          1.000000  "
      ]
     },
     "execution_count": 124,
     "metadata": {},
     "output_type": "execute_result"
    }
   ],
   "source": [
    "#to get a statistical summary of the dataset\n",
    "data.describe()"
   ]
  },
  {
   "cell_type": "code",
   "execution_count": 125,
   "id": "c4526b73-14dc-4c7b-8513-c7912244afe3",
   "metadata": {},
   "outputs": [
    {
     "name": "stdout",
     "output_type": "stream",
     "text": [
      "<class 'pandas.core.frame.DataFrame'>\n",
      "RangeIndex: 614 entries, 0 to 613\n",
      "Data columns (total 13 columns):\n",
      " #   Column             Non-Null Count  Dtype  \n",
      "---  ------             --------------  -----  \n",
      " 0   Loan_ID            614 non-null    object \n",
      " 1   Gender             601 non-null    object \n",
      " 2   Married            611 non-null    object \n",
      " 3   Dependents         599 non-null    object \n",
      " 4   Education          614 non-null    object \n",
      " 5   Self_Employed      582 non-null    object \n",
      " 6   ApplicantIncome    614 non-null    int64  \n",
      " 7   CoapplicantIncome  614 non-null    float64\n",
      " 8   LoanAmount         592 non-null    float64\n",
      " 9   Loan_Amount_Term   600 non-null    float64\n",
      " 10  Credit_History     564 non-null    float64\n",
      " 11  Property_Area      614 non-null    object \n",
      " 12  Loan_Status        614 non-null    object \n",
      "dtypes: float64(4), int64(1), object(8)\n",
      "memory usage: 62.5+ KB\n"
     ]
    }
   ],
   "source": [
    "#to get a summary of the data-frame\n",
    "data.info()"
   ]
  },
  {
   "cell_type": "code",
   "execution_count": 126,
   "id": "3ef58f00-4f93-4e77-9214-f194b71a78e0",
   "metadata": {},
   "outputs": [
    {
     "data": {
      "text/plain": [
       "Loan_ID               0\n",
       "Gender               13\n",
       "Married               3\n",
       "Dependents           15\n",
       "Education             0\n",
       "Self_Employed        32\n",
       "ApplicantIncome       0\n",
       "CoapplicantIncome     0\n",
       "LoanAmount           22\n",
       "Loan_Amount_Term     14\n",
       "Credit_History       50\n",
       "Property_Area         0\n",
       "Loan_Status           0\n",
       "dtype: int64"
      ]
     },
     "execution_count": 126,
     "metadata": {},
     "output_type": "execute_result"
    }
   ],
   "source": [
    "#To check for missing values\n",
    "data.isnull().sum()"
   ]
  },
  {
   "cell_type": "code",
   "execution_count": 127,
   "id": "de219791-29a6-48ce-bfc8-d86d1617c888",
   "metadata": {},
   "outputs": [
    {
     "data": {
      "text/html": [
       "<div>\n",
       "<style scoped>\n",
       "    .dataframe tbody tr th:only-of-type {\n",
       "        vertical-align: middle;\n",
       "    }\n",
       "\n",
       "    .dataframe tbody tr th {\n",
       "        vertical-align: top;\n",
       "    }\n",
       "\n",
       "    .dataframe thead th {\n",
       "        text-align: right;\n",
       "    }\n",
       "</style>\n",
       "<table border=\"1\" class=\"dataframe\">\n",
       "  <thead>\n",
       "    <tr style=\"text-align: right;\">\n",
       "      <th></th>\n",
       "      <th>Loan_ID</th>\n",
       "      <th>Gender</th>\n",
       "      <th>Married</th>\n",
       "      <th>Dependents</th>\n",
       "      <th>Education</th>\n",
       "      <th>Self_Employed</th>\n",
       "      <th>ApplicantIncome</th>\n",
       "      <th>CoapplicantIncome</th>\n",
       "      <th>LoanAmount(Thousands)</th>\n",
       "      <th>Loan_Term(months)</th>\n",
       "      <th>Credit_History</th>\n",
       "      <th>Property_Area</th>\n",
       "      <th>Loan_Status</th>\n",
       "    </tr>\n",
       "  </thead>\n",
       "  <tbody>\n",
       "    <tr>\n",
       "      <th>311</th>\n",
       "      <td>LP002004</td>\n",
       "      <td>Male</td>\n",
       "      <td>No</td>\n",
       "      <td>0</td>\n",
       "      <td>Not Graduate</td>\n",
       "      <td>No</td>\n",
       "      <td>2927</td>\n",
       "      <td>2405.0</td>\n",
       "      <td>111.0</td>\n",
       "      <td>360.0</td>\n",
       "      <td>1.0</td>\n",
       "      <td>Semiurban</td>\n",
       "      <td>Y</td>\n",
       "    </tr>\n",
       "  </tbody>\n",
       "</table>\n",
       "</div>"
      ],
      "text/plain": [
       "      Loan_ID Gender Married Dependents     Education Self_Employed  \\\n",
       "311  LP002004   Male      No          0  Not Graduate            No   \n",
       "\n",
       "     ApplicantIncome  CoapplicantIncome  LoanAmount(Thousands)  \\\n",
       "311             2927             2405.0                  111.0   \n",
       "\n",
       "     Loan_Term(months)  Credit_History Property_Area Loan_Status  \n",
       "311              360.0             1.0     Semiurban           Y  "
      ]
     },
     "execution_count": 127,
     "metadata": {},
     "output_type": "execute_result"
    }
   ],
   "source": [
    "#changes the column name\n",
    "data = data.rename(columns={'Loan_Amount_Term': \"Loan_Term(months)\", 'LoanAmount':\"LoanAmount(Thousands)\"})\n",
    "data.sample(1)                   "
   ]
  },
  {
   "cell_type": "code",
   "execution_count": 128,
   "id": "22f37c75-6a77-4901-9e64-d55ece63cbe9",
   "metadata": {},
   "outputs": [],
   "source": [
    "data_cleaned = data.drop_duplicates()"
   ]
  },
  {
   "cell_type": "code",
   "execution_count": 129,
   "id": "c36e6cd2-5fe4-4538-a259-5da857f76413",
   "metadata": {},
   "outputs": [
    {
     "data": {
      "text/plain": [
       "(614, 13)"
      ]
     },
     "execution_count": 129,
     "metadata": {},
     "output_type": "execute_result"
    }
   ],
   "source": [
    "#to show the number of rows and columns\n",
    "data_cleaned.shape"
   ]
  },
  {
   "cell_type": "code",
   "execution_count": 130,
   "id": "2a321ced-b3f8-447f-ace7-52c6dfd532cd",
   "metadata": {},
   "outputs": [
    {
     "data": {
      "text/plain": [
       "Loan_ID                  0.000000\n",
       "Gender                   2.117264\n",
       "Married                  0.488599\n",
       "Dependents               2.442997\n",
       "Education                0.000000\n",
       "Self_Employed            5.211726\n",
       "ApplicantIncome          0.000000\n",
       "CoapplicantIncome        0.000000\n",
       "LoanAmount(Thousands)    3.583062\n",
       "Loan_Term(months)        2.280130\n",
       "Credit_History           8.143322\n",
       "Property_Area            0.000000\n",
       "Loan_Status              0.000000\n",
       "dtype: float64"
      ]
     },
     "execution_count": 130,
     "metadata": {},
     "output_type": "execute_result"
    }
   ],
   "source": [
    "#finding the percentage of missing values\n",
    "data_cleaned.isnull().sum()/data_cleaned.shape[0]*100\n",
    "#since the columns have low percentages of missing values we are able to remove them without affecting the results of analysis"
   ]
  },
  {
   "cell_type": "code",
   "execution_count": 131,
   "id": "5109d0b9-81a6-416f-9f82-e5c3f7a5e109",
   "metadata": {},
   "outputs": [],
   "source": [
    "#removing the missing values\n",
    "data_cleaned.dropna(axis=0, inplace=True)"
   ]
  },
  {
   "cell_type": "code",
   "execution_count": 132,
   "id": "6374bc5b-8de5-4ffe-b8ad-15e7856ec2bd",
   "metadata": {},
   "outputs": [
    {
     "data": {
      "text/plain": [
       "Loan_ID                  0\n",
       "Gender                   0\n",
       "Married                  0\n",
       "Dependents               0\n",
       "Education                0\n",
       "Self_Employed            0\n",
       "ApplicantIncome          0\n",
       "CoapplicantIncome        0\n",
       "LoanAmount(Thousands)    0\n",
       "Loan_Term(months)        0\n",
       "Credit_History           0\n",
       "Property_Area            0\n",
       "Loan_Status              0\n",
       "dtype: int64"
      ]
     },
     "execution_count": 132,
     "metadata": {},
     "output_type": "execute_result"
    }
   ],
   "source": [
    "data_cleaned.isnull().sum()\n",
    "#the missing values have been removed"
   ]
  },
  {
   "cell_type": "code",
   "execution_count": 133,
   "id": "89d07afb-0924-44ef-9abb-3a5cbb654ba1",
   "metadata": {},
   "outputs": [
    {
     "data": {
      "text/plain": [
       "(480, 13)"
      ]
     },
     "execution_count": 133,
     "metadata": {},
     "output_type": "execute_result"
    }
   ],
   "source": [
    "data_cleaned.shape"
   ]
  },
  {
   "cell_type": "markdown",
   "id": "e244c4f8-e191-48a6-bea7-b1f08fa619fc",
   "metadata": {},
   "source": [
    "<h1 style=\"font-weight: bold;\">DATA CLEANING</h1>\n",
    "<p>We will go through each column to verify that there are no non-numerical values that can affect data analysis process</p>"
   ]
  },
  {
   "cell_type": "code",
   "execution_count": 134,
   "id": "672a3df4-abd2-40fc-9d5d-a33848f68228",
   "metadata": {},
   "outputs": [
    {
     "data": {
      "text/html": [
       "<div>\n",
       "<style scoped>\n",
       "    .dataframe tbody tr th:only-of-type {\n",
       "        vertical-align: middle;\n",
       "    }\n",
       "\n",
       "    .dataframe tbody tr th {\n",
       "        vertical-align: top;\n",
       "    }\n",
       "\n",
       "    .dataframe thead th {\n",
       "        text-align: right;\n",
       "    }\n",
       "</style>\n",
       "<table border=\"1\" class=\"dataframe\">\n",
       "  <thead>\n",
       "    <tr style=\"text-align: right;\">\n",
       "      <th></th>\n",
       "      <th>Loan_ID</th>\n",
       "      <th>Gender</th>\n",
       "      <th>Married</th>\n",
       "      <th>Dependents</th>\n",
       "      <th>Education</th>\n",
       "      <th>Self_Employed</th>\n",
       "      <th>ApplicantIncome</th>\n",
       "      <th>CoapplicantIncome</th>\n",
       "      <th>LoanAmount(Thousands)</th>\n",
       "      <th>Loan_Term(months)</th>\n",
       "      <th>Credit_History</th>\n",
       "      <th>Property_Area</th>\n",
       "      <th>Loan_Status</th>\n",
       "    </tr>\n",
       "  </thead>\n",
       "  <tbody>\n",
       "    <tr>\n",
       "      <th>1</th>\n",
       "      <td>LP001003</td>\n",
       "      <td>Male</td>\n",
       "      <td>Yes</td>\n",
       "      <td>1</td>\n",
       "      <td>Graduate</td>\n",
       "      <td>No</td>\n",
       "      <td>4583</td>\n",
       "      <td>1508.0</td>\n",
       "      <td>128.0</td>\n",
       "      <td>360.0</td>\n",
       "      <td>1.0</td>\n",
       "      <td>Rural</td>\n",
       "      <td>N</td>\n",
       "    </tr>\n",
       "    <tr>\n",
       "      <th>2</th>\n",
       "      <td>LP001005</td>\n",
       "      <td>Male</td>\n",
       "      <td>Yes</td>\n",
       "      <td>0</td>\n",
       "      <td>Graduate</td>\n",
       "      <td>Yes</td>\n",
       "      <td>3000</td>\n",
       "      <td>0.0</td>\n",
       "      <td>66.0</td>\n",
       "      <td>360.0</td>\n",
       "      <td>1.0</td>\n",
       "      <td>Urban</td>\n",
       "      <td>Y</td>\n",
       "    </tr>\n",
       "    <tr>\n",
       "      <th>3</th>\n",
       "      <td>LP001006</td>\n",
       "      <td>Male</td>\n",
       "      <td>Yes</td>\n",
       "      <td>0</td>\n",
       "      <td>Not Graduate</td>\n",
       "      <td>No</td>\n",
       "      <td>2583</td>\n",
       "      <td>2358.0</td>\n",
       "      <td>120.0</td>\n",
       "      <td>360.0</td>\n",
       "      <td>1.0</td>\n",
       "      <td>Urban</td>\n",
       "      <td>Y</td>\n",
       "    </tr>\n",
       "    <tr>\n",
       "      <th>4</th>\n",
       "      <td>LP001008</td>\n",
       "      <td>Male</td>\n",
       "      <td>No</td>\n",
       "      <td>0</td>\n",
       "      <td>Graduate</td>\n",
       "      <td>No</td>\n",
       "      <td>6000</td>\n",
       "      <td>0.0</td>\n",
       "      <td>141.0</td>\n",
       "      <td>360.0</td>\n",
       "      <td>1.0</td>\n",
       "      <td>Urban</td>\n",
       "      <td>Y</td>\n",
       "    </tr>\n",
       "    <tr>\n",
       "      <th>5</th>\n",
       "      <td>LP001011</td>\n",
       "      <td>Male</td>\n",
       "      <td>Yes</td>\n",
       "      <td>2</td>\n",
       "      <td>Graduate</td>\n",
       "      <td>Yes</td>\n",
       "      <td>5417</td>\n",
       "      <td>4196.0</td>\n",
       "      <td>267.0</td>\n",
       "      <td>360.0</td>\n",
       "      <td>1.0</td>\n",
       "      <td>Urban</td>\n",
       "      <td>Y</td>\n",
       "    </tr>\n",
       "  </tbody>\n",
       "</table>\n",
       "</div>"
      ],
      "text/plain": [
       "    Loan_ID Gender Married Dependents     Education Self_Employed  \\\n",
       "1  LP001003   Male     Yes          1      Graduate            No   \n",
       "2  LP001005   Male     Yes          0      Graduate           Yes   \n",
       "3  LP001006   Male     Yes          0  Not Graduate            No   \n",
       "4  LP001008   Male      No          0      Graduate            No   \n",
       "5  LP001011   Male     Yes          2      Graduate           Yes   \n",
       "\n",
       "   ApplicantIncome  CoapplicantIncome  LoanAmount(Thousands)  \\\n",
       "1             4583             1508.0                  128.0   \n",
       "2             3000                0.0                   66.0   \n",
       "3             2583             2358.0                  120.0   \n",
       "4             6000                0.0                  141.0   \n",
       "5             5417             4196.0                  267.0   \n",
       "\n",
       "   Loan_Term(months)  Credit_History Property_Area Loan_Status  \n",
       "1              360.0             1.0         Rural           N  \n",
       "2              360.0             1.0         Urban           Y  \n",
       "3              360.0             1.0         Urban           Y  \n",
       "4              360.0             1.0         Urban           Y  \n",
       "5              360.0             1.0         Urban           Y  "
      ]
     },
     "execution_count": 134,
     "metadata": {},
     "output_type": "execute_result"
    }
   ],
   "source": [
    "#creating a copy of the data\n",
    "loans = data_cleaned.copy()\n",
    "#our data copy has been created\n",
    "loans.head()"
   ]
  },
  {
   "cell_type": "code",
   "execution_count": 135,
   "id": "8a8fa950-86b7-4a0e-9d8d-a332a50946ab",
   "metadata": {},
   "outputs": [
    {
     "data": {
      "text/plain": [
       "Loan_ID                  0\n",
       "Gender                   0\n",
       "Married                  0\n",
       "Dependents               0\n",
       "Education                0\n",
       "Self_Employed            0\n",
       "ApplicantIncome          0\n",
       "CoapplicantIncome        0\n",
       "LoanAmount(Thousands)    0\n",
       "Loan_Term(months)        0\n",
       "Credit_History           0\n",
       "Property_Area            0\n",
       "Loan_Status              0\n",
       "dtype: int64"
      ]
     },
     "execution_count": 135,
     "metadata": {},
     "output_type": "execute_result"
    }
   ],
   "source": [
    "loans.isnull().sum()"
   ]
  },
  {
   "cell_type": "code",
   "execution_count": 136,
   "id": "dc6be07d-9683-49f4-86ec-79d3cdae5c8d",
   "metadata": {},
   "outputs": [
    {
     "name": "stdout",
     "output_type": "stream",
     "text": [
      "<class 'pandas.core.frame.DataFrame'>\n",
      "Index: 480 entries, 1 to 613\n",
      "Data columns (total 13 columns):\n",
      " #   Column                 Non-Null Count  Dtype  \n",
      "---  ------                 --------------  -----  \n",
      " 0   Loan_ID                480 non-null    object \n",
      " 1   Gender                 480 non-null    object \n",
      " 2   Married                480 non-null    object \n",
      " 3   Dependents             480 non-null    object \n",
      " 4   Education              480 non-null    object \n",
      " 5   Self_Employed          480 non-null    object \n",
      " 6   ApplicantIncome        480 non-null    int64  \n",
      " 7   CoapplicantIncome      480 non-null    float64\n",
      " 8   LoanAmount(Thousands)  480 non-null    float64\n",
      " 9   Loan_Term(months)      480 non-null    float64\n",
      " 10  Credit_History         480 non-null    float64\n",
      " 11  Property_Area          480 non-null    object \n",
      " 12  Loan_Status            480 non-null    object \n",
      "dtypes: float64(4), int64(1), object(8)\n",
      "memory usage: 52.5+ KB\n"
     ]
    }
   ],
   "source": [
    "loans.info()"
   ]
  },
  {
   "cell_type": "code",
   "execution_count": 137,
   "id": "315f5b2a-98a9-456b-be14-e8dc15474435",
   "metadata": {},
   "outputs": [],
   "source": [
    "#has dropped the Loan_ID column\n",
    "loans = loans.drop(columns = \"Loan_ID\")"
   ]
  },
  {
   "cell_type": "code",
   "execution_count": 138,
   "id": "10dbf2f8-1abe-4e04-9a87-5b243c0045e0",
   "metadata": {},
   "outputs": [
    {
     "name": "stdout",
     "output_type": "stream",
     "text": [
      "<class 'pandas.core.frame.DataFrame'>\n",
      "Index: 480 entries, 1 to 613\n",
      "Data columns (total 12 columns):\n",
      " #   Column                 Non-Null Count  Dtype  \n",
      "---  ------                 --------------  -----  \n",
      " 0   Gender                 480 non-null    object \n",
      " 1   Married                480 non-null    object \n",
      " 2   Dependents             480 non-null    object \n",
      " 3   Education              480 non-null    object \n",
      " 4   Self_Employed          480 non-null    object \n",
      " 5   ApplicantIncome        480 non-null    int64  \n",
      " 6   CoapplicantIncome      480 non-null    float64\n",
      " 7   LoanAmount(Thousands)  480 non-null    float64\n",
      " 8   Loan_Term(months)      480 non-null    float64\n",
      " 9   Credit_History         480 non-null    float64\n",
      " 10  Property_Area          480 non-null    object \n",
      " 11  Loan_Status            480 non-null    object \n",
      "dtypes: float64(4), int64(1), object(7)\n",
      "memory usage: 48.8+ KB\n"
     ]
    }
   ],
   "source": [
    "loans.info()"
   ]
  },
  {
   "cell_type": "code",
   "execution_count": 139,
   "id": "5208deae-99c4-407a-bacf-3695463610a8",
   "metadata": {},
   "outputs": [
    {
     "data": {
      "text/html": [
       "<div>\n",
       "<style scoped>\n",
       "    .dataframe tbody tr th:only-of-type {\n",
       "        vertical-align: middle;\n",
       "    }\n",
       "\n",
       "    .dataframe tbody tr th {\n",
       "        vertical-align: top;\n",
       "    }\n",
       "\n",
       "    .dataframe thead th {\n",
       "        text-align: right;\n",
       "    }\n",
       "</style>\n",
       "<table border=\"1\" class=\"dataframe\">\n",
       "  <thead>\n",
       "    <tr style=\"text-align: right;\">\n",
       "      <th></th>\n",
       "      <th>Gender</th>\n",
       "      <th>Married</th>\n",
       "      <th>Dependents</th>\n",
       "      <th>Education</th>\n",
       "      <th>Self_Employed</th>\n",
       "      <th>ApplicantIncome</th>\n",
       "      <th>CoapplicantIncome</th>\n",
       "      <th>LoanAmount(Thousands)</th>\n",
       "      <th>Loan_Term(months)</th>\n",
       "      <th>Credit_History</th>\n",
       "      <th>Property_Area</th>\n",
       "      <th>Loan_Status</th>\n",
       "    </tr>\n",
       "  </thead>\n",
       "  <tbody>\n",
       "    <tr>\n",
       "      <th>1</th>\n",
       "      <td>Male</td>\n",
       "      <td>Yes</td>\n",
       "      <td>1</td>\n",
       "      <td>Graduate</td>\n",
       "      <td>No</td>\n",
       "      <td>4583</td>\n",
       "      <td>1508.0</td>\n",
       "      <td>128.0</td>\n",
       "      <td>360.0</td>\n",
       "      <td>1.0</td>\n",
       "      <td>Rural</td>\n",
       "      <td>N</td>\n",
       "    </tr>\n",
       "    <tr>\n",
       "      <th>2</th>\n",
       "      <td>Male</td>\n",
       "      <td>Yes</td>\n",
       "      <td>0</td>\n",
       "      <td>Graduate</td>\n",
       "      <td>Yes</td>\n",
       "      <td>3000</td>\n",
       "      <td>0.0</td>\n",
       "      <td>66.0</td>\n",
       "      <td>360.0</td>\n",
       "      <td>1.0</td>\n",
       "      <td>Urban</td>\n",
       "      <td>Y</td>\n",
       "    </tr>\n",
       "    <tr>\n",
       "      <th>3</th>\n",
       "      <td>Male</td>\n",
       "      <td>Yes</td>\n",
       "      <td>0</td>\n",
       "      <td>Not Graduate</td>\n",
       "      <td>No</td>\n",
       "      <td>2583</td>\n",
       "      <td>2358.0</td>\n",
       "      <td>120.0</td>\n",
       "      <td>360.0</td>\n",
       "      <td>1.0</td>\n",
       "      <td>Urban</td>\n",
       "      <td>Y</td>\n",
       "    </tr>\n",
       "    <tr>\n",
       "      <th>4</th>\n",
       "      <td>Male</td>\n",
       "      <td>No</td>\n",
       "      <td>0</td>\n",
       "      <td>Graduate</td>\n",
       "      <td>No</td>\n",
       "      <td>6000</td>\n",
       "      <td>0.0</td>\n",
       "      <td>141.0</td>\n",
       "      <td>360.0</td>\n",
       "      <td>1.0</td>\n",
       "      <td>Urban</td>\n",
       "      <td>Y</td>\n",
       "    </tr>\n",
       "    <tr>\n",
       "      <th>5</th>\n",
       "      <td>Male</td>\n",
       "      <td>Yes</td>\n",
       "      <td>2</td>\n",
       "      <td>Graduate</td>\n",
       "      <td>Yes</td>\n",
       "      <td>5417</td>\n",
       "      <td>4196.0</td>\n",
       "      <td>267.0</td>\n",
       "      <td>360.0</td>\n",
       "      <td>1.0</td>\n",
       "      <td>Urban</td>\n",
       "      <td>Y</td>\n",
       "    </tr>\n",
       "    <tr>\n",
       "      <th>...</th>\n",
       "      <td>...</td>\n",
       "      <td>...</td>\n",
       "      <td>...</td>\n",
       "      <td>...</td>\n",
       "      <td>...</td>\n",
       "      <td>...</td>\n",
       "      <td>...</td>\n",
       "      <td>...</td>\n",
       "      <td>...</td>\n",
       "      <td>...</td>\n",
       "      <td>...</td>\n",
       "      <td>...</td>\n",
       "    </tr>\n",
       "    <tr>\n",
       "      <th>609</th>\n",
       "      <td>Female</td>\n",
       "      <td>No</td>\n",
       "      <td>0</td>\n",
       "      <td>Graduate</td>\n",
       "      <td>No</td>\n",
       "      <td>2900</td>\n",
       "      <td>0.0</td>\n",
       "      <td>71.0</td>\n",
       "      <td>360.0</td>\n",
       "      <td>1.0</td>\n",
       "      <td>Rural</td>\n",
       "      <td>Y</td>\n",
       "    </tr>\n",
       "    <tr>\n",
       "      <th>610</th>\n",
       "      <td>Male</td>\n",
       "      <td>Yes</td>\n",
       "      <td>3+</td>\n",
       "      <td>Graduate</td>\n",
       "      <td>No</td>\n",
       "      <td>4106</td>\n",
       "      <td>0.0</td>\n",
       "      <td>40.0</td>\n",
       "      <td>180.0</td>\n",
       "      <td>1.0</td>\n",
       "      <td>Rural</td>\n",
       "      <td>Y</td>\n",
       "    </tr>\n",
       "    <tr>\n",
       "      <th>611</th>\n",
       "      <td>Male</td>\n",
       "      <td>Yes</td>\n",
       "      <td>1</td>\n",
       "      <td>Graduate</td>\n",
       "      <td>No</td>\n",
       "      <td>8072</td>\n",
       "      <td>240.0</td>\n",
       "      <td>253.0</td>\n",
       "      <td>360.0</td>\n",
       "      <td>1.0</td>\n",
       "      <td>Urban</td>\n",
       "      <td>Y</td>\n",
       "    </tr>\n",
       "    <tr>\n",
       "      <th>612</th>\n",
       "      <td>Male</td>\n",
       "      <td>Yes</td>\n",
       "      <td>2</td>\n",
       "      <td>Graduate</td>\n",
       "      <td>No</td>\n",
       "      <td>7583</td>\n",
       "      <td>0.0</td>\n",
       "      <td>187.0</td>\n",
       "      <td>360.0</td>\n",
       "      <td>1.0</td>\n",
       "      <td>Urban</td>\n",
       "      <td>Y</td>\n",
       "    </tr>\n",
       "    <tr>\n",
       "      <th>613</th>\n",
       "      <td>Female</td>\n",
       "      <td>No</td>\n",
       "      <td>0</td>\n",
       "      <td>Graduate</td>\n",
       "      <td>Yes</td>\n",
       "      <td>4583</td>\n",
       "      <td>0.0</td>\n",
       "      <td>133.0</td>\n",
       "      <td>360.0</td>\n",
       "      <td>0.0</td>\n",
       "      <td>Semiurban</td>\n",
       "      <td>N</td>\n",
       "    </tr>\n",
       "  </tbody>\n",
       "</table>\n",
       "<p>480 rows × 12 columns</p>\n",
       "</div>"
      ],
      "text/plain": [
       "     Gender Married Dependents     Education Self_Employed  ApplicantIncome  \\\n",
       "1      Male     Yes          1      Graduate            No             4583   \n",
       "2      Male     Yes          0      Graduate           Yes             3000   \n",
       "3      Male     Yes          0  Not Graduate            No             2583   \n",
       "4      Male      No          0      Graduate            No             6000   \n",
       "5      Male     Yes          2      Graduate           Yes             5417   \n",
       "..      ...     ...        ...           ...           ...              ...   \n",
       "609  Female      No          0      Graduate            No             2900   \n",
       "610    Male     Yes         3+      Graduate            No             4106   \n",
       "611    Male     Yes          1      Graduate            No             8072   \n",
       "612    Male     Yes          2      Graduate            No             7583   \n",
       "613  Female      No          0      Graduate           Yes             4583   \n",
       "\n",
       "     CoapplicantIncome  LoanAmount(Thousands)  Loan_Term(months)  \\\n",
       "1               1508.0                  128.0              360.0   \n",
       "2                  0.0                   66.0              360.0   \n",
       "3               2358.0                  120.0              360.0   \n",
       "4                  0.0                  141.0              360.0   \n",
       "5               4196.0                  267.0              360.0   \n",
       "..                 ...                    ...                ...   \n",
       "609                0.0                   71.0              360.0   \n",
       "610                0.0                   40.0              180.0   \n",
       "611              240.0                  253.0              360.0   \n",
       "612                0.0                  187.0              360.0   \n",
       "613                0.0                  133.0              360.0   \n",
       "\n",
       "     Credit_History Property_Area Loan_Status  \n",
       "1               1.0         Rural           N  \n",
       "2               1.0         Urban           Y  \n",
       "3               1.0         Urban           Y  \n",
       "4               1.0         Urban           Y  \n",
       "5               1.0         Urban           Y  \n",
       "..              ...           ...         ...  \n",
       "609             1.0         Rural           Y  \n",
       "610             1.0         Rural           Y  \n",
       "611             1.0         Urban           Y  \n",
       "612             1.0         Urban           Y  \n",
       "613             0.0     Semiurban           N  \n",
       "\n",
       "[480 rows x 12 columns]"
      ]
     },
     "execution_count": 139,
     "metadata": {},
     "output_type": "execute_result"
    }
   ],
   "source": [
    "loans"
   ]
  },
  {
   "cell_type": "code",
   "execution_count": 140,
   "id": "b3cf3eb5-89c7-4132-b345-5ff0ebc1695d",
   "metadata": {},
   "outputs": [
    {
     "data": {
      "text/html": [
       "<div>\n",
       "<style scoped>\n",
       "    .dataframe tbody tr th:only-of-type {\n",
       "        vertical-align: middle;\n",
       "    }\n",
       "\n",
       "    .dataframe tbody tr th {\n",
       "        vertical-align: top;\n",
       "    }\n",
       "\n",
       "    .dataframe thead th {\n",
       "        text-align: right;\n",
       "    }\n",
       "</style>\n",
       "<table border=\"1\" class=\"dataframe\">\n",
       "  <thead>\n",
       "    <tr style=\"text-align: right;\">\n",
       "      <th></th>\n",
       "      <th>Gender</th>\n",
       "      <th>Married</th>\n",
       "      <th>Dependents</th>\n",
       "      <th>Education</th>\n",
       "      <th>Self_Employed</th>\n",
       "      <th>ApplicantIncome</th>\n",
       "      <th>CoapplicantIncome</th>\n",
       "      <th>LoanAmount(Thousands)</th>\n",
       "      <th>Loan_Term(months)</th>\n",
       "      <th>Credit_History</th>\n",
       "      <th>Property_Area</th>\n",
       "      <th>Loan_Status</th>\n",
       "    </tr>\n",
       "  </thead>\n",
       "  <tbody>\n",
       "    <tr>\n",
       "      <th>609</th>\n",
       "      <td>Female</td>\n",
       "      <td>No</td>\n",
       "      <td>0</td>\n",
       "      <td>Graduate</td>\n",
       "      <td>No</td>\n",
       "      <td>2900</td>\n",
       "      <td>0.0</td>\n",
       "      <td>71.0</td>\n",
       "      <td>360.0</td>\n",
       "      <td>1.0</td>\n",
       "      <td>Rural</td>\n",
       "      <td>Y</td>\n",
       "    </tr>\n",
       "    <tr>\n",
       "      <th>610</th>\n",
       "      <td>Male</td>\n",
       "      <td>Yes</td>\n",
       "      <td>3+</td>\n",
       "      <td>Graduate</td>\n",
       "      <td>No</td>\n",
       "      <td>4106</td>\n",
       "      <td>0.0</td>\n",
       "      <td>40.0</td>\n",
       "      <td>180.0</td>\n",
       "      <td>1.0</td>\n",
       "      <td>Rural</td>\n",
       "      <td>Y</td>\n",
       "    </tr>\n",
       "    <tr>\n",
       "      <th>611</th>\n",
       "      <td>Male</td>\n",
       "      <td>Yes</td>\n",
       "      <td>1</td>\n",
       "      <td>Graduate</td>\n",
       "      <td>No</td>\n",
       "      <td>8072</td>\n",
       "      <td>240.0</td>\n",
       "      <td>253.0</td>\n",
       "      <td>360.0</td>\n",
       "      <td>1.0</td>\n",
       "      <td>Urban</td>\n",
       "      <td>Y</td>\n",
       "    </tr>\n",
       "    <tr>\n",
       "      <th>612</th>\n",
       "      <td>Male</td>\n",
       "      <td>Yes</td>\n",
       "      <td>2</td>\n",
       "      <td>Graduate</td>\n",
       "      <td>No</td>\n",
       "      <td>7583</td>\n",
       "      <td>0.0</td>\n",
       "      <td>187.0</td>\n",
       "      <td>360.0</td>\n",
       "      <td>1.0</td>\n",
       "      <td>Urban</td>\n",
       "      <td>Y</td>\n",
       "    </tr>\n",
       "    <tr>\n",
       "      <th>613</th>\n",
       "      <td>Female</td>\n",
       "      <td>No</td>\n",
       "      <td>0</td>\n",
       "      <td>Graduate</td>\n",
       "      <td>Yes</td>\n",
       "      <td>4583</td>\n",
       "      <td>0.0</td>\n",
       "      <td>133.0</td>\n",
       "      <td>360.0</td>\n",
       "      <td>0.0</td>\n",
       "      <td>Semiurban</td>\n",
       "      <td>N</td>\n",
       "    </tr>\n",
       "  </tbody>\n",
       "</table>\n",
       "</div>"
      ],
      "text/plain": [
       "     Gender Married Dependents Education Self_Employed  ApplicantIncome  \\\n",
       "609  Female      No          0  Graduate            No             2900   \n",
       "610    Male     Yes         3+  Graduate            No             4106   \n",
       "611    Male     Yes          1  Graduate            No             8072   \n",
       "612    Male     Yes          2  Graduate            No             7583   \n",
       "613  Female      No          0  Graduate           Yes             4583   \n",
       "\n",
       "     CoapplicantIncome  LoanAmount(Thousands)  Loan_Term(months)  \\\n",
       "609                0.0                   71.0              360.0   \n",
       "610                0.0                   40.0              180.0   \n",
       "611              240.0                  253.0              360.0   \n",
       "612                0.0                  187.0              360.0   \n",
       "613                0.0                  133.0              360.0   \n",
       "\n",
       "     Credit_History Property_Area Loan_Status  \n",
       "609             1.0         Rural           Y  \n",
       "610             1.0         Rural           Y  \n",
       "611             1.0         Urban           Y  \n",
       "612             1.0         Urban           Y  \n",
       "613             0.0     Semiurban           N  "
      ]
     },
     "execution_count": 140,
     "metadata": {},
     "output_type": "execute_result"
    }
   ],
   "source": [
    "loans.tail()"
   ]
  },
  {
   "cell_type": "markdown",
   "id": "d5991c6f-fd8a-457c-a915-f37f97250a07",
   "metadata": {},
   "source": [
    "<h1>Checking values</h1>\n",
    "<p>In this section, we checked whether the values of the columns for unique values and the data types in the data set</p>"
   ]
  },
  {
   "cell_type": "markdown",
   "id": "c6ab5fb8-f841-4b4e-9d38-750b2ff2d4eb",
   "metadata": {},
   "source": [
    "<ol style= \"font-weight: bold;\">\n",
    "    <h3>1. Gender</h3>\n",
    "</ol>\n",
    "<p>Missing values were omitted</p>\n"
   ]
  },
  {
   "cell_type": "code",
   "execution_count": 141,
   "id": "9ff1f05f-74d4-4438-b85f-9c6c45ee8629",
   "metadata": {},
   "outputs": [
    {
     "data": {
      "text/plain": [
       "array(['Male', 'Female'], dtype=object)"
      ]
     },
     "execution_count": 141,
     "metadata": {},
     "output_type": "execute_result"
    }
   ],
   "source": [
    "loans['Gender'].unique()"
   ]
  },
  {
   "cell_type": "markdown",
   "id": "77ecb89f-a902-489a-8cb2-ca9e6f317359",
   "metadata": {},
   "source": [
    "<ol style= \"font-weight: bold;\">\n",
    "    <h3>2. Married</h3>\n",
    "</ol>\n",
    "<p>Missing values were omitted</p>\n"
   ]
  },
  {
   "cell_type": "code",
   "execution_count": 142,
   "id": "f0c648bf-116d-4ab5-b338-fd3124430c0e",
   "metadata": {},
   "outputs": [
    {
     "data": {
      "text/plain": [
       "array(['Yes', 'No'], dtype=object)"
      ]
     },
     "execution_count": 142,
     "metadata": {},
     "output_type": "execute_result"
    }
   ],
   "source": [
    "loans['Married'].unique()"
   ]
  },
  {
   "cell_type": "markdown",
   "id": "4723d527-27f2-47be-8875-292536dfb043",
   "metadata": {},
   "source": [
    "<ol style= \"font-weight: bold;\">\n",
    "    <h3>3. Dependents</h3>\n",
    "</ol>\n"
   ]
  },
  {
   "cell_type": "code",
   "execution_count": 143,
   "id": "dc9a0568-7b08-4336-84d2-b381687faf22",
   "metadata": {},
   "outputs": [],
   "source": [
    "# Function to strip non-numeric characters which in this case is the plus sign after 3\n",
    "def strip_non_numbers(value):\n",
    "     # Use regular expression to replace non-numeric characters with an empty string\n",
    "     #calls on the imported library\n",
    "     return re.sub(r'\\D', '', str(value))\n",
    "\n",
    " # Apply the function to the specific column\n",
    "loans['Dependents'] = loans['Dependents'].apply(strip_non_numbers)"
   ]
  },
  {
   "cell_type": "code",
   "execution_count": 144,
   "id": "9e8c9204-6e2d-4630-bba9-14b18fe79bfb",
   "metadata": {},
   "outputs": [
    {
     "data": {
      "text/html": [
       "<div>\n",
       "<style scoped>\n",
       "    .dataframe tbody tr th:only-of-type {\n",
       "        vertical-align: middle;\n",
       "    }\n",
       "\n",
       "    .dataframe tbody tr th {\n",
       "        vertical-align: top;\n",
       "    }\n",
       "\n",
       "    .dataframe thead th {\n",
       "        text-align: right;\n",
       "    }\n",
       "</style>\n",
       "<table border=\"1\" class=\"dataframe\">\n",
       "  <thead>\n",
       "    <tr style=\"text-align: right;\">\n",
       "      <th></th>\n",
       "      <th>Gender</th>\n",
       "      <th>Married</th>\n",
       "      <th>Dependents</th>\n",
       "      <th>Education</th>\n",
       "      <th>Self_Employed</th>\n",
       "      <th>ApplicantIncome</th>\n",
       "      <th>CoapplicantIncome</th>\n",
       "      <th>LoanAmount(Thousands)</th>\n",
       "      <th>Loan_Term(months)</th>\n",
       "      <th>Credit_History</th>\n",
       "      <th>Property_Area</th>\n",
       "      <th>Loan_Status</th>\n",
       "    </tr>\n",
       "  </thead>\n",
       "  <tbody>\n",
       "    <tr>\n",
       "      <th>609</th>\n",
       "      <td>Female</td>\n",
       "      <td>No</td>\n",
       "      <td>0</td>\n",
       "      <td>Graduate</td>\n",
       "      <td>No</td>\n",
       "      <td>2900</td>\n",
       "      <td>0.0</td>\n",
       "      <td>71.0</td>\n",
       "      <td>360.0</td>\n",
       "      <td>1.0</td>\n",
       "      <td>Rural</td>\n",
       "      <td>Y</td>\n",
       "    </tr>\n",
       "    <tr>\n",
       "      <th>610</th>\n",
       "      <td>Male</td>\n",
       "      <td>Yes</td>\n",
       "      <td>3</td>\n",
       "      <td>Graduate</td>\n",
       "      <td>No</td>\n",
       "      <td>4106</td>\n",
       "      <td>0.0</td>\n",
       "      <td>40.0</td>\n",
       "      <td>180.0</td>\n",
       "      <td>1.0</td>\n",
       "      <td>Rural</td>\n",
       "      <td>Y</td>\n",
       "    </tr>\n",
       "    <tr>\n",
       "      <th>611</th>\n",
       "      <td>Male</td>\n",
       "      <td>Yes</td>\n",
       "      <td>1</td>\n",
       "      <td>Graduate</td>\n",
       "      <td>No</td>\n",
       "      <td>8072</td>\n",
       "      <td>240.0</td>\n",
       "      <td>253.0</td>\n",
       "      <td>360.0</td>\n",
       "      <td>1.0</td>\n",
       "      <td>Urban</td>\n",
       "      <td>Y</td>\n",
       "    </tr>\n",
       "    <tr>\n",
       "      <th>612</th>\n",
       "      <td>Male</td>\n",
       "      <td>Yes</td>\n",
       "      <td>2</td>\n",
       "      <td>Graduate</td>\n",
       "      <td>No</td>\n",
       "      <td>7583</td>\n",
       "      <td>0.0</td>\n",
       "      <td>187.0</td>\n",
       "      <td>360.0</td>\n",
       "      <td>1.0</td>\n",
       "      <td>Urban</td>\n",
       "      <td>Y</td>\n",
       "    </tr>\n",
       "    <tr>\n",
       "      <th>613</th>\n",
       "      <td>Female</td>\n",
       "      <td>No</td>\n",
       "      <td>0</td>\n",
       "      <td>Graduate</td>\n",
       "      <td>Yes</td>\n",
       "      <td>4583</td>\n",
       "      <td>0.0</td>\n",
       "      <td>133.0</td>\n",
       "      <td>360.0</td>\n",
       "      <td>0.0</td>\n",
       "      <td>Semiurban</td>\n",
       "      <td>N</td>\n",
       "    </tr>\n",
       "  </tbody>\n",
       "</table>\n",
       "</div>"
      ],
      "text/plain": [
       "     Gender Married Dependents Education Self_Employed  ApplicantIncome  \\\n",
       "609  Female      No          0  Graduate            No             2900   \n",
       "610    Male     Yes          3  Graduate            No             4106   \n",
       "611    Male     Yes          1  Graduate            No             8072   \n",
       "612    Male     Yes          2  Graduate            No             7583   \n",
       "613  Female      No          0  Graduate           Yes             4583   \n",
       "\n",
       "     CoapplicantIncome  LoanAmount(Thousands)  Loan_Term(months)  \\\n",
       "609                0.0                   71.0              360.0   \n",
       "610                0.0                   40.0              180.0   \n",
       "611              240.0                  253.0              360.0   \n",
       "612                0.0                  187.0              360.0   \n",
       "613                0.0                  133.0              360.0   \n",
       "\n",
       "     Credit_History Property_Area Loan_Status  \n",
       "609             1.0         Rural           Y  \n",
       "610             1.0         Rural           Y  \n",
       "611             1.0         Urban           Y  \n",
       "612             1.0         Urban           Y  \n",
       "613             0.0     Semiurban           N  "
      ]
     },
     "execution_count": 144,
     "metadata": {},
     "output_type": "execute_result"
    }
   ],
   "source": [
    "loans.tail()\n",
    "#results below show that the '+' has been removed"
   ]
  },
  {
   "cell_type": "markdown",
   "id": "22b8492d-b634-48f6-af9e-545f2148d741",
   "metadata": {},
   "source": [
    "<ol style= \"font-weight: bold;\">\n",
    "    <h3>4. Education</h3>\n",
    "</ol>\n"
   ]
  },
  {
   "cell_type": "code",
   "execution_count": 145,
   "id": "5303c131-197e-4105-a863-e2b4be386e18",
   "metadata": {},
   "outputs": [
    {
     "data": {
      "text/plain": [
       "array(['Graduate', 'Not Graduate'], dtype=object)"
      ]
     },
     "execution_count": 145,
     "metadata": {},
     "output_type": "execute_result"
    }
   ],
   "source": [
    "loans['Education'].unique()"
   ]
  },
  {
   "cell_type": "markdown",
   "id": "9e75f7e5-069b-46aa-81ff-3207cbf7953c",
   "metadata": {},
   "source": [
    "<ol style= \"font-weight: bold;\">\n",
    "    <h3>5. Self_Employed</h3>\n",
    "</ol>\n"
   ]
  },
  {
   "cell_type": "code",
   "execution_count": 146,
   "id": "ef53e77e-34b0-49d2-ab36-d6d828e110e3",
   "metadata": {},
   "outputs": [
    {
     "data": {
      "text/plain": [
       "array(['No', 'Yes'], dtype=object)"
      ]
     },
     "execution_count": 146,
     "metadata": {},
     "output_type": "execute_result"
    }
   ],
   "source": [
    "loans['Self_Employed'].unique()"
   ]
  },
  {
   "cell_type": "markdown",
   "id": "399e6bcf-ee98-4ddc-82b0-26f144253ee8",
   "metadata": {},
   "source": [
    "<ol style= \"font-weight: bold;\">\n",
    "    <h3>6. Applicant Income</h3>\n",
    "</ol>"
   ]
  },
  {
   "cell_type": "code",
   "execution_count": 147,
   "id": "8e307cce-4fa3-46ce-b735-36e6cf286cf8",
   "metadata": {},
   "outputs": [
    {
     "data": {
      "text/plain": [
       "array([ 4583,  3000,  2583,  6000,  5417,  2333,  3036,  4006, 12841,\n",
       "        3200,  3073,  1853,  1299,  4950,  3510,  4887,  7660,  5955,\n",
       "        2600,  9560,  2799,  4226,  1442,  3167,  4692,  3500, 12500,\n",
       "        3667,  4166,  3748,  3600,  1800,  3941,  5649,  5821,  2645,\n",
       "        4000,  1928,  3086,  4230,  4616, 11500,  2708,  2132,  3366,\n",
       "        8080,  3357,  2500,  3029,  2609,  5726, 10750,  7100,  4300,\n",
       "        3208,  1875,  5266,  3750,  1000,  3846,  1378,  3988,  2366,\n",
       "        8566,  5695,  2958,  6250,  3273,  4133,  3620,  2484,  1977,\n",
       "        4188,  1759,  4288,  4843,  3052, 11417,  3800,  2071,  5316,\n",
       "       14583,  5568, 10408,  2137,  2957, 10513,  2014,  2718,  3459,\n",
       "        4895,  3316, 14999,  4200,  5042,  6950,  2698, 11757,  2330,\n",
       "       14866,  1538, 10000,  4860,  6277,  2577,  9166,  2281,  3254,\n",
       "       39999,  9538,  1863,  7933,  3089,  4167,  9323,  2439,  2237,\n",
       "        8000,  3522,  5708,  4344,  3497,  2045,  5516,  6400,  4600,\n",
       "       33846,  3625, 39147,  2178,  9328,  4885, 12000,  6033,  3858,\n",
       "        4191,  3125,  8333, 11000,  4923,  3917,  4408,  3244,  3975,\n",
       "        2479,  3418,  3430,  7787,  5703,  3173,  3850,   150,  3727,\n",
       "        2221,  4009,  2971,  3250,  2491,  3155,  5500,  3812,  3315,\n",
       "        5819,  2510,  2965,  3406,  6050,  9703,  6608,  2882,  1809,\n",
       "        1668,  3427,  2661, 16250,  3083,  6045,  5250, 14683,  2060,\n",
       "        3481,  7200,  5166,  4095,  4708,  4333,  2876,  3237, 11146,\n",
       "        2833,  2620,  3900,  2750,  3993,  3103,  4053,  3927,  2301,\n",
       "        1811,  3158,  3704,  4124,  9508,  3075,  4400,  3153,  2383,\n",
       "        6875,  4666,  5000,  1625,  3762,  2400, 20233,  2917,  2927,\n",
       "        2507,  3399,  3717,  4342, 15000,  8666,  4917,  5818,  4384,\n",
       "        2935,  4160,  2647,  2378,  4554,  2499,  2625,  9083,  8750,\n",
       "        2666,  2423,  3875,  5167,  4723,  4750,  6822,  6216,  6325,\n",
       "       19730, 15759,  5185,  3062,  4817,  3069,  5391,  5941,  7167,\n",
       "        4566,  2346,  5488,  9167,  9504,  1993,  3100,  3180,  3033,\n",
       "        3902,  1500,  2889,  2755,  1963,  7441,  4547,  2167,  2213,\n",
       "        8300, 81000,  3867,  6096,  2253,  2149,  2995,  1600,  1025,\n",
       "        3246,  5829,  1820, 14880,  4606,  5935,  2920,  2717,  8624,\n",
       "        6500,  2425,  1926, 10416,  7142,  3660,  7901,  4707, 37719,\n",
       "        3466,  4652,  3340,  2309,  3948,  2483,  7085,  3859,  4301,\n",
       "        3708,  4354,  8334,  7740,  3015,  2947,  3450,  2653,  4691,\n",
       "        5532, 16525,  6700, 16667,  4350,  3095,  2083, 10833,  1958,\n",
       "        3547, 18333,  2435,  3691, 17263,  3597,  3326,  2895,  6283,\n",
       "         645,  3159,  4865,  3814, 13262,  3598,  6065,  3283,  2130,\n",
       "        5815,  2031,  4683,  3400,  2192,  5677,  7948, 17500,  3775,\n",
       "        5285,  2679,  6783,  4281,  3588, 18165,  6133,  3617,  6417,\n",
       "        4608,  2138,  2239,  2768,  3358,  2526,  2785,  3333,  2454,\n",
       "        3593,  5468, 10139,  3887,  4180,  3675, 19484,  5923,  5800,\n",
       "        8799,  3166,  3417, 16666,  6125,  6406,  3229,  1782,  6540,\n",
       "        1836,  2787,  4283,  2297,  2165,  2726, 16120,  3833,  6383,\n",
       "        9963,  5780,  3676,  3987,  3232,  2900,  4106,  8072,  7583])"
      ]
     },
     "execution_count": 147,
     "metadata": {},
     "output_type": "execute_result"
    }
   ],
   "source": [
    "loans['ApplicantIncome'].unique()"
   ]
  },
  {
   "cell_type": "markdown",
   "id": "0bf4cc99-ab2e-4963-964e-f0b5dcb1d683",
   "metadata": {},
   "source": [
    "<ol style= \"font-weight: bold;\">\n",
    "    <h3>7. Coapplicant Income</h3>\n",
    "</ol>"
   ]
  },
  {
   "cell_type": "code",
   "execution_count": 148,
   "id": "df288f72-f305-4e7b-8d3c-8630dd9d5c15",
   "metadata": {},
   "outputs": [
    {
     "data": {
      "text/plain": [
       "array([1.50800000e+03, 0.00000000e+00, 2.35800000e+03, 4.19600000e+03,\n",
       "       1.51600000e+03, 2.50400000e+03, 1.52600000e+03, 1.09680000e+04,\n",
       "       7.00000000e+02, 8.10600000e+03, 2.84000000e+03, 1.08600000e+03,\n",
       "       5.62500000e+03, 1.91100000e+03, 2.25300000e+03, 1.04000000e+03,\n",
       "       1.66700000e+03, 3.00000000e+03, 1.45900000e+03, 7.21000000e+03,\n",
       "       1.66800000e+03, 1.21300000e+03, 2.33600000e+03, 3.44000000e+03,\n",
       "       2.27500000e+03, 1.64400000e+03, 1.16700000e+03, 1.59100000e+03,\n",
       "       2.20000000e+03, 2.25000000e+03, 2.85900000e+03, 3.79600000e+03,\n",
       "       3.44900000e+03, 4.59500000e+03, 2.25400000e+03, 3.06600000e+03,\n",
       "       1.87500000e+03, 1.77400000e+03, 4.75000000e+03, 3.02200000e+03,\n",
       "       4.00000000e+03, 1.88100000e+03, 2.53100000e+03, 2.11800000e+03,\n",
       "       4.16700000e+03, 2.90000000e+03, 5.65400000e+03, 1.82000000e+03,\n",
       "       2.30200000e+03, 9.97000000e+02, 3.54100000e+03, 3.26300000e+03,\n",
       "       3.80600000e+03, 1.03000000e+03, 1.12600000e+03, 3.60000000e+03,\n",
       "       7.54000000e+02, 2.28300000e+03, 2.14200000e+03, 8.98000000e+03,\n",
       "       2.01400000e+03, 3.85000000e+03, 1.92900000e+03, 7.75000000e+03,\n",
       "       3.50000000e+03, 1.43000000e+03, 2.08300000e+03, 2.03400000e+03,\n",
       "       4.48600000e+03, 1.42500000e+03, 1.66600000e+03, 8.30000000e+02,\n",
       "       3.75000000e+03, 1.04100000e+03, 1.28000000e+03, 1.44700000e+03,\n",
       "       3.33300000e+03, 7.36000000e+02, 1.96400000e+03, 1.61900000e+03,\n",
       "       1.13000000e+04, 1.45100000e+03, 7.25000000e+03, 2.58300000e+03,\n",
       "       2.50000000e+03, 1.08300000e+03, 1.25000000e+03, 3.02100000e+03,\n",
       "       9.83000000e+02, 1.80000000e+03, 1.77500000e+03, 1.71700000e+03,\n",
       "       2.79100000e+03, 1.69500000e+03, 2.05400000e+03, 1.77900000e+03,\n",
       "       1.26000000e+03, 5.00000000e+03, 1.98300000e+03, 5.70100000e+03,\n",
       "       1.30000000e+03, 4.41700000e+03, 4.33300000e+03, 1.84300000e+03,\n",
       "       1.86800000e+03, 3.89000000e+03, 2.16700000e+03, 7.10100000e+03,\n",
       "       2.10000000e+03, 2.20900000e+03, 3.44700000e+03, 1.38700000e+03,\n",
       "       1.81100000e+03, 1.56000000e+03, 1.85700000e+03, 2.22300000e+03,\n",
       "       1.84200000e+03, 3.27400000e+03, 2.42600000e+03, 8.00000000e+02,\n",
       "       9.85799988e+02, 3.05300000e+03, 2.00000000e+03, 2.41600000e+03,\n",
       "       3.33400000e+03, 2.54100000e+03, 2.92500000e+03, 2.93400000e+03,\n",
       "       1.80300000e+03, 1.86300000e+03, 2.40500000e+03, 1.64000000e+03,\n",
       "       1.89000000e+02, 4.98300000e+03, 2.16000000e+03, 2.45100000e+03,\n",
       "       1.79300000e+03, 4.60000000e+03, 1.58700000e+03, 1.22900000e+03,\n",
       "       2.45800000e+03, 2.16800000e+03, 6.25000000e+03, 5.05000000e+02,\n",
       "       3.16700000e+03, 3.66700000e+03, 2.33300000e+03, 5.26600000e+03,\n",
       "       7.87300000e+03, 1.98700000e+03, 9.23000000e+02, 4.99600000e+03,\n",
       "       4.23200000e+03, 1.60000000e+03, 2.41700000e+03, 1.62500000e+03,\n",
       "       1.40000000e+03, 2.00000000e+04, 2.40000000e+03, 2.03300000e+03,\n",
       "       3.23700000e+03, 2.77300000e+03, 1.41700000e+03, 1.71900000e+03,\n",
       "       4.30000000e+03, 1.61200008e+01, 2.34000000e+03, 1.85100000e+03,\n",
       "       5.06400000e+03, 1.83300000e+03, 1.99300000e+03, 1.21000000e+03,\n",
       "       1.71000000e+03, 1.25500000e+03, 1.73300000e+03, 2.46600000e+03,\n",
       "       2.56900000e+03, 2.18800000e+03, 1.66400000e+03, 2.07900000e+03,\n",
       "       1.50000000e+03, 4.64800000e+03, 1.01400000e+03, 1.75000000e+03,\n",
       "       3.15000000e+03, 2.43600000e+03, 2.15700000e+03, 9.13000000e+02,\n",
       "       1.70000000e+03, 4.41600000e+03, 3.68300000e+03, 5.62400000e+03,\n",
       "       1.48300000e+03, 3.01300000e+03, 1.28700000e+03, 2.00400000e+03,\n",
       "       2.03500000e+03, 6.66600000e+03, 3.66600000e+03, 3.42800000e+03,\n",
       "       1.63200000e+03, 1.91500000e+03, 1.74200000e+03, 1.42400000e+03,\n",
       "       7.16600000e+03, 1.30200000e+03, 3.90600000e+03, 5.36000000e+02,\n",
       "       2.84500000e+03, 2.52400000e+03, 1.95000000e+03, 1.78300000e+03,\n",
       "       2.01600000e+03, 3.25000000e+03, 4.26600000e+03, 1.03200000e+03,\n",
       "       2.66900000e+03, 2.30600000e+03, 2.42000000e+02, 2.06400000e+03,\n",
       "       4.61000000e+02, 2.73900000e+03, 2.23200000e+03, 3.38370000e+04,\n",
       "       1.91700000e+03, 1.52200000e+03, 3.41600000e+03, 3.30000000e+03,\n",
       "       1.00000000e+03, 4.30100000e+03, 1.41100000e+03, 2.40000000e+02])"
      ]
     },
     "execution_count": 148,
     "metadata": {},
     "output_type": "execute_result"
    }
   ],
   "source": [
    "loans['CoapplicantIncome'].unique()"
   ]
  },
  {
   "cell_type": "code",
   "execution_count": 149,
   "id": "145647fe-4e51-4144-a800-06069806d365",
   "metadata": {},
   "outputs": [],
   "source": [
    "#change the data type to integers\n",
    "loans['CoapplicantIncome'] = loans['CoapplicantIncome'].astype(int)\n"
   ]
  },
  {
   "cell_type": "code",
   "execution_count": 150,
   "id": "371b2ac0-c5b4-49c3-8dd8-f902d8b97add",
   "metadata": {},
   "outputs": [
    {
     "data": {
      "text/plain": [
       "array([ 1508,     0,  2358,  4196,  1516,  2504,  1526, 10968,   700,\n",
       "        8106,  2840,  1086,  5625,  1911,  2253,  1040,  1667,  3000,\n",
       "        1459,  7210,  1668,  1213,  2336,  3440,  2275,  1644,  1167,\n",
       "        1591,  2200,  2250,  2859,  3796,  3449,  4595,  2254,  3066,\n",
       "        1875,  1774,  4750,  3022,  4000,  1881,  2531,  2118,  4167,\n",
       "        2900,  5654,  1820,  2302,   997,  3541,  3263,  3806,  1030,\n",
       "        1126,  3600,   754,  2283,  2142,  8980,  2014,  3850,  1929,\n",
       "        7750,  3500,  1430,  2083,  2034,  4486,  1425,  1666,   830,\n",
       "        3750,  1041,  1280,  1447,  3333,   736,  1964,  1619, 11300,\n",
       "        1451,  7250,  2583,  2500,  1083,  1250,  3021,   983,  1800,\n",
       "        1775,  1717,  2791,  1695,  2054,  1779,  1260,  5000,  1983,\n",
       "        5701,  1300,  4417,  4333,  1843,  1868,  3890,  2167,  7101,\n",
       "        2100,  2209,  3447,  1387,  1811,  1560,  1857,  2223,  1842,\n",
       "        3274,  2426,   800,   985,  3053,  2000,  2416,  3334,  2541,\n",
       "        2925,  2934,  1803,  1863,  2405,  1640,   189,  4983,  2160,\n",
       "        2451,  1793,  4600,  1587,  1229,  2458,  2168,  6250,   505,\n",
       "        3167,  3667,  2333,  5266,  7873,  1987,   923,  4996,  4232,\n",
       "        1600,  2417,  1625,  1400, 20000,  2400,  2033,  3237,  2773,\n",
       "        1417,  1719,  4300,    16,  2340,  1851,  5064,  1833,  1993,\n",
       "        1210,  1710,  1255,  1733,  2466,  2569,  2188,  1664,  2079,\n",
       "        1500,  4648,  1014,  1750,  3150,  2436,  2157,   913,  1700,\n",
       "        4416,  3683,  5624,  1483,  3013,  1287,  2004,  2035,  6666,\n",
       "        3666,  3428,  1632,  1915,  1742,  1424,  7166,  1302,  3906,\n",
       "         536,  2845,  2524,  1950,  1783,  2016,  3250,  4266,  1032,\n",
       "        2669,  2306,   242,  2064,   461,  2739,  2232, 33837,  1917,\n",
       "        1522,  3416,  3300,  1000,  4301,  1411,   240])"
      ]
     },
     "execution_count": 150,
     "metadata": {},
     "output_type": "execute_result"
    }
   ],
   "source": [
    "#to verify if the change has been made\n",
    "loans['CoapplicantIncome'].unique()"
   ]
  },
  {
   "cell_type": "code",
   "execution_count": 151,
   "id": "e7c72e98-310d-429c-a181-28d7afd6f60e",
   "metadata": {},
   "outputs": [
    {
     "data": {
      "text/html": [
       "<div>\n",
       "<style scoped>\n",
       "    .dataframe tbody tr th:only-of-type {\n",
       "        vertical-align: middle;\n",
       "    }\n",
       "\n",
       "    .dataframe tbody tr th {\n",
       "        vertical-align: top;\n",
       "    }\n",
       "\n",
       "    .dataframe thead th {\n",
       "        text-align: right;\n",
       "    }\n",
       "</style>\n",
       "<table border=\"1\" class=\"dataframe\">\n",
       "  <thead>\n",
       "    <tr style=\"text-align: right;\">\n",
       "      <th></th>\n",
       "      <th>Gender</th>\n",
       "      <th>Married</th>\n",
       "      <th>Dependents</th>\n",
       "      <th>Education</th>\n",
       "      <th>Self_Employed</th>\n",
       "      <th>ApplicantIncome</th>\n",
       "      <th>CoapplicantIncome</th>\n",
       "      <th>TotalIncome</th>\n",
       "      <th>LoanAmount(Thousands)</th>\n",
       "      <th>Loan_Term(months)</th>\n",
       "      <th>Credit_History</th>\n",
       "      <th>Property_Area</th>\n",
       "      <th>Loan_Status</th>\n",
       "    </tr>\n",
       "  </thead>\n",
       "  <tbody>\n",
       "    <tr>\n",
       "      <th>1</th>\n",
       "      <td>Male</td>\n",
       "      <td>Yes</td>\n",
       "      <td>1</td>\n",
       "      <td>Graduate</td>\n",
       "      <td>No</td>\n",
       "      <td>4583</td>\n",
       "      <td>1508</td>\n",
       "      <td>6091</td>\n",
       "      <td>128.0</td>\n",
       "      <td>360.0</td>\n",
       "      <td>1.0</td>\n",
       "      <td>Rural</td>\n",
       "      <td>N</td>\n",
       "    </tr>\n",
       "    <tr>\n",
       "      <th>2</th>\n",
       "      <td>Male</td>\n",
       "      <td>Yes</td>\n",
       "      <td>0</td>\n",
       "      <td>Graduate</td>\n",
       "      <td>Yes</td>\n",
       "      <td>3000</td>\n",
       "      <td>0</td>\n",
       "      <td>3000</td>\n",
       "      <td>66.0</td>\n",
       "      <td>360.0</td>\n",
       "      <td>1.0</td>\n",
       "      <td>Urban</td>\n",
       "      <td>Y</td>\n",
       "    </tr>\n",
       "    <tr>\n",
       "      <th>3</th>\n",
       "      <td>Male</td>\n",
       "      <td>Yes</td>\n",
       "      <td>0</td>\n",
       "      <td>Not Graduate</td>\n",
       "      <td>No</td>\n",
       "      <td>2583</td>\n",
       "      <td>2358</td>\n",
       "      <td>4941</td>\n",
       "      <td>120.0</td>\n",
       "      <td>360.0</td>\n",
       "      <td>1.0</td>\n",
       "      <td>Urban</td>\n",
       "      <td>Y</td>\n",
       "    </tr>\n",
       "    <tr>\n",
       "      <th>4</th>\n",
       "      <td>Male</td>\n",
       "      <td>No</td>\n",
       "      <td>0</td>\n",
       "      <td>Graduate</td>\n",
       "      <td>No</td>\n",
       "      <td>6000</td>\n",
       "      <td>0</td>\n",
       "      <td>6000</td>\n",
       "      <td>141.0</td>\n",
       "      <td>360.0</td>\n",
       "      <td>1.0</td>\n",
       "      <td>Urban</td>\n",
       "      <td>Y</td>\n",
       "    </tr>\n",
       "    <tr>\n",
       "      <th>5</th>\n",
       "      <td>Male</td>\n",
       "      <td>Yes</td>\n",
       "      <td>2</td>\n",
       "      <td>Graduate</td>\n",
       "      <td>Yes</td>\n",
       "      <td>5417</td>\n",
       "      <td>4196</td>\n",
       "      <td>9613</td>\n",
       "      <td>267.0</td>\n",
       "      <td>360.0</td>\n",
       "      <td>1.0</td>\n",
       "      <td>Urban</td>\n",
       "      <td>Y</td>\n",
       "    </tr>\n",
       "  </tbody>\n",
       "</table>\n",
       "</div>"
      ],
      "text/plain": [
       "  Gender Married Dependents     Education Self_Employed  ApplicantIncome  \\\n",
       "1   Male     Yes          1      Graduate            No             4583   \n",
       "2   Male     Yes          0      Graduate           Yes             3000   \n",
       "3   Male     Yes          0  Not Graduate            No             2583   \n",
       "4   Male      No          0      Graduate            No             6000   \n",
       "5   Male     Yes          2      Graduate           Yes             5417   \n",
       "\n",
       "   CoapplicantIncome  TotalIncome  LoanAmount(Thousands)  Loan_Term(months)  \\\n",
       "1               1508         6091                  128.0              360.0   \n",
       "2                  0         3000                   66.0              360.0   \n",
       "3               2358         4941                  120.0              360.0   \n",
       "4                  0         6000                  141.0              360.0   \n",
       "5               4196         9613                  267.0              360.0   \n",
       "\n",
       "   Credit_History Property_Area Loan_Status  \n",
       "1             1.0         Rural           N  \n",
       "2             1.0         Urban           Y  \n",
       "3             1.0         Urban           Y  \n",
       "4             1.0         Urban           Y  \n",
       "5             1.0         Urban           Y  "
      ]
     },
     "execution_count": 151,
     "metadata": {},
     "output_type": "execute_result"
    }
   ],
   "source": [
    "# Adding a new column 'TotalIncome' which is the sum of 'ApplicantIncome' and 'CoapplicantIncome'\n",
    "loans['TotalIncome'] = loans['ApplicantIncome'] + loans['CoapplicantIncome']\n",
    "\n",
    "#adding the column after coaaplicantincome column\n",
    "coapp = loans.columns.get_loc('CoapplicantIncome')+1\n",
    "\n",
    "new_col = loans.columns.to_list()\n",
    "new_col.insert(coapp, new_col.pop(new_col.index('TotalIncome')))\n",
    "loans = loans[new_col]\n",
    "\n",
    "# To check the dataset to ensure the new column has been added using the function above\n",
    "loans.head()"
   ]
  },
  {
   "cell_type": "markdown",
   "id": "ecff6c99-1701-4175-94b6-4c31117d6406",
   "metadata": {},
   "source": [
    "<ol style= \"font-weight: bold;\">\n",
    "    <h3>8. Loan Amount(Thousands)</h3>\n",
    "</ol>"
   ]
  },
  {
   "cell_type": "code",
   "execution_count": 152,
   "id": "db8f13f2-c765-45d8-bbc1-09c2a6b1add7",
   "metadata": {},
   "outputs": [
    {
     "data": {
      "text/plain": [
       "array([128.,  66., 120., 141., 267.,  95., 158., 168., 349.,  70., 200.,\n",
       "       114.,  17., 125.,  76., 133., 104., 315., 116., 191., 122., 110.,\n",
       "        35.,  74., 106., 320., 144., 184.,  80.,  47., 134.,  44., 100.,\n",
       "       112., 286.,  97.,  96., 135., 180.,  99., 165., 258., 126., 312.,\n",
       "       136., 172.,  81., 187., 113., 176., 111., 167.,  50., 210., 175.,\n",
       "       131., 188.,  25., 137., 115., 151., 225., 216.,  94., 185., 154.,\n",
       "       259., 194., 160., 102., 290.,  84.,  88., 242., 129.,  30., 118.,\n",
       "       152., 244., 600., 255.,  98., 275., 121.,  75.,  63.,  87., 101.,\n",
       "       495.,  73., 260., 108.,  48., 164., 170.,  83.,  90., 166., 124.,\n",
       "        55.,  59., 127., 214., 240., 130.,  60., 280., 140., 155., 123.,\n",
       "       201., 138., 279., 192., 304., 150., 207., 436.,  78.,  54.,  89.,\n",
       "       139.,  93., 132., 480.,  56., 300., 376.,  67., 117.,  71., 173.,\n",
       "        46., 228., 308., 105., 236., 570., 380., 296., 156., 109., 103.,\n",
       "        45.,  65.,  53., 360.,  62., 218., 178., 239., 143., 148., 149.,\n",
       "       153., 162., 230.,  86., 234., 246., 500., 119., 107., 209., 208.,\n",
       "       243.,  40., 250., 311., 400., 161., 324., 157., 145., 181.,  26.,\n",
       "       182., 211.,   9., 186., 205.,  36., 146., 142., 496., 253.])"
      ]
     },
     "execution_count": 152,
     "metadata": {},
     "output_type": "execute_result"
    }
   ],
   "source": [
    "loans['LoanAmount(Thousands)'].unique()"
   ]
  },
  {
   "cell_type": "code",
   "execution_count": 153,
   "id": "12ecf934-283a-4d6e-a0ad-ee0a469b2f36",
   "metadata": {},
   "outputs": [
    {
     "data": {
      "text/html": [
       "<div>\n",
       "<style scoped>\n",
       "    .dataframe tbody tr th:only-of-type {\n",
       "        vertical-align: middle;\n",
       "    }\n",
       "\n",
       "    .dataframe tbody tr th {\n",
       "        vertical-align: top;\n",
       "    }\n",
       "\n",
       "    .dataframe thead th {\n",
       "        text-align: right;\n",
       "    }\n",
       "</style>\n",
       "<table border=\"1\" class=\"dataframe\">\n",
       "  <thead>\n",
       "    <tr style=\"text-align: right;\">\n",
       "      <th></th>\n",
       "      <th>Gender</th>\n",
       "      <th>Married</th>\n",
       "      <th>Dependents</th>\n",
       "      <th>Education</th>\n",
       "      <th>Self_Employed</th>\n",
       "      <th>ApplicantIncome</th>\n",
       "      <th>CoapplicantIncome</th>\n",
       "      <th>TotalIncome</th>\n",
       "      <th>LoanAmount(Thousands)</th>\n",
       "      <th>Loan_Term(months)</th>\n",
       "      <th>Credit_History</th>\n",
       "      <th>Property_Area</th>\n",
       "      <th>Loan_Status</th>\n",
       "    </tr>\n",
       "  </thead>\n",
       "  <tbody>\n",
       "    <tr>\n",
       "      <th>456</th>\n",
       "      <td>Male</td>\n",
       "      <td>Yes</td>\n",
       "      <td>0</td>\n",
       "      <td>Graduate</td>\n",
       "      <td>No</td>\n",
       "      <td>4301</td>\n",
       "      <td>0</td>\n",
       "      <td>4301</td>\n",
       "      <td>118</td>\n",
       "      <td>360.0</td>\n",
       "      <td>1.0</td>\n",
       "      <td>Urban</td>\n",
       "      <td>Y</td>\n",
       "    </tr>\n",
       "  </tbody>\n",
       "</table>\n",
       "</div>"
      ],
      "text/plain": [
       "    Gender Married Dependents Education Self_Employed  ApplicantIncome  \\\n",
       "456   Male     Yes          0  Graduate            No             4301   \n",
       "\n",
       "     CoapplicantIncome  TotalIncome  LoanAmount(Thousands)  Loan_Term(months)  \\\n",
       "456                  0         4301                    118              360.0   \n",
       "\n",
       "     Credit_History Property_Area Loan_Status  \n",
       "456             1.0         Urban           Y  "
      ]
     },
     "execution_count": 153,
     "metadata": {},
     "output_type": "execute_result"
    }
   ],
   "source": [
    "#change the data type to integers\n",
    "loans['LoanAmount(Thousands)'] = loans['LoanAmount(Thousands)'].astype(int)\n",
    "loans.sample(1)"
   ]
  },
  {
   "cell_type": "markdown",
   "id": "4b142472-274b-46eb-91b5-fd3b6983c058",
   "metadata": {},
   "source": [
    "<ol style= \"font-weight: bold;\">\n",
    "    <h3>9. Loan_Term(months)</h3>\n",
    "</ol>"
   ]
  },
  {
   "cell_type": "code",
   "execution_count": 154,
   "id": "a44bfa43-8b0b-483c-b48b-8591daf922e5",
   "metadata": {},
   "outputs": [
    {
     "data": {
      "text/plain": [
       "array([360., 120., 180.,  60., 300., 480., 240.,  36.,  84.])"
      ]
     },
     "execution_count": 154,
     "metadata": {},
     "output_type": "execute_result"
    }
   ],
   "source": [
    "loans['Loan_Term(months)'].unique()"
   ]
  },
  {
   "cell_type": "code",
   "execution_count": 155,
   "id": "e7da9c09-1e7b-4b0c-89dd-78aa2d8f5b93",
   "metadata": {},
   "outputs": [
    {
     "data": {
      "text/html": [
       "<div>\n",
       "<style scoped>\n",
       "    .dataframe tbody tr th:only-of-type {\n",
       "        vertical-align: middle;\n",
       "    }\n",
       "\n",
       "    .dataframe tbody tr th {\n",
       "        vertical-align: top;\n",
       "    }\n",
       "\n",
       "    .dataframe thead th {\n",
       "        text-align: right;\n",
       "    }\n",
       "</style>\n",
       "<table border=\"1\" class=\"dataframe\">\n",
       "  <thead>\n",
       "    <tr style=\"text-align: right;\">\n",
       "      <th></th>\n",
       "      <th>Gender</th>\n",
       "      <th>Married</th>\n",
       "      <th>Dependents</th>\n",
       "      <th>Education</th>\n",
       "      <th>Self_Employed</th>\n",
       "      <th>ApplicantIncome</th>\n",
       "      <th>CoapplicantIncome</th>\n",
       "      <th>TotalIncome</th>\n",
       "      <th>LoanAmount(Thousands)</th>\n",
       "      <th>Loan_Term(months)</th>\n",
       "      <th>Credit_History</th>\n",
       "      <th>Property_Area</th>\n",
       "      <th>Loan_Status</th>\n",
       "    </tr>\n",
       "  </thead>\n",
       "  <tbody>\n",
       "    <tr>\n",
       "      <th>20</th>\n",
       "      <td>Male</td>\n",
       "      <td>Yes</td>\n",
       "      <td>0</td>\n",
       "      <td>Not Graduate</td>\n",
       "      <td>No</td>\n",
       "      <td>7660</td>\n",
       "      <td>0</td>\n",
       "      <td>7660</td>\n",
       "      <td>104</td>\n",
       "      <td>360</td>\n",
       "      <td>0.0</td>\n",
       "      <td>Urban</td>\n",
       "      <td>N</td>\n",
       "    </tr>\n",
       "  </tbody>\n",
       "</table>\n",
       "</div>"
      ],
      "text/plain": [
       "   Gender Married Dependents     Education Self_Employed  ApplicantIncome  \\\n",
       "20   Male     Yes          0  Not Graduate            No             7660   \n",
       "\n",
       "    CoapplicantIncome  TotalIncome  LoanAmount(Thousands)  Loan_Term(months)  \\\n",
       "20                  0         7660                    104                360   \n",
       "\n",
       "    Credit_History Property_Area Loan_Status  \n",
       "20             0.0         Urban           N  "
      ]
     },
     "execution_count": 155,
     "metadata": {},
     "output_type": "execute_result"
    }
   ],
   "source": [
    "#change the data type to integers\n",
    "loans['Loan_Term(months)'] = loans['Loan_Term(months)'].astype(int)\n",
    "loans.sample(1)"
   ]
  },
  {
   "cell_type": "markdown",
   "id": "c16162b4-d26a-4480-bced-76ed57618546",
   "metadata": {},
   "source": [
    "<ol style= \"font-weight: bold;\">\n",
    "    <h3>10. Credit History</h3>\n",
    "</ol>"
   ]
  },
  {
   "cell_type": "code",
   "execution_count": 156,
   "id": "a2b76f27-9e8f-4db3-9d7b-25c18c77cc7e",
   "metadata": {},
   "outputs": [
    {
     "data": {
      "text/plain": [
       "array([1., 0.])"
      ]
     },
     "execution_count": 156,
     "metadata": {},
     "output_type": "execute_result"
    }
   ],
   "source": [
    "loans['Credit_History'].unique()"
   ]
  },
  {
   "cell_type": "code",
   "execution_count": 157,
   "id": "17c12f7e-26f0-4637-a79f-227b2c3cc2e2",
   "metadata": {},
   "outputs": [
    {
     "data": {
      "text/html": [
       "<div>\n",
       "<style scoped>\n",
       "    .dataframe tbody tr th:only-of-type {\n",
       "        vertical-align: middle;\n",
       "    }\n",
       "\n",
       "    .dataframe tbody tr th {\n",
       "        vertical-align: top;\n",
       "    }\n",
       "\n",
       "    .dataframe thead th {\n",
       "        text-align: right;\n",
       "    }\n",
       "</style>\n",
       "<table border=\"1\" class=\"dataframe\">\n",
       "  <thead>\n",
       "    <tr style=\"text-align: right;\">\n",
       "      <th></th>\n",
       "      <th>Gender</th>\n",
       "      <th>Married</th>\n",
       "      <th>Dependents</th>\n",
       "      <th>Education</th>\n",
       "      <th>Self_Employed</th>\n",
       "      <th>ApplicantIncome</th>\n",
       "      <th>CoapplicantIncome</th>\n",
       "      <th>TotalIncome</th>\n",
       "      <th>LoanAmount(Thousands)</th>\n",
       "      <th>Loan_Term(months)</th>\n",
       "      <th>Credit_History</th>\n",
       "      <th>Property_Area</th>\n",
       "      <th>Loan_Status</th>\n",
       "    </tr>\n",
       "  </thead>\n",
       "  <tbody>\n",
       "    <tr>\n",
       "      <th>69</th>\n",
       "      <td>Female</td>\n",
       "      <td>No</td>\n",
       "      <td>0</td>\n",
       "      <td>Graduate</td>\n",
       "      <td>No</td>\n",
       "      <td>4300</td>\n",
       "      <td>0</td>\n",
       "      <td>4300</td>\n",
       "      <td>136</td>\n",
       "      <td>360</td>\n",
       "      <td>0</td>\n",
       "      <td>Semiurban</td>\n",
       "      <td>N</td>\n",
       "    </tr>\n",
       "  </tbody>\n",
       "</table>\n",
       "</div>"
      ],
      "text/plain": [
       "    Gender Married Dependents Education Self_Employed  ApplicantIncome  \\\n",
       "69  Female      No          0  Graduate            No             4300   \n",
       "\n",
       "    CoapplicantIncome  TotalIncome  LoanAmount(Thousands)  Loan_Term(months)  \\\n",
       "69                  0         4300                    136                360   \n",
       "\n",
       "    Credit_History Property_Area Loan_Status  \n",
       "69               0     Semiurban           N  "
      ]
     },
     "execution_count": 157,
     "metadata": {},
     "output_type": "execute_result"
    }
   ],
   "source": [
    "#change the data type to integers\n",
    "loans['Credit_History'] = loans['Credit_History'].astype(int)\n",
    "loans.sample(1)"
   ]
  },
  {
   "cell_type": "markdown",
   "id": "626769d4-f336-49db-b7c6-bd43257e57fd",
   "metadata": {},
   "source": [
    "<ol style= \"font-weight: bold;\">\n",
    "    <h3>11. Property Area</h3>\n",
    "</ol>"
   ]
  },
  {
   "cell_type": "code",
   "execution_count": 158,
   "id": "e05d8288-2368-4b07-a9c3-af643e8ae913",
   "metadata": {},
   "outputs": [
    {
     "data": {
      "text/plain": [
       "array(['Rural', 'Urban', 'Semiurban'], dtype=object)"
      ]
     },
     "execution_count": 158,
     "metadata": {},
     "output_type": "execute_result"
    }
   ],
   "source": [
    "loans['Property_Area'].unique()"
   ]
  },
  {
   "cell_type": "markdown",
   "id": "355816b4-a5d5-4620-8be1-5492b021cb77",
   "metadata": {},
   "source": [
    "<ol style= \"font-weight: bold;\">\n",
    "    <h3>12. Loan Status</h3>\n",
    "</ol>"
   ]
  },
  {
   "cell_type": "code",
   "execution_count": 159,
   "id": "17f25ca5-2a98-4c87-bd7b-0b3aaae4f8bf",
   "metadata": {},
   "outputs": [
    {
     "data": {
      "text/plain": [
       "array(['N', 'Y'], dtype=object)"
      ]
     },
     "execution_count": 159,
     "metadata": {},
     "output_type": "execute_result"
    }
   ],
   "source": [
    "loans['Loan_Status'].unique()"
   ]
  },
  {
   "cell_type": "code",
   "execution_count": 160,
   "id": "d1cbf458-20ae-455f-86b5-1bc49526e025",
   "metadata": {},
   "outputs": [
    {
     "data": {
      "text/html": [
       "<div>\n",
       "<style scoped>\n",
       "    .dataframe tbody tr th:only-of-type {\n",
       "        vertical-align: middle;\n",
       "    }\n",
       "\n",
       "    .dataframe tbody tr th {\n",
       "        vertical-align: top;\n",
       "    }\n",
       "\n",
       "    .dataframe thead th {\n",
       "        text-align: right;\n",
       "    }\n",
       "</style>\n",
       "<table border=\"1\" class=\"dataframe\">\n",
       "  <thead>\n",
       "    <tr style=\"text-align: right;\">\n",
       "      <th></th>\n",
       "      <th>Gender</th>\n",
       "      <th>Married</th>\n",
       "      <th>Dependents</th>\n",
       "      <th>Education</th>\n",
       "      <th>Self_Employed</th>\n",
       "      <th>ApplicantIncome</th>\n",
       "      <th>CoapplicantIncome</th>\n",
       "      <th>TotalIncome</th>\n",
       "      <th>LoanAmount(Thousands)</th>\n",
       "      <th>Loan_Term(months)</th>\n",
       "      <th>Credit_History</th>\n",
       "      <th>Property_Area</th>\n",
       "      <th>Loan_Status</th>\n",
       "      <th>Loan_Status_Int</th>\n",
       "    </tr>\n",
       "  </thead>\n",
       "  <tbody>\n",
       "    <tr>\n",
       "      <th>186</th>\n",
       "      <td>Male</td>\n",
       "      <td>Yes</td>\n",
       "      <td>1</td>\n",
       "      <td>Graduate</td>\n",
       "      <td>Yes</td>\n",
       "      <td>2178</td>\n",
       "      <td>0</td>\n",
       "      <td>2178</td>\n",
       "      <td>66</td>\n",
       "      <td>300</td>\n",
       "      <td>0</td>\n",
       "      <td>Rural</td>\n",
       "      <td>N</td>\n",
       "      <td>0</td>\n",
       "    </tr>\n",
       "    <tr>\n",
       "      <th>85</th>\n",
       "      <td>Male</td>\n",
       "      <td>No</td>\n",
       "      <td>0</td>\n",
       "      <td>Graduate</td>\n",
       "      <td>No</td>\n",
       "      <td>2366</td>\n",
       "      <td>2531</td>\n",
       "      <td>4897</td>\n",
       "      <td>136</td>\n",
       "      <td>360</td>\n",
       "      <td>1</td>\n",
       "      <td>Semiurban</td>\n",
       "      <td>Y</td>\n",
       "      <td>1</td>\n",
       "    </tr>\n",
       "    <tr>\n",
       "      <th>7</th>\n",
       "      <td>Male</td>\n",
       "      <td>Yes</td>\n",
       "      <td>3</td>\n",
       "      <td>Graduate</td>\n",
       "      <td>No</td>\n",
       "      <td>3036</td>\n",
       "      <td>2504</td>\n",
       "      <td>5540</td>\n",
       "      <td>158</td>\n",
       "      <td>360</td>\n",
       "      <td>0</td>\n",
       "      <td>Semiurban</td>\n",
       "      <td>N</td>\n",
       "      <td>0</td>\n",
       "    </tr>\n",
       "    <tr>\n",
       "      <th>139</th>\n",
       "      <td>Male</td>\n",
       "      <td>Yes</td>\n",
       "      <td>2</td>\n",
       "      <td>Not Graduate</td>\n",
       "      <td>No</td>\n",
       "      <td>4200</td>\n",
       "      <td>1430</td>\n",
       "      <td>5630</td>\n",
       "      <td>129</td>\n",
       "      <td>360</td>\n",
       "      <td>1</td>\n",
       "      <td>Rural</td>\n",
       "      <td>N</td>\n",
       "      <td>0</td>\n",
       "    </tr>\n",
       "    <tr>\n",
       "      <th>161</th>\n",
       "      <td>Male</td>\n",
       "      <td>Yes</td>\n",
       "      <td>0</td>\n",
       "      <td>Graduate</td>\n",
       "      <td>No</td>\n",
       "      <td>7933</td>\n",
       "      <td>0</td>\n",
       "      <td>7933</td>\n",
       "      <td>275</td>\n",
       "      <td>360</td>\n",
       "      <td>1</td>\n",
       "      <td>Urban</td>\n",
       "      <td>N</td>\n",
       "      <td>0</td>\n",
       "    </tr>\n",
       "  </tbody>\n",
       "</table>\n",
       "</div>"
      ],
      "text/plain": [
       "    Gender Married Dependents     Education Self_Employed  ApplicantIncome  \\\n",
       "186   Male     Yes          1      Graduate           Yes             2178   \n",
       "85    Male      No          0      Graduate            No             2366   \n",
       "7     Male     Yes          3      Graduate            No             3036   \n",
       "139   Male     Yes          2  Not Graduate            No             4200   \n",
       "161   Male     Yes          0      Graduate            No             7933   \n",
       "\n",
       "     CoapplicantIncome  TotalIncome  LoanAmount(Thousands)  Loan_Term(months)  \\\n",
       "186                  0         2178                     66                300   \n",
       "85                2531         4897                    136                360   \n",
       "7                 2504         5540                    158                360   \n",
       "139               1430         5630                    129                360   \n",
       "161                  0         7933                    275                360   \n",
       "\n",
       "     Credit_History Property_Area Loan_Status  Loan_Status_Int  \n",
       "186               0         Rural           N                0  \n",
       "85                1     Semiurban           Y                1  \n",
       "7                 0     Semiurban           N                0  \n",
       "139               1         Rural           N                0  \n",
       "161               1         Urban           N                0  "
      ]
     },
     "execution_count": 160,
     "metadata": {},
     "output_type": "execute_result"
    }
   ],
   "source": [
    "#created a column with the loan status as integers\n",
    "loans['Loan_Status_Int'] = loans['Loan_Status'].map({'Y': 1, 'N': 0})\n",
    "loans.sample(5)"
   ]
  },
  {
   "cell_type": "markdown",
   "id": "5d77225a-31db-4da2-914f-0cfcedf5bfbe",
   "metadata": {},
   "source": [
    "<h1 style=\"font-weight: bold\">DATA EXPLORATION AND ANALYSIS</h1>"
   ]
  },
  {
   "cell_type": "markdown",
   "id": "2d70d78a-c510-4461-8998-97dca6acd731",
   "metadata": {},
   "source": [
    "<ul style=\"list-style-type: none;\">\n",
    "    <li style=\"font-size: 20px; font-weight: bold;\">\n",
    "        1. What is the relationship between marital status and loan approvals?\n",
    "    </li>\n",
    "</ul>"
   ]
  },
  {
   "cell_type": "markdown",
   "id": "0e5f7c82-28bd-40ec-ac7a-181f7d5d114d",
   "metadata": {},
   "source": [
    "<p>From our analysis, we found that married applicants have lower loan approvals meaning they have more \"No's\" as compared to \"Yes's\"\n",
    "while non-married applicants also have a lower loan approvals similar to married applicants. Therefore, marriage status may a negative impact on an applicants' loan status</p>"
   ]
  },
  {
   "cell_type": "code",
   "execution_count": 161,
   "id": "579ab120-2bc3-4369-ab13-bc180824c55d",
   "metadata": {},
   "outputs": [
    {
     "data": {
      "image/png": "[encoded data removed]",
      "text/plain": [
       "<Figure size 640x480 with 1 Axes>"
      ]
     },
     "metadata": {},
     "output_type": "display_data"
    }
   ],
   "source": [
    "sns.barplot(x='Married', y='ApplicantIncome', hue='Loan_Status', data=loans)\n",
    "plt.title('Loan Status by Marital Status')\n",
    "plt.show()\n"
   ]
  },
  {
   "cell_type": "markdown",
   "id": "d8ffabed-d5cd-4bf4-93a8-8f136574ec1f",
   "metadata": {},
   "source": [
    "<ul style=\"list-style-type: none;\">\n",
    "    <li style=\"font-size: 20px; font-weight: bold;\">\n",
    "        2. What are the most common loan terms(in months) and their effect on approval rates?\n",
    "    </li>\n",
    "</ul>"
   ]
  },
  {
   "cell_type": "markdown",
   "id": "638ffdf2-fe5d-40bc-8836-da51feb4e098",
   "metadata": {},
   "source": [
    "<p>It was discovered that the most common loan terms was 360 months and applicants with this number of loan terms received higher loan approvals as compared to other loan terms</p>"
   ]
  },
  {
   "cell_type": "code",
   "execution_count": 162,
   "id": "98185f30-de44-450f-a6a2-f55fc2d25811",
   "metadata": {},
   "outputs": [
    {
     "data": {
      "image/png": "[encoded data removed]",
      "text/plain": [
       "<Figure size 640x480 with 1 Axes>"
      ]
     },
     "metadata": {},
     "output_type": "display_data"
    }
   ],
   "source": [
    "sns.countplot(x='Loan_Term(months)', hue='Loan_Status', data=loans)\n",
    "plt.title(' Loan Term in months')\n",
    "plt.show()"
   ]
  },
  {
   "cell_type": "markdown",
   "id": "08167ddd-38f8-499f-b0fa-4f896380c4ca",
   "metadata": {},
   "source": [
    "<ul style=\"list-style-type: none;\">\n",
    "    <li style=\"font-size: 20px; font-weight: bold;\">\n",
    "        3. Does an applicant's income affect the loan amount?\n",
    "    </li>\n",
    "</ul>"
   ]
  },
  {
   "cell_type": "markdown",
   "id": "e7a27cf5-e2be-45cd-b61b-4102e1b6223e",
   "metadata": {},
   "source": [
    "<p>The results were as follows:</p>\n",
    "<ol>\n",
    "    <li>A majority of the loan applicants had an income within the range of 0-25,000</li>\n",
    "    <li>Loan applicants with a salary higher than 25,000 were few and received just as much as applicants within the lower income range.</li>\n",
    "    <li>Loan amounts with the range of 400-600(thousand) were few as compared to 0-400(thousand)</li>\n",
    "    <li>Therefore, applicant income does not affect the amount of the loans approved because an applicant with an income of 50,000+ is getting the same loan amount with an applicant with a lower salary</li>\n",
    "</ol>"
   ]
  },
  {
   "cell_type": "code",
   "execution_count": 163,
   "id": "339e6ac6-5420-4bcd-8d73-ead8c6451b47",
   "metadata": {},
   "outputs": [
    {
     "data": {
      "text/plain": [
       "<seaborn.axisgrid.PairGrid at 0x11fdd67e0>"
      ]
     },
     "execution_count": 163,
     "metadata": {},
     "output_type": "execute_result"
    },
    {
     "data": {
      "image/png": "[encoded data removed]",
      "text/plain": [
       "<Figure size 500x500 with 6 Axes>"
      ]
     },
     "metadata": {},
     "output_type": "display_data"
    }
   ],
   "source": [
    "sns.pairplot(loans[['ApplicantIncome', 'LoanAmount(Thousands)']])"
   ]
  },
  {
   "cell_type": "markdown",
   "id": "f4269bd3-b97d-49ca-bc87-92ea9840ec85",
   "metadata": {},
   "source": [
    "<ul style=\"list-style-type: none;\">\n",
    "    <li style=\"font-size: 20px; font-weight: bold;\">\n",
    "        4. Do applicants from urban areas have higher loan approval rates compared to those from rural or semi-urban areas?\n",
    "    </li>\n",
    "</ul>"
   ]
  },
  {
   "cell_type": "markdown",
   "id": "c298bc16-d0b3-420e-add7-08f79a017782",
   "metadata": {},
   "source": [
    "<p>No, applicants from urban areas have a lower loan approval rate as compared to applicants from rural and semi-urban property areas</p>"
   ]
  },
  {
   "cell_type": "code",
   "execution_count": 164,
   "id": "4902fbc8-43d7-45b2-be5d-583d809388b4",
   "metadata": {},
   "outputs": [
    {
     "data": {
      "image/png": "[encoded data removed]",
      "text/plain": [
       "<Figure size 640x480 with 1 Axes>"
      ]
     },
     "metadata": {},
     "output_type": "display_data"
    }
   ],
   "source": [
    "#has been used because this involves a categorical variable\n",
    "sns.barplot(x='Property_Area', y='TotalIncome', hue='Loan_Status', data=loans)\n",
    "plt.title('Loan Status by Property Area')\n",
    "plt.show()"
   ]
  },
  {
   "cell_type": "markdown",
   "id": "1c5ec163-746e-4aec-95d6-27eea6807d58",
   "metadata": {},
   "source": [
    "<ul style=\"list-style-type: none;\">\n",
    "    <li style=\"font-size: 20px; font-weight: bold;\">\n",
    "        5. What is the effect of the number of dependents on loan approval?\n",
    "    </li>\n",
    "</ul>"
   ]
  },
  {
   "cell_type": "markdown",
   "id": "8a425536-e051-40d4-afdc-d0a865a3eba6",
   "metadata": {},
   "source": [
    "<p>Applicants with 0 dependents have more positive loan statuses while applicants with 3 or more have the lowest</p>"
   ]
  },
  {
   "cell_type": "code",
   "execution_count": 165,
   "id": "e39ee008-df83-488e-9d82-7378662e8597",
   "metadata": {},
   "outputs": [
    {
     "data": {
      "image/png": "[encoded data removed]",
      "text/plain": [
       "<Figure size 640x480 with 1 Axes>"
      ]
     },
     "metadata": {},
     "output_type": "display_data"
    }
   ],
   "source": [
    "sns.countplot(x='Dependents', hue='Loan_Status', data=loans)\n",
    "plt.title('Loan Status by Number of Dependents')\n",
    "plt.show()"
   ]
  },
  {
   "cell_type": "markdown",
   "id": "a574509c-6e50-42eb-8a0f-3d7759fa27ff",
   "metadata": {},
   "source": [
    "<ul style=\"list-style-type: none;\">\n",
    "    <li style=\"font-size: 20px; font-weight: bold;\">\n",
    "        6. What is the distribution of applicant incomes across different property areas?\n",
    "    </li>\n",
    "</ul>"
   ]
  },
  {
   "cell_type": "markdown",
   "id": "30776d61-c471-42b5-8fc3-66cc29444e97",
   "metadata": {},
   "source": [
    "<p>Applicants in the urban area have the lowest applicant income margin, rural has the highest at 80,000+ while in the semi-urban areas there are applicants within the 30,000-40,000 income range</p>"
   ]
  },
  {
   "cell_type": "code",
   "execution_count": 166,
   "id": "61d381c8-a98b-4e70-b85f-979945a8c30a",
   "metadata": {},
   "outputs": [
    {
     "data": {
      "image/png": "[encoded data removed]",
      "text/plain": [
       "<Figure size 640x480 with 1 Axes>"
      ]
     },
     "metadata": {},
     "output_type": "display_data"
    }
   ],
   "source": [
    "sns.scatterplot(x='Property_Area', y='ApplicantIncome', data=loans)\n",
    "plt.title('Property Area vs Loan Approvals')\n",
    "plt.show()\n"
   ]
  },
  {
   "cell_type": "markdown",
   "id": "4ec40cad-05a2-4e67-8d40-8acf0e46c65c",
   "metadata": {},
   "source": [
    "<ul style=\"list-style-type: none;\">\n",
    "    <li style=\"font-size: 20px; font-weight: bold;\">\n",
    "        7. How does the applicant's education level affect loan approval rates?\n",
    "    </li>\n",
    "</ul>"
   ]
  },
  {
   "cell_type": "markdown",
   "id": "c496f73b-3e69-460f-8bc8-47b493f2cba3",
   "metadata": {},
   "source": [
    "<p>Applicants who have graduated have more positive loans statuses as compared to non-graduates. The results show that education has a great influence on an applicants loan approval status</p>"
   ]
  },
  {
   "cell_type": "code",
   "execution_count": 167,
   "id": "dece673e-bfd5-4e22-8cab-6fc74625819a",
   "metadata": {},
   "outputs": [
    {
     "data": {
      "image/png": "[encoded data removed]",
      "text/plain": [
       "<Figure size 640x480 with 1 Axes>"
      ]
     },
     "metadata": {},
     "output_type": "display_data"
    }
   ],
   "source": [
    "sns.countplot(x='Education', hue='Loan_Status', data=loans)\n",
    "plt.title('Loan Status by Education Level')\n",
    "plt.show()"
   ]
  },
  {
   "cell_type": "markdown",
   "id": "1c369d10-1ffb-4263-bb66-daf340095ba4",
   "metadata": {},
   "source": [
    "<ul style=\"list-style-type: none;\">\n",
    "    <li style=\"font-size: 20px; font-weight: bold;\">\n",
    "        8. How does the applicant's self-employment status affect loan approval chances?\n",
    "    </li>\n",
    "</ul>"
   ]
  },
  {
   "cell_type": "markdown",
   "id": "e0530aa3-5fd4-48bb-b783-ab5c1f79e127",
   "metadata": {},
   "source": [
    "<p>The self-employed have lower loan approvals as compared to those who are not self-employed. This groups may(may not)consist of the employed therefore the bank or financial institution has considered the financial stability of the applicant and in this case the self-employed applicants do not appear to be financially stable to receive a loan</p>"
   ]
  },
  {
   "cell_type": "code",
   "execution_count": 168,
   "id": "9529372d-e5e2-44e4-a4ad-d7122dab8c35",
   "metadata": {},
   "outputs": [
    {
     "data": {
      "image/png": "[encoded data removed]",
      "text/plain": [
       "<Figure size 640x480 with 1 Axes>"
      ]
     },
     "metadata": {},
     "output_type": "display_data"
    }
   ],
   "source": [
    "sns.countplot(x='Self_Employed', hue='Loan_Status', data=loans)\n",
    "plt.title('Loan Status by Employment Status')\n",
    "plt.show()"
   ]
  },
  {
   "cell_type": "markdown",
   "id": "1fb29e64-be9d-4765-b800-10fa607a41ce",
   "metadata": {},
   "source": [
    "<ul style=\"list-style-type: none;\">\n",
    "    <li style=\"font-size: 20px; font-weight: bold;\">\n",
    "        9. Are there differences in loan approval rates based on gender?\n",
    "    </li>\n",
    "</ul>"
   ]
  },
  {
   "cell_type": "markdown",
   "id": "68873bfd-bb5f-4002-9ecd-ac8f504368c0",
   "metadata": {},
   "source": [
    "<p>From the results of the analysis, male applicants have received more positive responses to their loan statuses as compared to female applicants </p>"
   ]
  },
  {
   "cell_type": "code",
   "execution_count": 169,
   "id": "7fe53c70-32af-41ed-84cd-c05b08d3f712",
   "metadata": {},
   "outputs": [
    {
     "data": {
      "image/png": "[encoded data removed]",
      "text/plain": [
       "<Figure size 640x480 with 1 Axes>"
      ]
     },
     "metadata": {},
     "output_type": "display_data"
    }
   ],
   "source": [
    "sns.countplot(x='Gender', hue='Loan_Status', data=loans)\n",
    "plt.title('Loan Status by Gender')\n",
    "plt.show()"
   ]
  },
  {
   "cell_type": "markdown",
   "id": "05ed826b-118a-407e-b2fe-fc88a4b0010c",
   "metadata": {},
   "source": [
    "<ul style=\"list-style-type: none;\">\n",
    "    <li style=\"font-size: 20px; font-weight: bold;\">\n",
    "        10. How does the presence of a co-applicant affect the likelihood of loan approval?\n",
    "    </li>\n",
    "</ul>"
   ]
  },
  {
   "cell_type": "markdown",
   "id": "ef418276-6e8a-4e6c-9fdd-67bd117bedf7",
   "metadata": {},
   "source": [
    "<p>The presence of a co-applicant results in positive outcome in the loan approvals. Additionally, it has been noted that the higher the co-applicants' income the higher the chances of receiving a \"yes\" on one's loan status.</p>"
   ]
  },
  {
   "cell_type": "code",
   "execution_count": 176,
   "id": "50e1358b-6897-4ece-af3b-ce63154fde45",
   "metadata": {},
   "outputs": [
    {
     "data": {
      "image/png": "[encoded data removed]",
      "text/plain": [
       "<Figure size 640x480 with 1 Axes>"
      ]
     },
     "metadata": {},
     "output_type": "display_data"
    }
   ],
   "source": [
    "sns.scatterplot(x='CoapplicantIncome', y='LoanAmount(Thousands)', hue='Loan_Status', data=loans)\n",
    "plt.title('Loan Status by Co-applicant Presence')\n",
    "plt.show()"
   ]
  },
  {
   "cell_type": "markdown",
   "id": "6a3c00a8-be3f-4975-aaf0-d28ed73d11e5",
   "metadata": {},
   "source": [
    "<ul style=\"list-style-type: none;\">\n",
    "    <li style=\"font-size: 20px; font-weight: bold;\">\n",
    "        11. Is there a correlation between the combined income of the applicant and co-applicant(Total income) and the loan amount?\n",
    "    </li>\n",
    "</ul>"
   ]
  },
  {
   "cell_type": "markdown",
   "id": "ff605ff4-5f1a-4379-a491-534ec813e329",
   "metadata": {},
   "source": [
    "<p>\n",
    "    <li>The correlation between total income and the loan amount is 0.5539140061526622. This means that it is a positive correlation because it is between 0 and 1 </li>\n",
    "    <li>There is a moderate positive relationship between total income and loan amount. This means that generally, as the total income increases, the loan amount also tends to increase.</li>\n",
    "<li>The upward trend in the scatter plot visually confirms this positive relationship.</li>\n",
    "</p>"
   ]
  },
  {
   "cell_type": "code",
   "execution_count": 177,
   "id": "f314c5c1-6e0d-449a-b1de-cc22ef682e79",
   "metadata": {},
   "outputs": [
    {
     "data": {
      "image/png": "[encoded data removed]",
      "text/plain": [
       "<Figure size 640x480 with 1 Axes>"
      ]
     },
     "metadata": {},
     "output_type": "display_data"
    }
   ],
   "source": [
    "sns.scatterplot(data=loans, x='TotalIncome', y='LoanAmount(Thousands)')\n",
    "plt.title('Relationship between Total Income and Loan Amount(Thousands)')\n",
    "plt.show()"
   ]
  },
  {
   "cell_type": "code",
   "execution_count": 178,
   "id": "1fec1dbc-7cf6-4c42-8f62-18bf0fc3bcbe",
   "metadata": {},
   "outputs": [
    {
     "data": {
      "text/plain": [
       "np.float64(0.5539140061526622)"
      ]
     },
     "execution_count": 178,
     "metadata": {},
     "output_type": "execute_result"
    }
   ],
   "source": [
    "#calculating the correlation between the columns\n",
    "correlation = loans['TotalIncome'].corr(loans['LoanAmount(Thousands)'])\n",
    "correlation"
   ]
  },
  {
   "cell_type": "markdown",
   "id": "844977fc-a638-4bf7-b3e4-1f0d440a73a2",
   "metadata": {},
   "source": [
    "<ul style=\"list-style-type: none;\">\n",
    "    <li style=\"font-size: 20px; font-weight: bold;\">\n",
    "        12. What effect does credit history have on loan status?\n",
    "    </li>\n",
    "</ul>"
   ]
  },
  {
   "cell_type": "markdown",
   "id": "9a5cab24-b4f4-487c-956e-318a6522b259",
   "metadata": {},
   "source": [
    "<p>For our analysis we took the values within credit history as follows:</p>\n",
    "<ol>\n",
    "    <li>1=Good credit history, 0=Bad credit history</li>\n",
    "    <li>The results show that applicants with a credit history of 1(Good) received higher loan approvals compared to applicants with a credit history of 0(Bad)</li>\n",
    "</ol>"
   ]
  },
  {
   "cell_type": "code",
   "execution_count": 179,
   "id": "fe22b0d2-be04-40c7-bef3-31002ab76010",
   "metadata": {},
   "outputs": [
    {
     "data": {
      "image/png": "[encoded data removed]",
      "text/plain": [
       "<Figure size 640x480 with 1 Axes>"
      ]
     },
     "metadata": {},
     "output_type": "display_data"
    }
   ],
   "source": [
    "sns.countplot(data=loans, x='Credit_History', hue='Loan_Status')\n",
    "plt.title('Relationship between Total Income and Loan Amount(Thousands)')\n",
    "plt.show()"
   ]
  },
  {
   "cell_type": "code",
   "execution_count": null,
   "id": "1f9867e7-00a2-44fb-9041-0262226e1ef7",
   "metadata": {},
   "outputs": [],
   "source": []
  }
 ],
 "metadata": {
  "kernelspec": {
   "display_name": "Python 3 (ipykernel)",
   "language": "python",
   "name": "python3"
  },
  "language_info": {
   "codemirror_mode": {
    "name": "ipython",
    "version": 3
   },
   "file_extension": ".py",
   "mimetype": "text/x-python",
   "name": "python",
   "nbconvert_exporter": "python",
   "pygments_lexer": "ipython3",
   "version": "3.12.3"
  }
 },
 "nbformat": 4,
 "nbformat_minor": 5
}
