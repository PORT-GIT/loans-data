{
 "cells": [
  {
   "cell_type": "markdown",
   "id": "a7b7d5f6-cb56-47e9-a680-81d8055c3f9d",
   "metadata": {},
   "source": [
    "<h2 style=\"font-weight: bold;\">ANALYSIS OF A LOANS DATASET</h2>\n",
    "<p>This is an analysis of the loan_train.csv file to derive insight from the data</p>\n",
    "<p>Our group used questions to help us analyze the data and understand the story of the dataset. They questions are as follows:</p>\n",
    "<ol>\n",
    "    <li>What factors most significantly influence whether a loan is approved or not?</li>\n",
    "    <li>What is the relationship between marital status and loan approval?</li>\n",
    "    <li>What are the most common loan terms(in months) and they affect approval rates?</li>\n",
    "    <li>Is there a correlation between the applicant's income and the loan amount?</li>\n",
    "    <li>Do applicants from urban areas have higher loan approval rates compared to those from rural or semi-urban areas?</li>\n",
    "    <li>What is the effect of the number of dependents on loan approval?</li>\n",
    "    <li>What is the distribution of loan approvals across different property areas?</li>\n",
    "    <li>How does the applicant's education level affect loan approval rates?</li>\n",
    "    <li>How does the applicant's self-employment status affect loan approval chances?</li>\n",
    "    <li>Are there differences in loan approval rates based on gender?</li>\n",
    "    <li>How does the presence of a co-applicant affect the likelihood of loan approval?</li>\n",
    "    <li>Is there a correlation between the combined income of the applicant and co-applicant and the loan amount?</li>\n",
    "</ol>\n"
   ]
  },
  {
   "cell_type": "code",
   "execution_count": 22,
   "id": "bf7a7cc0-1846-41fc-a7cd-bfed25b0d38c",
   "metadata": {},
   "outputs": [],
   "source": [
    "#importing packages\n",
    "import pandas as pd\n",
    "import numpy as np\n",
    "import matplotlib.pyplot as plt\n",
    "import seaborn as sns\n",
    "import re"
   ]
  },
  {
   "cell_type": "code",
   "execution_count": 23,
   "id": "bdd73b7b-76ee-4ea9-bd8c-d9f09eb48e33",
   "metadata": {},
   "outputs": [],
   "source": [
    "#To call on the dataset\n",
    "data = pd.read_csv(\"loan_train.csv\")"
   ]
  },
  {
   "cell_type": "code",
   "execution_count": 24,
   "id": "100aa65d-6a7d-46fb-9aa4-6dab9054fafa",
   "metadata": {},
   "outputs": [
    {
     "data": {
      "text/html": [
       "<div>\n",
       "<style scoped>\n",
       "    .dataframe tbody tr th:only-of-type {\n",
       "        vertical-align: middle;\n",
       "    }\n",
       "\n",
       "    .dataframe tbody tr th {\n",
       "        vertical-align: top;\n",
       "    }\n",
       "\n",
       "    .dataframe thead th {\n",
       "        text-align: right;\n",
       "    }\n",
       "</style>\n",
       "<table border=\"1\" class=\"dataframe\">\n",
       "  <thead>\n",
       "    <tr style=\"text-align: right;\">\n",
       "      <th></th>\n",
       "      <th>Loan_ID</th>\n",
       "      <th>Gender</th>\n",
       "      <th>Married</th>\n",
       "      <th>Dependents</th>\n",
       "      <th>Education</th>\n",
       "      <th>Self_Employed</th>\n",
       "      <th>ApplicantIncome</th>\n",
       "      <th>CoapplicantIncome</th>\n",
       "      <th>LoanAmount</th>\n",
       "      <th>Loan_Amount_Term</th>\n",
       "      <th>Credit_History</th>\n",
       "      <th>Property_Area</th>\n",
       "      <th>Loan_Status</th>\n",
       "    </tr>\n",
       "  </thead>\n",
       "  <tbody>\n",
       "    <tr>\n",
       "      <th>0</th>\n",
       "      <td>LP001002</td>\n",
       "      <td>Male</td>\n",
       "      <td>No</td>\n",
       "      <td>0</td>\n",
       "      <td>Graduate</td>\n",
       "      <td>No</td>\n",
       "      <td>5849</td>\n",
       "      <td>0.0</td>\n",
       "      <td>NaN</td>\n",
       "      <td>360.0</td>\n",
       "      <td>1.0</td>\n",
       "      <td>Urban</td>\n",
       "      <td>Y</td>\n",
       "    </tr>\n",
       "    <tr>\n",
       "      <th>1</th>\n",
       "      <td>LP001003</td>\n",
       "      <td>Male</td>\n",
       "      <td>Yes</td>\n",
       "      <td>1</td>\n",
       "      <td>Graduate</td>\n",
       "      <td>No</td>\n",
       "      <td>4583</td>\n",
       "      <td>1508.0</td>\n",
       "      <td>128.0</td>\n",
       "      <td>360.0</td>\n",
       "      <td>1.0</td>\n",
       "      <td>Rural</td>\n",
       "      <td>N</td>\n",
       "    </tr>\n",
       "    <tr>\n",
       "      <th>2</th>\n",
       "      <td>LP001005</td>\n",
       "      <td>Male</td>\n",
       "      <td>Yes</td>\n",
       "      <td>0</td>\n",
       "      <td>Graduate</td>\n",
       "      <td>Yes</td>\n",
       "      <td>3000</td>\n",
       "      <td>0.0</td>\n",
       "      <td>66.0</td>\n",
       "      <td>360.0</td>\n",
       "      <td>1.0</td>\n",
       "      <td>Urban</td>\n",
       "      <td>Y</td>\n",
       "    </tr>\n",
       "    <tr>\n",
       "      <th>3</th>\n",
       "      <td>LP001006</td>\n",
       "      <td>Male</td>\n",
       "      <td>Yes</td>\n",
       "      <td>0</td>\n",
       "      <td>Not Graduate</td>\n",
       "      <td>No</td>\n",
       "      <td>2583</td>\n",
       "      <td>2358.0</td>\n",
       "      <td>120.0</td>\n",
       "      <td>360.0</td>\n",
       "      <td>1.0</td>\n",
       "      <td>Urban</td>\n",
       "      <td>Y</td>\n",
       "    </tr>\n",
       "    <tr>\n",
       "      <th>4</th>\n",
       "      <td>LP001008</td>\n",
       "      <td>Male</td>\n",
       "      <td>No</td>\n",
       "      <td>0</td>\n",
       "      <td>Graduate</td>\n",
       "      <td>No</td>\n",
       "      <td>6000</td>\n",
       "      <td>0.0</td>\n",
       "      <td>141.0</td>\n",
       "      <td>360.0</td>\n",
       "      <td>1.0</td>\n",
       "      <td>Urban</td>\n",
       "      <td>Y</td>\n",
       "    </tr>\n",
       "  </tbody>\n",
       "</table>\n",
       "</div>"
      ],
      "text/plain": [
       "    Loan_ID Gender Married Dependents     Education Self_Employed  \\\n",
       "0  LP001002   Male      No          0      Graduate            No   \n",
       "1  LP001003   Male     Yes          1      Graduate            No   \n",
       "2  LP001005   Male     Yes          0      Graduate           Yes   \n",
       "3  LP001006   Male     Yes          0  Not Graduate            No   \n",
       "4  LP001008   Male      No          0      Graduate            No   \n",
       "\n",
       "   ApplicantIncome  CoapplicantIncome  LoanAmount  Loan_Amount_Term  \\\n",
       "0             5849                0.0         NaN             360.0   \n",
       "1             4583             1508.0       128.0             360.0   \n",
       "2             3000                0.0        66.0             360.0   \n",
       "3             2583             2358.0       120.0             360.0   \n",
       "4             6000                0.0       141.0             360.0   \n",
       "\n",
       "   Credit_History Property_Area Loan_Status  \n",
       "0             1.0         Urban           Y  \n",
       "1             1.0         Rural           N  \n",
       "2             1.0         Urban           Y  \n",
       "3             1.0         Urban           Y  \n",
       "4             1.0         Urban           Y  "
      ]
     },
     "execution_count": 24,
     "metadata": {},
     "output_type": "execute_result"
    }
   ],
   "source": [
    "#disply the first few rows\n",
    "data.head()"
   ]
  },
  {
   "cell_type": "code",
   "execution_count": 25,
   "id": "ed2d1b86-675e-442a-838e-6ddf648b09a9",
   "metadata": {},
   "outputs": [
    {
     "data": {
      "text/html": [
       "<div>\n",
       "<style scoped>\n",
       "    .dataframe tbody tr th:only-of-type {\n",
       "        vertical-align: middle;\n",
       "    }\n",
       "\n",
       "    .dataframe tbody tr th {\n",
       "        vertical-align: top;\n",
       "    }\n",
       "\n",
       "    .dataframe thead th {\n",
       "        text-align: right;\n",
       "    }\n",
       "</style>\n",
       "<table border=\"1\" class=\"dataframe\">\n",
       "  <thead>\n",
       "    <tr style=\"text-align: right;\">\n",
       "      <th></th>\n",
       "      <th>Loan_ID</th>\n",
       "      <th>Gender</th>\n",
       "      <th>Married</th>\n",
       "      <th>Dependents</th>\n",
       "      <th>Education</th>\n",
       "      <th>Self_Employed</th>\n",
       "      <th>ApplicantIncome</th>\n",
       "      <th>CoapplicantIncome</th>\n",
       "      <th>LoanAmount</th>\n",
       "      <th>Loan_Amount_Term</th>\n",
       "      <th>Credit_History</th>\n",
       "      <th>Property_Area</th>\n",
       "      <th>Loan_Status</th>\n",
       "    </tr>\n",
       "  </thead>\n",
       "  <tbody>\n",
       "    <tr>\n",
       "      <th>609</th>\n",
       "      <td>LP002978</td>\n",
       "      <td>Female</td>\n",
       "      <td>No</td>\n",
       "      <td>0</td>\n",
       "      <td>Graduate</td>\n",
       "      <td>No</td>\n",
       "      <td>2900</td>\n",
       "      <td>0.0</td>\n",
       "      <td>71.0</td>\n",
       "      <td>360.0</td>\n",
       "      <td>1.0</td>\n",
       "      <td>Rural</td>\n",
       "      <td>Y</td>\n",
       "    </tr>\n",
       "    <tr>\n",
       "      <th>610</th>\n",
       "      <td>LP002979</td>\n",
       "      <td>Male</td>\n",
       "      <td>Yes</td>\n",
       "      <td>3+</td>\n",
       "      <td>Graduate</td>\n",
       "      <td>No</td>\n",
       "      <td>4106</td>\n",
       "      <td>0.0</td>\n",
       "      <td>40.0</td>\n",
       "      <td>180.0</td>\n",
       "      <td>1.0</td>\n",
       "      <td>Rural</td>\n",
       "      <td>Y</td>\n",
       "    </tr>\n",
       "    <tr>\n",
       "      <th>611</th>\n",
       "      <td>LP002983</td>\n",
       "      <td>Male</td>\n",
       "      <td>Yes</td>\n",
       "      <td>1</td>\n",
       "      <td>Graduate</td>\n",
       "      <td>No</td>\n",
       "      <td>8072</td>\n",
       "      <td>240.0</td>\n",
       "      <td>253.0</td>\n",
       "      <td>360.0</td>\n",
       "      <td>1.0</td>\n",
       "      <td>Urban</td>\n",
       "      <td>Y</td>\n",
       "    </tr>\n",
       "    <tr>\n",
       "      <th>612</th>\n",
       "      <td>LP002984</td>\n",
       "      <td>Male</td>\n",
       "      <td>Yes</td>\n",
       "      <td>2</td>\n",
       "      <td>Graduate</td>\n",
       "      <td>No</td>\n",
       "      <td>7583</td>\n",
       "      <td>0.0</td>\n",
       "      <td>187.0</td>\n",
       "      <td>360.0</td>\n",
       "      <td>1.0</td>\n",
       "      <td>Urban</td>\n",
       "      <td>Y</td>\n",
       "    </tr>\n",
       "    <tr>\n",
       "      <th>613</th>\n",
       "      <td>LP002990</td>\n",
       "      <td>Female</td>\n",
       "      <td>No</td>\n",
       "      <td>0</td>\n",
       "      <td>Graduate</td>\n",
       "      <td>Yes</td>\n",
       "      <td>4583</td>\n",
       "      <td>0.0</td>\n",
       "      <td>133.0</td>\n",
       "      <td>360.0</td>\n",
       "      <td>0.0</td>\n",
       "      <td>Semiurban</td>\n",
       "      <td>N</td>\n",
       "    </tr>\n",
       "  </tbody>\n",
       "</table>\n",
       "</div>"
      ],
      "text/plain": [
       "      Loan_ID  Gender Married Dependents Education Self_Employed  \\\n",
       "609  LP002978  Female      No          0  Graduate            No   \n",
       "610  LP002979    Male     Yes         3+  Graduate            No   \n",
       "611  LP002983    Male     Yes          1  Graduate            No   \n",
       "612  LP002984    Male     Yes          2  Graduate            No   \n",
       "613  LP002990  Female      No          0  Graduate           Yes   \n",
       "\n",
       "     ApplicantIncome  CoapplicantIncome  LoanAmount  Loan_Amount_Term  \\\n",
       "609             2900                0.0        71.0             360.0   \n",
       "610             4106                0.0        40.0             180.0   \n",
       "611             8072              240.0       253.0             360.0   \n",
       "612             7583                0.0       187.0             360.0   \n",
       "613             4583                0.0       133.0             360.0   \n",
       "\n",
       "     Credit_History Property_Area Loan_Status  \n",
       "609             1.0         Rural           Y  \n",
       "610             1.0         Rural           Y  \n",
       "611             1.0         Urban           Y  \n",
       "612             1.0         Urban           Y  \n",
       "613             0.0     Semiurban           N  "
      ]
     },
     "execution_count": 25,
     "metadata": {},
     "output_type": "execute_result"
    }
   ],
   "source": [
    "data.tail()"
   ]
  },
  {
   "cell_type": "code",
   "execution_count": 26,
   "id": "7c4bb679-c80f-46d8-b431-6c467f052d22",
   "metadata": {},
   "outputs": [
    {
     "data": {
      "text/plain": [
       "Index(['Loan_ID', 'Gender', 'Married', 'Dependents', 'Education',\n",
       "       'Self_Employed', 'ApplicantIncome', 'CoapplicantIncome', 'LoanAmount',\n",
       "       'Loan_Amount_Term', 'Credit_History', 'Property_Area', 'Loan_Status'],\n",
       "      dtype='object')"
      ]
     },
     "execution_count": 26,
     "metadata": {},
     "output_type": "execute_result"
    }
   ],
   "source": [
    "#To show the columns in the dataset\n",
    "data.columns"
   ]
  },
  {
   "cell_type": "code",
   "execution_count": 27,
   "id": "eec2012d-4910-49b5-a826-d04cef83fae5",
   "metadata": {},
   "outputs": [
    {
     "data": {
      "text/html": [
       "<div>\n",
       "<style scoped>\n",
       "    .dataframe tbody tr th:only-of-type {\n",
       "        vertical-align: middle;\n",
       "    }\n",
       "\n",
       "    .dataframe tbody tr th {\n",
       "        vertical-align: top;\n",
       "    }\n",
       "\n",
       "    .dataframe thead th {\n",
       "        text-align: right;\n",
       "    }\n",
       "</style>\n",
       "<table border=\"1\" class=\"dataframe\">\n",
       "  <thead>\n",
       "    <tr style=\"text-align: right;\">\n",
       "      <th></th>\n",
       "      <th>ApplicantIncome</th>\n",
       "      <th>CoapplicantIncome</th>\n",
       "      <th>LoanAmount</th>\n",
       "      <th>Loan_Amount_Term</th>\n",
       "      <th>Credit_History</th>\n",
       "    </tr>\n",
       "  </thead>\n",
       "  <tbody>\n",
       "    <tr>\n",
       "      <th>count</th>\n",
       "      <td>614.000000</td>\n",
       "      <td>614.000000</td>\n",
       "      <td>592.000000</td>\n",
       "      <td>600.00000</td>\n",
       "      <td>564.000000</td>\n",
       "    </tr>\n",
       "    <tr>\n",
       "      <th>mean</th>\n",
       "      <td>5403.459283</td>\n",
       "      <td>1621.245798</td>\n",
       "      <td>146.412162</td>\n",
       "      <td>342.00000</td>\n",
       "      <td>0.842199</td>\n",
       "    </tr>\n",
       "    <tr>\n",
       "      <th>std</th>\n",
       "      <td>6109.041673</td>\n",
       "      <td>2926.248369</td>\n",
       "      <td>85.587325</td>\n",
       "      <td>65.12041</td>\n",
       "      <td>0.364878</td>\n",
       "    </tr>\n",
       "    <tr>\n",
       "      <th>min</th>\n",
       "      <td>150.000000</td>\n",
       "      <td>0.000000</td>\n",
       "      <td>9.000000</td>\n",
       "      <td>12.00000</td>\n",
       "      <td>0.000000</td>\n",
       "    </tr>\n",
       "    <tr>\n",
       "      <th>25%</th>\n",
       "      <td>2877.500000</td>\n",
       "      <td>0.000000</td>\n",
       "      <td>100.000000</td>\n",
       "      <td>360.00000</td>\n",
       "      <td>1.000000</td>\n",
       "    </tr>\n",
       "    <tr>\n",
       "      <th>50%</th>\n",
       "      <td>3812.500000</td>\n",
       "      <td>1188.500000</td>\n",
       "      <td>128.000000</td>\n",
       "      <td>360.00000</td>\n",
       "      <td>1.000000</td>\n",
       "    </tr>\n",
       "    <tr>\n",
       "      <th>75%</th>\n",
       "      <td>5795.000000</td>\n",
       "      <td>2297.250000</td>\n",
       "      <td>168.000000</td>\n",
       "      <td>360.00000</td>\n",
       "      <td>1.000000</td>\n",
       "    </tr>\n",
       "    <tr>\n",
       "      <th>max</th>\n",
       "      <td>81000.000000</td>\n",
       "      <td>41667.000000</td>\n",
       "      <td>700.000000</td>\n",
       "      <td>480.00000</td>\n",
       "      <td>1.000000</td>\n",
       "    </tr>\n",
       "  </tbody>\n",
       "</table>\n",
       "</div>"
      ],
      "text/plain": [
       "       ApplicantIncome  CoapplicantIncome  LoanAmount  Loan_Amount_Term  \\\n",
       "count       614.000000         614.000000  592.000000         600.00000   \n",
       "mean       5403.459283        1621.245798  146.412162         342.00000   \n",
       "std        6109.041673        2926.248369   85.587325          65.12041   \n",
       "min         150.000000           0.000000    9.000000          12.00000   \n",
       "25%        2877.500000           0.000000  100.000000         360.00000   \n",
       "50%        3812.500000        1188.500000  128.000000         360.00000   \n",
       "75%        5795.000000        2297.250000  168.000000         360.00000   \n",
       "max       81000.000000       41667.000000  700.000000         480.00000   \n",
       "\n",
       "       Credit_History  \n",
       "count      564.000000  \n",
       "mean         0.842199  \n",
       "std          0.364878  \n",
       "min          0.000000  \n",
       "25%          1.000000  \n",
       "50%          1.000000  \n",
       "75%          1.000000  \n",
       "max          1.000000  "
      ]
     },
     "execution_count": 27,
     "metadata": {},
     "output_type": "execute_result"
    }
   ],
   "source": [
    "#to get a statistical summary of the dataset\n",
    "data.describe()"
   ]
  },
  {
   "cell_type": "code",
   "execution_count": 28,
   "id": "c4526b73-14dc-4c7b-8513-c7912244afe3",
   "metadata": {},
   "outputs": [
    {
     "name": "stdout",
     "output_type": "stream",
     "text": [
      "<class 'pandas.core.frame.DataFrame'>\n",
      "RangeIndex: 614 entries, 0 to 613\n",
      "Data columns (total 13 columns):\n",
      " #   Column             Non-Null Count  Dtype  \n",
      "---  ------             --------------  -----  \n",
      " 0   Loan_ID            614 non-null    object \n",
      " 1   Gender             601 non-null    object \n",
      " 2   Married            611 non-null    object \n",
      " 3   Dependents         599 non-null    object \n",
      " 4   Education          614 non-null    object \n",
      " 5   Self_Employed      582 non-null    object \n",
      " 6   ApplicantIncome    614 non-null    int64  \n",
      " 7   CoapplicantIncome  614 non-null    float64\n",
      " 8   LoanAmount         592 non-null    float64\n",
      " 9   Loan_Amount_Term   600 non-null    float64\n",
      " 10  Credit_History     564 non-null    float64\n",
      " 11  Property_Area      614 non-null    object \n",
      " 12  Loan_Status        614 non-null    object \n",
      "dtypes: float64(4), int64(1), object(8)\n",
      "memory usage: 62.5+ KB\n"
     ]
    }
   ],
   "source": [
    "#to get a summary of the data-frame\n",
    "data.info()"
   ]
  },
  {
   "cell_type": "code",
   "execution_count": 29,
   "id": "3ef58f00-4f93-4e77-9214-f194b71a78e0",
   "metadata": {},
   "outputs": [
    {
     "data": {
      "text/plain": [
       "Loan_ID               0\n",
       "Gender               13\n",
       "Married               3\n",
       "Dependents           15\n",
       "Education             0\n",
       "Self_Employed        32\n",
       "ApplicantIncome       0\n",
       "CoapplicantIncome     0\n",
       "LoanAmount           22\n",
       "Loan_Amount_Term     14\n",
       "Credit_History       50\n",
       "Property_Area         0\n",
       "Loan_Status           0\n",
       "dtype: int64"
      ]
     },
     "execution_count": 29,
     "metadata": {},
     "output_type": "execute_result"
    }
   ],
   "source": [
    "#To check for missing values\n",
    "data.isnull().sum()"
   ]
  },
  {
   "cell_type": "code",
   "execution_count": 30,
   "id": "de219791-29a6-48ce-bfc8-d86d1617c888",
   "metadata": {},
   "outputs": [
    {
     "data": {
      "text/html": [
       "<div>\n",
       "<style scoped>\n",
       "    .dataframe tbody tr th:only-of-type {\n",
       "        vertical-align: middle;\n",
       "    }\n",
       "\n",
       "    .dataframe tbody tr th {\n",
       "        vertical-align: top;\n",
       "    }\n",
       "\n",
       "    .dataframe thead th {\n",
       "        text-align: right;\n",
       "    }\n",
       "</style>\n",
       "<table border=\"1\" class=\"dataframe\">\n",
       "  <thead>\n",
       "    <tr style=\"text-align: right;\">\n",
       "      <th></th>\n",
       "      <th>Loan_ID</th>\n",
       "      <th>Gender</th>\n",
       "      <th>Married</th>\n",
       "      <th>Dependents</th>\n",
       "      <th>Education</th>\n",
       "      <th>Self_Employed</th>\n",
       "      <th>ApplicantIncome</th>\n",
       "      <th>CoapplicantIncome</th>\n",
       "      <th>LoanAmount</th>\n",
       "      <th>Loan_Term(months)</th>\n",
       "      <th>Credit_History</th>\n",
       "      <th>Property_Area</th>\n",
       "      <th>Loan_Status</th>\n",
       "    </tr>\n",
       "  </thead>\n",
       "  <tbody>\n",
       "    <tr>\n",
       "      <th>495</th>\n",
       "      <td>LP002586</td>\n",
       "      <td>Female</td>\n",
       "      <td>Yes</td>\n",
       "      <td>1</td>\n",
       "      <td>Graduate</td>\n",
       "      <td>No</td>\n",
       "      <td>3326</td>\n",
       "      <td>913.0</td>\n",
       "      <td>105.0</td>\n",
       "      <td>84.0</td>\n",
       "      <td>1.0</td>\n",
       "      <td>Semiurban</td>\n",
       "      <td>Y</td>\n",
       "    </tr>\n",
       "  </tbody>\n",
       "</table>\n",
       "</div>"
      ],
      "text/plain": [
       "      Loan_ID  Gender Married Dependents Education Self_Employed  \\\n",
       "495  LP002586  Female     Yes          1  Graduate            No   \n",
       "\n",
       "     ApplicantIncome  CoapplicantIncome  LoanAmount  Loan_Term(months)  \\\n",
       "495             3326              913.0       105.0               84.0   \n",
       "\n",
       "     Credit_History Property_Area Loan_Status  \n",
       "495             1.0     Semiurban           Y  "
      ]
     },
     "execution_count": 30,
     "metadata": {},
     "output_type": "execute_result"
    }
   ],
   "source": [
    "#changes the column name\n",
    "data = data.rename(columns={'Loan_Amount_Term': \"Loan_Term(months)\"})\n",
    "data.sample(1)                   "
   ]
  },
  {
   "cell_type": "code",
   "execution_count": 31,
   "id": "c5112703-13e2-4592-8c4e-e4bd3d1f6c8e",
   "metadata": {},
   "outputs": [],
   "source": [
    "#removing missing values from select columns\n",
    "data_cleaned = data.dropna(subset=['Gender', 'Married'])\n"
   ]
  },
  {
   "cell_type": "code",
   "execution_count": 32,
   "id": "fa24d6b6-c911-4d84-a64c-2e4c1bedcf5b",
   "metadata": {},
   "outputs": [
    {
     "data": {
      "text/plain": [
       "Loan_ID               0\n",
       "Gender                0\n",
       "Married               0\n",
       "Dependents           12\n",
       "Education             0\n",
       "Self_Employed        32\n",
       "ApplicantIncome       0\n",
       "CoapplicantIncome     0\n",
       "LoanAmount           21\n",
       "Loan_Term(months)    14\n",
       "Credit_History       49\n",
       "Property_Area         0\n",
       "Loan_Status           0\n",
       "dtype: int64"
      ]
     },
     "execution_count": 32,
     "metadata": {},
     "output_type": "execute_result"
    }
   ],
   "source": [
    "data_cleaned.isnull().sum()\n",
    "#the results will show that the missing values from the Gender and Married columns have been removed"
   ]
  },
  {
   "cell_type": "code",
   "execution_count": 33,
   "id": "22f37c75-6a77-4901-9e64-d55ece63cbe9",
   "metadata": {},
   "outputs": [],
   "source": [
    "data_cleaned = data_cleaned.drop_duplicates()"
   ]
  },
  {
   "cell_type": "code",
   "execution_count": 34,
   "id": "c36e6cd2-5fe4-4538-a259-5da857f76413",
   "metadata": {},
   "outputs": [
    {
     "data": {
      "text/plain": [
       "(598, 13)"
      ]
     },
     "execution_count": 34,
     "metadata": {},
     "output_type": "execute_result"
    }
   ],
   "source": [
    "data_cleaned.shape\n",
    "#this shows that 16 duplicate rows have been removed"
   ]
  },
  {
   "cell_type": "code",
   "execution_count": 35,
   "id": "2a321ced-b3f8-447f-ace7-52c6dfd532cd",
   "metadata": {},
   "outputs": [
    {
     "data": {
      "text/plain": [
       "Loan_ID              0.000000\n",
       "Gender               0.000000\n",
       "Married              0.000000\n",
       "Dependents           2.006689\n",
       "Education            0.000000\n",
       "Self_Employed        5.351171\n",
       "ApplicantIncome      0.000000\n",
       "CoapplicantIncome    0.000000\n",
       "LoanAmount           3.511706\n",
       "Loan_Term(months)    2.341137\n",
       "Credit_History       8.193980\n",
       "Property_Area        0.000000\n",
       "Loan_Status          0.000000\n",
       "dtype: float64"
      ]
     },
     "execution_count": 35,
     "metadata": {},
     "output_type": "execute_result"
    }
   ],
   "source": [
    "#finding the percentage of missing values\n",
    "data_cleaned.isnull().sum()/data_cleaned.shape[0]*100\n",
    "#since the columns have low percentages of missing values we are able to remove them without affecting the results of analysis"
   ]
  },
  {
   "cell_type": "code",
   "execution_count": 36,
   "id": "5109d0b9-81a6-416f-9f82-e5c3f7a5e109",
   "metadata": {},
   "outputs": [],
   "source": [
    "#removing the missing values\n",
    "data_cleaned.dropna(axis=0, inplace=True)"
   ]
  },
  {
   "cell_type": "code",
   "execution_count": 37,
   "id": "6374bc5b-8de5-4ffe-b8ad-15e7856ec2bd",
   "metadata": {},
   "outputs": [
    {
     "data": {
      "text/plain": [
       "Loan_ID              0\n",
       "Gender               0\n",
       "Married              0\n",
       "Dependents           0\n",
       "Education            0\n",
       "Self_Employed        0\n",
       "ApplicantIncome      0\n",
       "CoapplicantIncome    0\n",
       "LoanAmount           0\n",
       "Loan_Term(months)    0\n",
       "Credit_History       0\n",
       "Property_Area        0\n",
       "Loan_Status          0\n",
       "dtype: int64"
      ]
     },
     "execution_count": 37,
     "metadata": {},
     "output_type": "execute_result"
    }
   ],
   "source": [
    "data_cleaned.isnull().sum()\n",
    "#the missing values have been removed"
   ]
  },
  {
   "cell_type": "markdown",
   "id": "e244c4f8-e191-48a6-bea7-b1f08fa619fc",
   "metadata": {},
   "source": [
    "<h1 style=\"font-weight: bold;\">DATA CLEANING</h1>\n",
    "<p>We will go through each column to verify that there are no non-numerical values that can affect data analysis process</p>"
   ]
  },
  {
   "cell_type": "code",
   "execution_count": 38,
   "id": "672a3df4-abd2-40fc-9d5d-a33848f68228",
   "metadata": {},
   "outputs": [
    {
     "data": {
      "text/html": [
       "<div>\n",
       "<style scoped>\n",
       "    .dataframe tbody tr th:only-of-type {\n",
       "        vertical-align: middle;\n",
       "    }\n",
       "\n",
       "    .dataframe tbody tr th {\n",
       "        vertical-align: top;\n",
       "    }\n",
       "\n",
       "    .dataframe thead th {\n",
       "        text-align: right;\n",
       "    }\n",
       "</style>\n",
       "<table border=\"1\" class=\"dataframe\">\n",
       "  <thead>\n",
       "    <tr style=\"text-align: right;\">\n",
       "      <th></th>\n",
       "      <th>Loan_ID</th>\n",
       "      <th>Gender</th>\n",
       "      <th>Married</th>\n",
       "      <th>Dependents</th>\n",
       "      <th>Education</th>\n",
       "      <th>Self_Employed</th>\n",
       "      <th>ApplicantIncome</th>\n",
       "      <th>CoapplicantIncome</th>\n",
       "      <th>LoanAmount</th>\n",
       "      <th>Loan_Term(months)</th>\n",
       "      <th>Credit_History</th>\n",
       "      <th>Property_Area</th>\n",
       "      <th>Loan_Status</th>\n",
       "    </tr>\n",
       "  </thead>\n",
       "  <tbody>\n",
       "    <tr>\n",
       "      <th>1</th>\n",
       "      <td>LP001003</td>\n",
       "      <td>Male</td>\n",
       "      <td>Yes</td>\n",
       "      <td>1</td>\n",
       "      <td>Graduate</td>\n",
       "      <td>No</td>\n",
       "      <td>4583</td>\n",
       "      <td>1508.0</td>\n",
       "      <td>128.0</td>\n",
       "      <td>360.0</td>\n",
       "      <td>1.0</td>\n",
       "      <td>Rural</td>\n",
       "      <td>N</td>\n",
       "    </tr>\n",
       "    <tr>\n",
       "      <th>2</th>\n",
       "      <td>LP001005</td>\n",
       "      <td>Male</td>\n",
       "      <td>Yes</td>\n",
       "      <td>0</td>\n",
       "      <td>Graduate</td>\n",
       "      <td>Yes</td>\n",
       "      <td>3000</td>\n",
       "      <td>0.0</td>\n",
       "      <td>66.0</td>\n",
       "      <td>360.0</td>\n",
       "      <td>1.0</td>\n",
       "      <td>Urban</td>\n",
       "      <td>Y</td>\n",
       "    </tr>\n",
       "    <tr>\n",
       "      <th>3</th>\n",
       "      <td>LP001006</td>\n",
       "      <td>Male</td>\n",
       "      <td>Yes</td>\n",
       "      <td>0</td>\n",
       "      <td>Not Graduate</td>\n",
       "      <td>No</td>\n",
       "      <td>2583</td>\n",
       "      <td>2358.0</td>\n",
       "      <td>120.0</td>\n",
       "      <td>360.0</td>\n",
       "      <td>1.0</td>\n",
       "      <td>Urban</td>\n",
       "      <td>Y</td>\n",
       "    </tr>\n",
       "    <tr>\n",
       "      <th>4</th>\n",
       "      <td>LP001008</td>\n",
       "      <td>Male</td>\n",
       "      <td>No</td>\n",
       "      <td>0</td>\n",
       "      <td>Graduate</td>\n",
       "      <td>No</td>\n",
       "      <td>6000</td>\n",
       "      <td>0.0</td>\n",
       "      <td>141.0</td>\n",
       "      <td>360.0</td>\n",
       "      <td>1.0</td>\n",
       "      <td>Urban</td>\n",
       "      <td>Y</td>\n",
       "    </tr>\n",
       "    <tr>\n",
       "      <th>5</th>\n",
       "      <td>LP001011</td>\n",
       "      <td>Male</td>\n",
       "      <td>Yes</td>\n",
       "      <td>2</td>\n",
       "      <td>Graduate</td>\n",
       "      <td>Yes</td>\n",
       "      <td>5417</td>\n",
       "      <td>4196.0</td>\n",
       "      <td>267.0</td>\n",
       "      <td>360.0</td>\n",
       "      <td>1.0</td>\n",
       "      <td>Urban</td>\n",
       "      <td>Y</td>\n",
       "    </tr>\n",
       "  </tbody>\n",
       "</table>\n",
       "</div>"
      ],
      "text/plain": [
       "    Loan_ID Gender Married Dependents     Education Self_Employed  \\\n",
       "1  LP001003   Male     Yes          1      Graduate            No   \n",
       "2  LP001005   Male     Yes          0      Graduate           Yes   \n",
       "3  LP001006   Male     Yes          0  Not Graduate            No   \n",
       "4  LP001008   Male      No          0      Graduate            No   \n",
       "5  LP001011   Male     Yes          2      Graduate           Yes   \n",
       "\n",
       "   ApplicantIncome  CoapplicantIncome  LoanAmount  Loan_Term(months)  \\\n",
       "1             4583             1508.0       128.0              360.0   \n",
       "2             3000                0.0        66.0              360.0   \n",
       "3             2583             2358.0       120.0              360.0   \n",
       "4             6000                0.0       141.0              360.0   \n",
       "5             5417             4196.0       267.0              360.0   \n",
       "\n",
       "   Credit_History Property_Area Loan_Status  \n",
       "1             1.0         Rural           N  \n",
       "2             1.0         Urban           Y  \n",
       "3             1.0         Urban           Y  \n",
       "4             1.0         Urban           Y  \n",
       "5             1.0         Urban           Y  "
      ]
     },
     "execution_count": 38,
     "metadata": {},
     "output_type": "execute_result"
    }
   ],
   "source": [
    "#creating a copy of the data\n",
    "loans = data_cleaned.copy()\n",
    "#our data copy has been created\n",
    "loans.head()"
   ]
  },
  {
   "cell_type": "code",
   "execution_count": 39,
   "id": "8a8fa950-86b7-4a0e-9d8d-a332a50946ab",
   "metadata": {},
   "outputs": [
    {
     "data": {
      "text/plain": [
       "Loan_ID              0\n",
       "Gender               0\n",
       "Married              0\n",
       "Dependents           0\n",
       "Education            0\n",
       "Self_Employed        0\n",
       "ApplicantIncome      0\n",
       "CoapplicantIncome    0\n",
       "LoanAmount           0\n",
       "Loan_Term(months)    0\n",
       "Credit_History       0\n",
       "Property_Area        0\n",
       "Loan_Status          0\n",
       "dtype: int64"
      ]
     },
     "execution_count": 39,
     "metadata": {},
     "output_type": "execute_result"
    }
   ],
   "source": [
    "loans.isnull().sum()"
   ]
  },
  {
   "cell_type": "code",
   "execution_count": 40,
   "id": "dc6be07d-9683-49f4-86ec-79d3cdae5c8d",
   "metadata": {},
   "outputs": [
    {
     "name": "stdout",
     "output_type": "stream",
     "text": [
      "<class 'pandas.core.frame.DataFrame'>\n",
      "Index: 480 entries, 1 to 613\n",
      "Data columns (total 13 columns):\n",
      " #   Column             Non-Null Count  Dtype  \n",
      "---  ------             --------------  -----  \n",
      " 0   Loan_ID            480 non-null    object \n",
      " 1   Gender             480 non-null    object \n",
      " 2   Married            480 non-null    object \n",
      " 3   Dependents         480 non-null    object \n",
      " 4   Education          480 non-null    object \n",
      " 5   Self_Employed      480 non-null    object \n",
      " 6   ApplicantIncome    480 non-null    int64  \n",
      " 7   CoapplicantIncome  480 non-null    float64\n",
      " 8   LoanAmount         480 non-null    float64\n",
      " 9   Loan_Term(months)  480 non-null    float64\n",
      " 10  Credit_History     480 non-null    float64\n",
      " 11  Property_Area      480 non-null    object \n",
      " 12  Loan_Status        480 non-null    object \n",
      "dtypes: float64(4), int64(1), object(8)\n",
      "memory usage: 52.5+ KB\n"
     ]
    }
   ],
   "source": [
    "loans.info()"
   ]
  },
  {
   "cell_type": "code",
   "execution_count": 41,
   "id": "315f5b2a-98a9-456b-be14-e8dc15474435",
   "metadata": {},
   "outputs": [],
   "source": [
    "#has dropped the Loan_ID column\n",
    "loans = loans.drop(columns = \"Loan_ID\")"
   ]
  },
  {
   "cell_type": "code",
   "execution_count": 42,
   "id": "10dbf2f8-1abe-4e04-9a87-5b243c0045e0",
   "metadata": {},
   "outputs": [
    {
     "name": "stdout",
     "output_type": "stream",
     "text": [
      "<class 'pandas.core.frame.DataFrame'>\n",
      "Index: 480 entries, 1 to 613\n",
      "Data columns (total 12 columns):\n",
      " #   Column             Non-Null Count  Dtype  \n",
      "---  ------             --------------  -----  \n",
      " 0   Gender             480 non-null    object \n",
      " 1   Married            480 non-null    object \n",
      " 2   Dependents         480 non-null    object \n",
      " 3   Education          480 non-null    object \n",
      " 4   Self_Employed      480 non-null    object \n",
      " 5   ApplicantIncome    480 non-null    int64  \n",
      " 6   CoapplicantIncome  480 non-null    float64\n",
      " 7   LoanAmount         480 non-null    float64\n",
      " 8   Loan_Term(months)  480 non-null    float64\n",
      " 9   Credit_History     480 non-null    float64\n",
      " 10  Property_Area      480 non-null    object \n",
      " 11  Loan_Status        480 non-null    object \n",
      "dtypes: float64(4), int64(1), object(7)\n",
      "memory usage: 48.8+ KB\n"
     ]
    }
   ],
   "source": [
    "loans.info()"
   ]
  },
  {
   "cell_type": "code",
   "execution_count": 43,
   "id": "5208deae-99c4-407a-bacf-3695463610a8",
   "metadata": {},
   "outputs": [
    {
     "data": {
      "text/html": [
       "<div>\n",
       "<style scoped>\n",
       "    .dataframe tbody tr th:only-of-type {\n",
       "        vertical-align: middle;\n",
       "    }\n",
       "\n",
       "    .dataframe tbody tr th {\n",
       "        vertical-align: top;\n",
       "    }\n",
       "\n",
       "    .dataframe thead th {\n",
       "        text-align: right;\n",
       "    }\n",
       "</style>\n",
       "<table border=\"1\" class=\"dataframe\">\n",
       "  <thead>\n",
       "    <tr style=\"text-align: right;\">\n",
       "      <th></th>\n",
       "      <th>Gender</th>\n",
       "      <th>Married</th>\n",
       "      <th>Dependents</th>\n",
       "      <th>Education</th>\n",
       "      <th>Self_Employed</th>\n",
       "      <th>ApplicantIncome</th>\n",
       "      <th>CoapplicantIncome</th>\n",
       "      <th>LoanAmount</th>\n",
       "      <th>Loan_Term(months)</th>\n",
       "      <th>Credit_History</th>\n",
       "      <th>Property_Area</th>\n",
       "      <th>Loan_Status</th>\n",
       "    </tr>\n",
       "  </thead>\n",
       "  <tbody>\n",
       "    <tr>\n",
       "      <th>1</th>\n",
       "      <td>Male</td>\n",
       "      <td>Yes</td>\n",
       "      <td>1</td>\n",
       "      <td>Graduate</td>\n",
       "      <td>No</td>\n",
       "      <td>4583</td>\n",
       "      <td>1508.0</td>\n",
       "      <td>128.0</td>\n",
       "      <td>360.0</td>\n",
       "      <td>1.0</td>\n",
       "      <td>Rural</td>\n",
       "      <td>N</td>\n",
       "    </tr>\n",
       "    <tr>\n",
       "      <th>2</th>\n",
       "      <td>Male</td>\n",
       "      <td>Yes</td>\n",
       "      <td>0</td>\n",
       "      <td>Graduate</td>\n",
       "      <td>Yes</td>\n",
       "      <td>3000</td>\n",
       "      <td>0.0</td>\n",
       "      <td>66.0</td>\n",
       "      <td>360.0</td>\n",
       "      <td>1.0</td>\n",
       "      <td>Urban</td>\n",
       "      <td>Y</td>\n",
       "    </tr>\n",
       "    <tr>\n",
       "      <th>3</th>\n",
       "      <td>Male</td>\n",
       "      <td>Yes</td>\n",
       "      <td>0</td>\n",
       "      <td>Not Graduate</td>\n",
       "      <td>No</td>\n",
       "      <td>2583</td>\n",
       "      <td>2358.0</td>\n",
       "      <td>120.0</td>\n",
       "      <td>360.0</td>\n",
       "      <td>1.0</td>\n",
       "      <td>Urban</td>\n",
       "      <td>Y</td>\n",
       "    </tr>\n",
       "    <tr>\n",
       "      <th>4</th>\n",
       "      <td>Male</td>\n",
       "      <td>No</td>\n",
       "      <td>0</td>\n",
       "      <td>Graduate</td>\n",
       "      <td>No</td>\n",
       "      <td>6000</td>\n",
       "      <td>0.0</td>\n",
       "      <td>141.0</td>\n",
       "      <td>360.0</td>\n",
       "      <td>1.0</td>\n",
       "      <td>Urban</td>\n",
       "      <td>Y</td>\n",
       "    </tr>\n",
       "    <tr>\n",
       "      <th>5</th>\n",
       "      <td>Male</td>\n",
       "      <td>Yes</td>\n",
       "      <td>2</td>\n",
       "      <td>Graduate</td>\n",
       "      <td>Yes</td>\n",
       "      <td>5417</td>\n",
       "      <td>4196.0</td>\n",
       "      <td>267.0</td>\n",
       "      <td>360.0</td>\n",
       "      <td>1.0</td>\n",
       "      <td>Urban</td>\n",
       "      <td>Y</td>\n",
       "    </tr>\n",
       "    <tr>\n",
       "      <th>...</th>\n",
       "      <td>...</td>\n",
       "      <td>...</td>\n",
       "      <td>...</td>\n",
       "      <td>...</td>\n",
       "      <td>...</td>\n",
       "      <td>...</td>\n",
       "      <td>...</td>\n",
       "      <td>...</td>\n",
       "      <td>...</td>\n",
       "      <td>...</td>\n",
       "      <td>...</td>\n",
       "      <td>...</td>\n",
       "    </tr>\n",
       "    <tr>\n",
       "      <th>609</th>\n",
       "      <td>Female</td>\n",
       "      <td>No</td>\n",
       "      <td>0</td>\n",
       "      <td>Graduate</td>\n",
       "      <td>No</td>\n",
       "      <td>2900</td>\n",
       "      <td>0.0</td>\n",
       "      <td>71.0</td>\n",
       "      <td>360.0</td>\n",
       "      <td>1.0</td>\n",
       "      <td>Rural</td>\n",
       "      <td>Y</td>\n",
       "    </tr>\n",
       "    <tr>\n",
       "      <th>610</th>\n",
       "      <td>Male</td>\n",
       "      <td>Yes</td>\n",
       "      <td>3+</td>\n",
       "      <td>Graduate</td>\n",
       "      <td>No</td>\n",
       "      <td>4106</td>\n",
       "      <td>0.0</td>\n",
       "      <td>40.0</td>\n",
       "      <td>180.0</td>\n",
       "      <td>1.0</td>\n",
       "      <td>Rural</td>\n",
       "      <td>Y</td>\n",
       "    </tr>\n",
       "    <tr>\n",
       "      <th>611</th>\n",
       "      <td>Male</td>\n",
       "      <td>Yes</td>\n",
       "      <td>1</td>\n",
       "      <td>Graduate</td>\n",
       "      <td>No</td>\n",
       "      <td>8072</td>\n",
       "      <td>240.0</td>\n",
       "      <td>253.0</td>\n",
       "      <td>360.0</td>\n",
       "      <td>1.0</td>\n",
       "      <td>Urban</td>\n",
       "      <td>Y</td>\n",
       "    </tr>\n",
       "    <tr>\n",
       "      <th>612</th>\n",
       "      <td>Male</td>\n",
       "      <td>Yes</td>\n",
       "      <td>2</td>\n",
       "      <td>Graduate</td>\n",
       "      <td>No</td>\n",
       "      <td>7583</td>\n",
       "      <td>0.0</td>\n",
       "      <td>187.0</td>\n",
       "      <td>360.0</td>\n",
       "      <td>1.0</td>\n",
       "      <td>Urban</td>\n",
       "      <td>Y</td>\n",
       "    </tr>\n",
       "    <tr>\n",
       "      <th>613</th>\n",
       "      <td>Female</td>\n",
       "      <td>No</td>\n",
       "      <td>0</td>\n",
       "      <td>Graduate</td>\n",
       "      <td>Yes</td>\n",
       "      <td>4583</td>\n",
       "      <td>0.0</td>\n",
       "      <td>133.0</td>\n",
       "      <td>360.0</td>\n",
       "      <td>0.0</td>\n",
       "      <td>Semiurban</td>\n",
       "      <td>N</td>\n",
       "    </tr>\n",
       "  </tbody>\n",
       "</table>\n",
       "<p>480 rows × 12 columns</p>\n",
       "</div>"
      ],
      "text/plain": [
       "     Gender Married Dependents     Education Self_Employed  ApplicantIncome  \\\n",
       "1      Male     Yes          1      Graduate            No             4583   \n",
       "2      Male     Yes          0      Graduate           Yes             3000   \n",
       "3      Male     Yes          0  Not Graduate            No             2583   \n",
       "4      Male      No          0      Graduate            No             6000   \n",
       "5      Male     Yes          2      Graduate           Yes             5417   \n",
       "..      ...     ...        ...           ...           ...              ...   \n",
       "609  Female      No          0      Graduate            No             2900   \n",
       "610    Male     Yes         3+      Graduate            No             4106   \n",
       "611    Male     Yes          1      Graduate            No             8072   \n",
       "612    Male     Yes          2      Graduate            No             7583   \n",
       "613  Female      No          0      Graduate           Yes             4583   \n",
       "\n",
       "     CoapplicantIncome  LoanAmount  Loan_Term(months)  Credit_History  \\\n",
       "1               1508.0       128.0              360.0             1.0   \n",
       "2                  0.0        66.0              360.0             1.0   \n",
       "3               2358.0       120.0              360.0             1.0   \n",
       "4                  0.0       141.0              360.0             1.0   \n",
       "5               4196.0       267.0              360.0             1.0   \n",
       "..                 ...         ...                ...             ...   \n",
       "609                0.0        71.0              360.0             1.0   \n",
       "610                0.0        40.0              180.0             1.0   \n",
       "611              240.0       253.0              360.0             1.0   \n",
       "612                0.0       187.0              360.0             1.0   \n",
       "613                0.0       133.0              360.0             0.0   \n",
       "\n",
       "    Property_Area Loan_Status  \n",
       "1           Rural           N  \n",
       "2           Urban           Y  \n",
       "3           Urban           Y  \n",
       "4           Urban           Y  \n",
       "5           Urban           Y  \n",
       "..            ...         ...  \n",
       "609         Rural           Y  \n",
       "610         Rural           Y  \n",
       "611         Urban           Y  \n",
       "612         Urban           Y  \n",
       "613     Semiurban           N  \n",
       "\n",
       "[480 rows x 12 columns]"
      ]
     },
     "execution_count": 43,
     "metadata": {},
     "output_type": "execute_result"
    }
   ],
   "source": [
    "loans"
   ]
  },
  {
   "cell_type": "code",
   "execution_count": 44,
   "id": "b3cf3eb5-89c7-4132-b345-5ff0ebc1695d",
   "metadata": {},
   "outputs": [
    {
     "data": {
      "text/html": [
       "<div>\n",
       "<style scoped>\n",
       "    .dataframe tbody tr th:only-of-type {\n",
       "        vertical-align: middle;\n",
       "    }\n",
       "\n",
       "    .dataframe tbody tr th {\n",
       "        vertical-align: top;\n",
       "    }\n",
       "\n",
       "    .dataframe thead th {\n",
       "        text-align: right;\n",
       "    }\n",
       "</style>\n",
       "<table border=\"1\" class=\"dataframe\">\n",
       "  <thead>\n",
       "    <tr style=\"text-align: right;\">\n",
       "      <th></th>\n",
       "      <th>Gender</th>\n",
       "      <th>Married</th>\n",
       "      <th>Dependents</th>\n",
       "      <th>Education</th>\n",
       "      <th>Self_Employed</th>\n",
       "      <th>ApplicantIncome</th>\n",
       "      <th>CoapplicantIncome</th>\n",
       "      <th>LoanAmount</th>\n",
       "      <th>Loan_Term(months)</th>\n",
       "      <th>Credit_History</th>\n",
       "      <th>Property_Area</th>\n",
       "      <th>Loan_Status</th>\n",
       "    </tr>\n",
       "  </thead>\n",
       "  <tbody>\n",
       "    <tr>\n",
       "      <th>609</th>\n",
       "      <td>Female</td>\n",
       "      <td>No</td>\n",
       "      <td>0</td>\n",
       "      <td>Graduate</td>\n",
       "      <td>No</td>\n",
       "      <td>2900</td>\n",
       "      <td>0.0</td>\n",
       "      <td>71.0</td>\n",
       "      <td>360.0</td>\n",
       "      <td>1.0</td>\n",
       "      <td>Rural</td>\n",
       "      <td>Y</td>\n",
       "    </tr>\n",
       "    <tr>\n",
       "      <th>610</th>\n",
       "      <td>Male</td>\n",
       "      <td>Yes</td>\n",
       "      <td>3+</td>\n",
       "      <td>Graduate</td>\n",
       "      <td>No</td>\n",
       "      <td>4106</td>\n",
       "      <td>0.0</td>\n",
       "      <td>40.0</td>\n",
       "      <td>180.0</td>\n",
       "      <td>1.0</td>\n",
       "      <td>Rural</td>\n",
       "      <td>Y</td>\n",
       "    </tr>\n",
       "    <tr>\n",
       "      <th>611</th>\n",
       "      <td>Male</td>\n",
       "      <td>Yes</td>\n",
       "      <td>1</td>\n",
       "      <td>Graduate</td>\n",
       "      <td>No</td>\n",
       "      <td>8072</td>\n",
       "      <td>240.0</td>\n",
       "      <td>253.0</td>\n",
       "      <td>360.0</td>\n",
       "      <td>1.0</td>\n",
       "      <td>Urban</td>\n",
       "      <td>Y</td>\n",
       "    </tr>\n",
       "    <tr>\n",
       "      <th>612</th>\n",
       "      <td>Male</td>\n",
       "      <td>Yes</td>\n",
       "      <td>2</td>\n",
       "      <td>Graduate</td>\n",
       "      <td>No</td>\n",
       "      <td>7583</td>\n",
       "      <td>0.0</td>\n",
       "      <td>187.0</td>\n",
       "      <td>360.0</td>\n",
       "      <td>1.0</td>\n",
       "      <td>Urban</td>\n",
       "      <td>Y</td>\n",
       "    </tr>\n",
       "    <tr>\n",
       "      <th>613</th>\n",
       "      <td>Female</td>\n",
       "      <td>No</td>\n",
       "      <td>0</td>\n",
       "      <td>Graduate</td>\n",
       "      <td>Yes</td>\n",
       "      <td>4583</td>\n",
       "      <td>0.0</td>\n",
       "      <td>133.0</td>\n",
       "      <td>360.0</td>\n",
       "      <td>0.0</td>\n",
       "      <td>Semiurban</td>\n",
       "      <td>N</td>\n",
       "    </tr>\n",
       "  </tbody>\n",
       "</table>\n",
       "</div>"
      ],
      "text/plain": [
       "     Gender Married Dependents Education Self_Employed  ApplicantIncome  \\\n",
       "609  Female      No          0  Graduate            No             2900   \n",
       "610    Male     Yes         3+  Graduate            No             4106   \n",
       "611    Male     Yes          1  Graduate            No             8072   \n",
       "612    Male     Yes          2  Graduate            No             7583   \n",
       "613  Female      No          0  Graduate           Yes             4583   \n",
       "\n",
       "     CoapplicantIncome  LoanAmount  Loan_Term(months)  Credit_History  \\\n",
       "609                0.0        71.0              360.0             1.0   \n",
       "610                0.0        40.0              180.0             1.0   \n",
       "611              240.0       253.0              360.0             1.0   \n",
       "612                0.0       187.0              360.0             1.0   \n",
       "613                0.0       133.0              360.0             0.0   \n",
       "\n",
       "    Property_Area Loan_Status  \n",
       "609         Rural           Y  \n",
       "610         Rural           Y  \n",
       "611         Urban           Y  \n",
       "612         Urban           Y  \n",
       "613     Semiurban           N  "
      ]
     },
     "execution_count": 44,
     "metadata": {},
     "output_type": "execute_result"
    }
   ],
   "source": [
    "loans.tail()"
   ]
  },
  {
   "cell_type": "markdown",
   "id": "d5991c6f-fd8a-457c-a915-f37f97250a07",
   "metadata": {},
   "source": [
    "<h1>Checking values</h1>\n",
    "<p>In this section, we checked whether the values we checked for unique values and the data types in the data set</p>"
   ]
  },
  {
   "cell_type": "markdown",
   "id": "c6ab5fb8-f841-4b4e-9d38-750b2ff2d4eb",
   "metadata": {},
   "source": [
    "<ol style= \"font-weight: bold;\">\n",
    "    <h3>1. Gender</h3>\n",
    "</ol>\n",
    "<p>Missing values were omitted</p>\n"
   ]
  },
  {
   "cell_type": "code",
   "execution_count": 50,
   "id": "9ff1f05f-74d4-4438-b85f-9c6c45ee8629",
   "metadata": {},
   "outputs": [
    {
     "data": {
      "text/plain": [
       "array(['Male', 'Female'], dtype=object)"
      ]
     },
     "execution_count": 50,
     "metadata": {},
     "output_type": "execute_result"
    }
   ],
   "source": [
    "loans['Gender'].unique()"
   ]
  },
  {
   "cell_type": "markdown",
   "id": "77ecb89f-a902-489a-8cb2-ca9e6f317359",
   "metadata": {},
   "source": [
    "<ol style= \"font-weight: bold;\">\n",
    "    <h3>2. Married</h3>\n",
    "</ol>\n",
    "<p>Missing values were omitted</p>\n"
   ]
  },
  {
   "cell_type": "code",
   "execution_count": 51,
   "id": "f0c648bf-116d-4ab5-b338-fd3124430c0e",
   "metadata": {},
   "outputs": [
    {
     "data": {
      "text/plain": [
       "array(['Yes', 'No'], dtype=object)"
      ]
     },
     "execution_count": 51,
     "metadata": {},
     "output_type": "execute_result"
    }
   ],
   "source": [
    "loans['Married'].unique()"
   ]
  },
  {
   "cell_type": "markdown",
   "id": "4723d527-27f2-47be-8875-292536dfb043",
   "metadata": {},
   "source": [
    "<ol style= \"font-weight: bold;\">\n",
    "    <h3>3. Dependents</h3>\n",
    "</ol>\n"
   ]
  },
  {
   "cell_type": "code",
   "execution_count": 52,
   "id": "dc9a0568-7b08-4336-84d2-b381687faf22",
   "metadata": {},
   "outputs": [],
   "source": [
    "# Function to strip non-numeric characters which in this case is the plus sign after 3\n",
    "def strip_non_numbers(value):\n",
    "     # Use regular expression to replace non-numeric characters with an empty string\n",
    "     #calls on the imported library\n",
    "     return re.sub(r'\\D', '', str(value))\n",
    "\n",
    " # Apply the function to the specific column\n",
    "loans['Dependents'] = loans['Dependents'].apply(strip_non_numbers)"
   ]
  },
  {
   "cell_type": "code",
   "execution_count": 53,
   "id": "9e8c9204-6e2d-4630-bba9-14b18fe79bfb",
   "metadata": {},
   "outputs": [
    {
     "data": {
      "text/html": [
       "<div>\n",
       "<style scoped>\n",
       "    .dataframe tbody tr th:only-of-type {\n",
       "        vertical-align: middle;\n",
       "    }\n",
       "\n",
       "    .dataframe tbody tr th {\n",
       "        vertical-align: top;\n",
       "    }\n",
       "\n",
       "    .dataframe thead th {\n",
       "        text-align: right;\n",
       "    }\n",
       "</style>\n",
       "<table border=\"1\" class=\"dataframe\">\n",
       "  <thead>\n",
       "    <tr style=\"text-align: right;\">\n",
       "      <th></th>\n",
       "      <th>Gender</th>\n",
       "      <th>Married</th>\n",
       "      <th>Dependents</th>\n",
       "      <th>Education</th>\n",
       "      <th>Self_Employed</th>\n",
       "      <th>ApplicantIncome</th>\n",
       "      <th>CoapplicantIncome</th>\n",
       "      <th>LoanAmount</th>\n",
       "      <th>Loan_Term(months)</th>\n",
       "      <th>Credit_History</th>\n",
       "      <th>Property_Area</th>\n",
       "      <th>Loan_Status</th>\n",
       "    </tr>\n",
       "  </thead>\n",
       "  <tbody>\n",
       "    <tr>\n",
       "      <th>609</th>\n",
       "      <td>Female</td>\n",
       "      <td>No</td>\n",
       "      <td>0</td>\n",
       "      <td>Graduate</td>\n",
       "      <td>No</td>\n",
       "      <td>2900</td>\n",
       "      <td>0.0</td>\n",
       "      <td>71.0</td>\n",
       "      <td>360.0</td>\n",
       "      <td>1.0</td>\n",
       "      <td>Rural</td>\n",
       "      <td>Y</td>\n",
       "    </tr>\n",
       "    <tr>\n",
       "      <th>610</th>\n",
       "      <td>Male</td>\n",
       "      <td>Yes</td>\n",
       "      <td>3</td>\n",
       "      <td>Graduate</td>\n",
       "      <td>No</td>\n",
       "      <td>4106</td>\n",
       "      <td>0.0</td>\n",
       "      <td>40.0</td>\n",
       "      <td>180.0</td>\n",
       "      <td>1.0</td>\n",
       "      <td>Rural</td>\n",
       "      <td>Y</td>\n",
       "    </tr>\n",
       "    <tr>\n",
       "      <th>611</th>\n",
       "      <td>Male</td>\n",
       "      <td>Yes</td>\n",
       "      <td>1</td>\n",
       "      <td>Graduate</td>\n",
       "      <td>No</td>\n",
       "      <td>8072</td>\n",
       "      <td>240.0</td>\n",
       "      <td>253.0</td>\n",
       "      <td>360.0</td>\n",
       "      <td>1.0</td>\n",
       "      <td>Urban</td>\n",
       "      <td>Y</td>\n",
       "    </tr>\n",
       "    <tr>\n",
       "      <th>612</th>\n",
       "      <td>Male</td>\n",
       "      <td>Yes</td>\n",
       "      <td>2</td>\n",
       "      <td>Graduate</td>\n",
       "      <td>No</td>\n",
       "      <td>7583</td>\n",
       "      <td>0.0</td>\n",
       "      <td>187.0</td>\n",
       "      <td>360.0</td>\n",
       "      <td>1.0</td>\n",
       "      <td>Urban</td>\n",
       "      <td>Y</td>\n",
       "    </tr>\n",
       "    <tr>\n",
       "      <th>613</th>\n",
       "      <td>Female</td>\n",
       "      <td>No</td>\n",
       "      <td>0</td>\n",
       "      <td>Graduate</td>\n",
       "      <td>Yes</td>\n",
       "      <td>4583</td>\n",
       "      <td>0.0</td>\n",
       "      <td>133.0</td>\n",
       "      <td>360.0</td>\n",
       "      <td>0.0</td>\n",
       "      <td>Semiurban</td>\n",
       "      <td>N</td>\n",
       "    </tr>\n",
       "  </tbody>\n",
       "</table>\n",
       "</div>"
      ],
      "text/plain": [
       "     Gender Married Dependents Education Self_Employed  ApplicantIncome  \\\n",
       "609  Female      No          0  Graduate            No             2900   \n",
       "610    Male     Yes          3  Graduate            No             4106   \n",
       "611    Male     Yes          1  Graduate            No             8072   \n",
       "612    Male     Yes          2  Graduate            No             7583   \n",
       "613  Female      No          0  Graduate           Yes             4583   \n",
       "\n",
       "     CoapplicantIncome  LoanAmount  Loan_Term(months)  Credit_History  \\\n",
       "609                0.0        71.0              360.0             1.0   \n",
       "610                0.0        40.0              180.0             1.0   \n",
       "611              240.0       253.0              360.0             1.0   \n",
       "612                0.0       187.0              360.0             1.0   \n",
       "613                0.0       133.0              360.0             0.0   \n",
       "\n",
       "    Property_Area Loan_Status  \n",
       "609         Rural           Y  \n",
       "610         Rural           Y  \n",
       "611         Urban           Y  \n",
       "612         Urban           Y  \n",
       "613     Semiurban           N  "
      ]
     },
     "execution_count": 53,
     "metadata": {},
     "output_type": "execute_result"
    }
   ],
   "source": [
    "loans.tail()\n",
    "#results below show that the '+' has been removed"
   ]
  },
  {
   "cell_type": "markdown",
   "id": "22b8492d-b634-48f6-af9e-545f2148d741",
   "metadata": {},
   "source": [
    "<ol style= \"font-weight: bold;\">\n",
    "    <h3>4. Education</h3>\n",
    "</ol>\n"
   ]
  },
  {
   "cell_type": "code",
   "execution_count": 54,
   "id": "5303c131-197e-4105-a863-e2b4be386e18",
   "metadata": {},
   "outputs": [
    {
     "data": {
      "text/plain": [
       "array(['Graduate', 'Not Graduate'], dtype=object)"
      ]
     },
     "execution_count": 54,
     "metadata": {},
     "output_type": "execute_result"
    }
   ],
   "source": [
    "loans['Education'].unique()"
   ]
  },
  {
   "cell_type": "markdown",
   "id": "9e75f7e5-069b-46aa-81ff-3207cbf7953c",
   "metadata": {},
   "source": [
    "<ol style= \"font-weight: bold;\">\n",
    "    <h3>5. Self_Employed</h3>\n",
    "</ol>\n"
   ]
  },
  {
   "cell_type": "code",
   "execution_count": 49,
   "id": "ef53e77e-34b0-49d2-ab36-d6d828e110e3",
   "metadata": {},
   "outputs": [
    {
     "data": {
      "text/plain": [
       "array(['No', 'Yes'], dtype=object)"
      ]
     },
     "execution_count": 49,
     "metadata": {},
     "output_type": "execute_result"
    }
   ],
   "source": [
    "loans['Self_Employed'].unique()"
   ]
  },
  {
   "cell_type": "markdown",
   "id": "399e6bcf-ee98-4ddc-82b0-26f144253ee8",
   "metadata": {},
   "source": [
    "<ol style= \"font-weight: bold;\">\n",
    "    <h3>6. Applicant Income</h3>\n",
    "</ol>"
   ]
  },
  {
   "cell_type": "code",
   "execution_count": 57,
   "id": "8e307cce-4fa3-46ce-b735-36e6cf286cf8",
   "metadata": {},
   "outputs": [
    {
     "data": {
      "text/plain": [
       "array([ 4583,  3000,  2583,  6000,  5417,  2333,  3036,  4006, 12841,\n",
       "        3200,  3073,  1853,  1299,  4950,  3510,  4887,  7660,  5955,\n",
       "        2600,  9560,  2799,  4226,  1442,  3167,  4692,  3500, 12500,\n",
       "        3667,  4166,  3748,  3600,  1800,  3941,  5649,  5821,  2645,\n",
       "        4000,  1928,  3086,  4230,  4616, 11500,  2708,  2132,  3366,\n",
       "        8080,  3357,  2500,  3029,  2609,  5726, 10750,  7100,  4300,\n",
       "        3208,  1875,  5266,  3750,  1000,  3846,  1378,  3988,  2366,\n",
       "        8566,  5695,  2958,  6250,  3273,  4133,  3620,  2484,  1977,\n",
       "        4188,  1759,  4288,  4843,  3052, 11417,  3800,  2071,  5316,\n",
       "       14583,  5568, 10408,  2137,  2957, 10513,  2014,  2718,  3459,\n",
       "        4895,  3316, 14999,  4200,  5042,  6950,  2698, 11757,  2330,\n",
       "       14866,  1538, 10000,  4860,  6277,  2577,  9166,  2281,  3254,\n",
       "       39999,  9538,  1863,  7933,  3089,  4167,  9323,  2439,  2237,\n",
       "        8000,  3522,  5708,  4344,  3497,  2045,  5516,  6400,  4600,\n",
       "       33846,  3625, 39147,  2178,  9328,  4885, 12000,  6033,  3858,\n",
       "        4191,  3125,  8333, 11000,  4923,  3917,  4408,  3244,  3975,\n",
       "        2479,  3418,  3430,  7787,  5703,  3173,  3850,   150,  3727,\n",
       "        2221,  4009,  2971,  3250,  2491,  3155,  5500,  3812,  3315,\n",
       "        5819,  2510,  2965,  3406,  6050,  9703,  6608,  2882,  1809,\n",
       "        1668,  3427,  2661, 16250,  3083,  6045,  5250, 14683,  2060,\n",
       "        3481,  7200,  5166,  4095,  4708,  4333,  2876,  3237, 11146,\n",
       "        2833,  2620,  3900,  2750,  3993,  3103,  4053,  3927,  2301,\n",
       "        1811,  3158,  3704,  4124,  9508,  3075,  4400,  3153,  2383,\n",
       "        6875,  4666,  5000,  1625,  3762,  2400, 20233,  2917,  2927,\n",
       "        2507,  3399,  3717,  4342, 15000,  8666,  4917,  5818,  4384,\n",
       "        2935,  4160,  2647,  2378,  4554,  2499,  2625,  9083,  8750,\n",
       "        2666,  2423,  3875,  5167,  4723,  4750,  6822,  6216,  6325,\n",
       "       19730, 15759,  5185,  3062,  4817,  3069,  5391,  5941,  7167,\n",
       "        4566,  2346,  5488,  9167,  9504,  1993,  3100,  3180,  3033,\n",
       "        3902,  1500,  2889,  2755,  1963,  7441,  4547,  2167,  2213,\n",
       "        8300, 81000,  3867,  6096,  2253,  2149,  2995,  1600,  1025,\n",
       "        3246,  5829,  1820, 14880,  4606,  5935,  2920,  2717,  8624,\n",
       "        6500,  2425,  1926, 10416,  7142,  3660,  7901,  4707, 37719,\n",
       "        3466,  4652,  3340,  2309,  3948,  2483,  7085,  3859,  4301,\n",
       "        3708,  4354,  8334,  7740,  3015,  2947,  3450,  2653,  4691,\n",
       "        5532, 16525,  6700, 16667,  4350,  3095,  2083, 10833,  1958,\n",
       "        3547, 18333,  2435,  3691, 17263,  3597,  3326,  2895,  6283,\n",
       "         645,  3159,  4865,  3814, 13262,  3598,  6065,  3283,  2130,\n",
       "        5815,  2031,  4683,  3400,  2192,  5677,  7948, 17500,  3775,\n",
       "        5285,  2679,  6783,  4281,  3588, 18165,  6133,  3617,  6417,\n",
       "        4608,  2138,  2239,  2768,  3358,  2526,  2785,  3333,  2454,\n",
       "        3593,  5468, 10139,  3887,  4180,  3675, 19484,  5923,  5800,\n",
       "        8799,  3166,  3417, 16666,  6125,  6406,  3229,  1782,  6540,\n",
       "        1836,  2787,  4283,  2297,  2165,  2726, 16120,  3833,  6383,\n",
       "        9963,  5780,  3676,  3987,  3232,  2900,  4106,  8072,  7583])"
      ]
     },
     "execution_count": 57,
     "metadata": {},
     "output_type": "execute_result"
    }
   ],
   "source": [
    "loans['ApplicantIncome'].unique()"
   ]
  },
  {
   "cell_type": "markdown",
   "id": "0bf4cc99-ab2e-4963-964e-f0b5dcb1d683",
   "metadata": {},
   "source": [
    "<ol style= \"font-weight: bold;\">\n",
    "    <h3>7. Coapplicant Income</h3>\n",
    "</ol>"
   ]
  },
  {
   "cell_type": "code",
   "execution_count": 58,
   "id": "df288f72-f305-4e7b-8d3c-8630dd9d5c15",
   "metadata": {},
   "outputs": [
    {
     "data": {
      "text/plain": [
       "array([1.50800000e+03, 0.00000000e+00, 2.35800000e+03, 4.19600000e+03,\n",
       "       1.51600000e+03, 2.50400000e+03, 1.52600000e+03, 1.09680000e+04,\n",
       "       7.00000000e+02, 8.10600000e+03, 2.84000000e+03, 1.08600000e+03,\n",
       "       5.62500000e+03, 1.91100000e+03, 2.25300000e+03, 1.04000000e+03,\n",
       "       1.66700000e+03, 3.00000000e+03, 1.45900000e+03, 7.21000000e+03,\n",
       "       1.66800000e+03, 1.21300000e+03, 2.33600000e+03, 3.44000000e+03,\n",
       "       2.27500000e+03, 1.64400000e+03, 1.16700000e+03, 1.59100000e+03,\n",
       "       2.20000000e+03, 2.25000000e+03, 2.85900000e+03, 3.79600000e+03,\n",
       "       3.44900000e+03, 4.59500000e+03, 2.25400000e+03, 3.06600000e+03,\n",
       "       1.87500000e+03, 1.77400000e+03, 4.75000000e+03, 3.02200000e+03,\n",
       "       4.00000000e+03, 1.88100000e+03, 2.53100000e+03, 2.11800000e+03,\n",
       "       4.16700000e+03, 2.90000000e+03, 5.65400000e+03, 1.82000000e+03,\n",
       "       2.30200000e+03, 9.97000000e+02, 3.54100000e+03, 3.26300000e+03,\n",
       "       3.80600000e+03, 1.03000000e+03, 1.12600000e+03, 3.60000000e+03,\n",
       "       7.54000000e+02, 2.28300000e+03, 2.14200000e+03, 8.98000000e+03,\n",
       "       2.01400000e+03, 3.85000000e+03, 1.92900000e+03, 7.75000000e+03,\n",
       "       3.50000000e+03, 1.43000000e+03, 2.08300000e+03, 2.03400000e+03,\n",
       "       4.48600000e+03, 1.42500000e+03, 1.66600000e+03, 8.30000000e+02,\n",
       "       3.75000000e+03, 1.04100000e+03, 1.28000000e+03, 1.44700000e+03,\n",
       "       3.33300000e+03, 7.36000000e+02, 1.96400000e+03, 1.61900000e+03,\n",
       "       1.13000000e+04, 1.45100000e+03, 7.25000000e+03, 2.58300000e+03,\n",
       "       2.50000000e+03, 1.08300000e+03, 1.25000000e+03, 3.02100000e+03,\n",
       "       9.83000000e+02, 1.80000000e+03, 1.77500000e+03, 1.71700000e+03,\n",
       "       2.79100000e+03, 1.69500000e+03, 2.05400000e+03, 1.77900000e+03,\n",
       "       1.26000000e+03, 5.00000000e+03, 1.98300000e+03, 5.70100000e+03,\n",
       "       1.30000000e+03, 4.41700000e+03, 4.33300000e+03, 1.84300000e+03,\n",
       "       1.86800000e+03, 3.89000000e+03, 2.16700000e+03, 7.10100000e+03,\n",
       "       2.10000000e+03, 2.20900000e+03, 3.44700000e+03, 1.38700000e+03,\n",
       "       1.81100000e+03, 1.56000000e+03, 1.85700000e+03, 2.22300000e+03,\n",
       "       1.84200000e+03, 3.27400000e+03, 2.42600000e+03, 8.00000000e+02,\n",
       "       9.85799988e+02, 3.05300000e+03, 2.00000000e+03, 2.41600000e+03,\n",
       "       3.33400000e+03, 2.54100000e+03, 2.92500000e+03, 2.93400000e+03,\n",
       "       1.80300000e+03, 1.86300000e+03, 2.40500000e+03, 1.64000000e+03,\n",
       "       1.89000000e+02, 4.98300000e+03, 2.16000000e+03, 2.45100000e+03,\n",
       "       1.79300000e+03, 4.60000000e+03, 1.58700000e+03, 1.22900000e+03,\n",
       "       2.45800000e+03, 2.16800000e+03, 6.25000000e+03, 5.05000000e+02,\n",
       "       3.16700000e+03, 3.66700000e+03, 2.33300000e+03, 5.26600000e+03,\n",
       "       7.87300000e+03, 1.98700000e+03, 9.23000000e+02, 4.99600000e+03,\n",
       "       4.23200000e+03, 1.60000000e+03, 2.41700000e+03, 1.62500000e+03,\n",
       "       1.40000000e+03, 2.00000000e+04, 2.40000000e+03, 2.03300000e+03,\n",
       "       3.23700000e+03, 2.77300000e+03, 1.41700000e+03, 1.71900000e+03,\n",
       "       4.30000000e+03, 1.61200008e+01, 2.34000000e+03, 1.85100000e+03,\n",
       "       5.06400000e+03, 1.83300000e+03, 1.99300000e+03, 1.21000000e+03,\n",
       "       1.71000000e+03, 1.25500000e+03, 1.73300000e+03, 2.46600000e+03,\n",
       "       2.56900000e+03, 2.18800000e+03, 1.66400000e+03, 2.07900000e+03,\n",
       "       1.50000000e+03, 4.64800000e+03, 1.01400000e+03, 1.75000000e+03,\n",
       "       3.15000000e+03, 2.43600000e+03, 2.15700000e+03, 9.13000000e+02,\n",
       "       1.70000000e+03, 4.41600000e+03, 3.68300000e+03, 5.62400000e+03,\n",
       "       1.48300000e+03, 3.01300000e+03, 1.28700000e+03, 2.00400000e+03,\n",
       "       2.03500000e+03, 6.66600000e+03, 3.66600000e+03, 3.42800000e+03,\n",
       "       1.63200000e+03, 1.91500000e+03, 1.74200000e+03, 1.42400000e+03,\n",
       "       7.16600000e+03, 1.30200000e+03, 3.90600000e+03, 5.36000000e+02,\n",
       "       2.84500000e+03, 2.52400000e+03, 1.95000000e+03, 1.78300000e+03,\n",
       "       2.01600000e+03, 3.25000000e+03, 4.26600000e+03, 1.03200000e+03,\n",
       "       2.66900000e+03, 2.30600000e+03, 2.42000000e+02, 2.06400000e+03,\n",
       "       4.61000000e+02, 2.73900000e+03, 2.23200000e+03, 3.38370000e+04,\n",
       "       1.91700000e+03, 1.52200000e+03, 3.41600000e+03, 3.30000000e+03,\n",
       "       1.00000000e+03, 4.30100000e+03, 1.41100000e+03, 2.40000000e+02])"
      ]
     },
     "execution_count": 58,
     "metadata": {},
     "output_type": "execute_result"
    }
   ],
   "source": [
    "loans['CoapplicantIncome'].unique()"
   ]
  },
  {
   "cell_type": "code",
   "execution_count": null,
   "id": "368a987a-f89f-4ac7-8a0c-e909510e7b26",
   "metadata": {},
   "outputs": [],
   "source": [
    "#another column of their total income"
   ]
  },
  {
   "cell_type": "markdown",
   "id": "ecff6c99-1701-4175-94b6-4c31117d6406",
   "metadata": {},
   "source": [
    "<ol style= \"font-weight: bold;\">\n",
    "    <h3>8. Loan Amount</h3>\n",
    "</ol>"
   ]
  },
  {
   "cell_type": "code",
   "execution_count": 59,
   "id": "db8f13f2-c765-45d8-bbc1-09c2a6b1add7",
   "metadata": {},
   "outputs": [
    {
     "data": {
      "text/plain": [
       "array([128.,  66., 120., 141., 267.,  95., 158., 168., 349.,  70., 200.,\n",
       "       114.,  17., 125.,  76., 133., 104., 315., 116., 191., 122., 110.,\n",
       "        35.,  74., 106., 320., 144., 184.,  80.,  47., 134.,  44., 100.,\n",
       "       112., 286.,  97.,  96., 135., 180.,  99., 165., 258., 126., 312.,\n",
       "       136., 172.,  81., 187., 113., 176., 111., 167.,  50., 210., 175.,\n",
       "       131., 188.,  25., 137., 115., 151., 225., 216.,  94., 185., 154.,\n",
       "       259., 194., 160., 102., 290.,  84.,  88., 242., 129.,  30., 118.,\n",
       "       152., 244., 600., 255.,  98., 275., 121.,  75.,  63.,  87., 101.,\n",
       "       495.,  73., 260., 108.,  48., 164., 170.,  83.,  90., 166., 124.,\n",
       "        55.,  59., 127., 214., 240., 130.,  60., 280., 140., 155., 123.,\n",
       "       201., 138., 279., 192., 304., 150., 207., 436.,  78.,  54.,  89.,\n",
       "       139.,  93., 132., 480.,  56., 300., 376.,  67., 117.,  71., 173.,\n",
       "        46., 228., 308., 105., 236., 570., 380., 296., 156., 109., 103.,\n",
       "        45.,  65.,  53., 360.,  62., 218., 178., 239., 143., 148., 149.,\n",
       "       153., 162., 230.,  86., 234., 246., 500., 119., 107., 209., 208.,\n",
       "       243.,  40., 250., 311., 400., 161., 324., 157., 145., 181.,  26.,\n",
       "       182., 211.,   9., 186., 205.,  36., 146., 142., 496., 253.])"
      ]
     },
     "execution_count": 59,
     "metadata": {},
     "output_type": "execute_result"
    }
   ],
   "source": [
    "loans['LoanAmount'].unique()"
   ]
  },
  {
   "cell_type": "markdown",
   "id": "4b142472-274b-46eb-91b5-fd3b6983c058",
   "metadata": {},
   "source": [
    "<ol style= \"font-weight: bold;\">\n",
    "    <h3>9. Loan_Term(months)</h3>\n",
    "</ol>"
   ]
  },
  {
   "cell_type": "code",
   "execution_count": 60,
   "id": "a44bfa43-8b0b-483c-b48b-8591daf922e5",
   "metadata": {},
   "outputs": [
    {
     "data": {
      "text/plain": [
       "array([360., 120., 180.,  60., 300., 480., 240.,  36.,  84.])"
      ]
     },
     "execution_count": 60,
     "metadata": {},
     "output_type": "execute_result"
    }
   ],
   "source": [
    "loans['Loan_Term(months)'].unique()"
   ]
  },
  {
   "cell_type": "markdown",
   "id": "c16162b4-d26a-4480-bced-76ed57618546",
   "metadata": {},
   "source": [
    "<ol style= \"font-weight: bold;\">\n",
    "    <h3>10. Credit History</h3>\n",
    "</ol>"
   ]
  },
  {
   "cell_type": "code",
   "execution_count": 61,
   "id": "a2b76f27-9e8f-4db3-9d7b-25c18c77cc7e",
   "metadata": {},
   "outputs": [
    {
     "data": {
      "text/plain": [
       "array([1., 0.])"
      ]
     },
     "execution_count": 61,
     "metadata": {},
     "output_type": "execute_result"
    }
   ],
   "source": [
    "loans['Credit_History'].unique()"
   ]
  },
  {
   "cell_type": "markdown",
   "id": "626769d4-f336-49db-b7c6-bd43257e57fd",
   "metadata": {},
   "source": [
    "<ol style= \"font-weight: bold;\">\n",
    "    <h3>11. Property Area</h3>\n",
    "</ol>"
   ]
  },
  {
   "cell_type": "code",
   "execution_count": 62,
   "id": "e05d8288-2368-4b07-a9c3-af643e8ae913",
   "metadata": {},
   "outputs": [
    {
     "data": {
      "text/plain": [
       "array(['Rural', 'Urban', 'Semiurban'], dtype=object)"
      ]
     },
     "execution_count": 62,
     "metadata": {},
     "output_type": "execute_result"
    }
   ],
   "source": [
    "loans['Property_Area'].unique()"
   ]
  },
  {
   "cell_type": "markdown",
   "id": "355816b4-a5d5-4620-8be1-5492b021cb77",
   "metadata": {},
   "source": [
    "<ol style= \"font-weight: bold;\">\n",
    "    <h3>12. Loan Status</h3>\n",
    "</ol>"
   ]
  },
  {
   "cell_type": "code",
   "execution_count": 63,
   "id": "17f25ca5-2a98-4c87-bd7b-0b3aaae4f8bf",
   "metadata": {},
   "outputs": [
    {
     "data": {
      "text/plain": [
       "array(['N', 'Y'], dtype=object)"
      ]
     },
     "execution_count": 63,
     "metadata": {},
     "output_type": "execute_result"
    }
   ],
   "source": [
    "loans['Loan_Status'].unique()"
   ]
  },
  {
   "cell_type": "markdown",
   "id": "5d77225a-31db-4da2-914f-0cfcedf5bfbe",
   "metadata": {},
   "source": [
    "<h1 style=\"font-weight: bold\">DATA EXPLORATION AND ANALYSIS</h1>"
   ]
  },
  {
   "cell_type": "markdown",
   "id": "6356ddc7-5701-48a0-978d-0ca69722c7e5",
   "metadata": {},
   "source": [
    "<ul style=\"list-style-type: none;\">\n",
    "    <li style=\"font-size: 20px; font-weight: bold;\">\n",
    "        1. What factors most significantly influence whether a loan is approved or not?\n",
    "    </li>\n",
    "</ul>"
   ]
  },
  {
   "cell_type": "markdown",
   "id": "2d70d78a-c510-4461-8998-97dca6acd731",
   "metadata": {},
   "source": [
    "<ul style=\"list-style-type: none;\">\n",
    "    <li style=\"font-size: 20px; font-weight: bold;\">\n",
    "        2. What is the relationship between marital status and loan approval?\n",
    "    </li>\n",
    "</ul>"
   ]
  },
  {
   "cell_type": "markdown",
   "id": "d8ffabed-d5cd-4bf4-93a8-8f136574ec1f",
   "metadata": {},
   "source": [
    "<ul style=\"list-style-type: none;\">\n",
    "    <li style=\"font-size: 20px; font-weight: bold;\">\n",
    "        3. What is the relationship between marital status and loan approval?\n",
    "    </li>\n",
    "</ul>"
   ]
  },
  {
   "cell_type": "markdown",
   "id": "08167ddd-38f8-499f-b0fa-4f896380c4ca",
   "metadata": {},
   "source": [
    "<ul style=\"list-style-type: none;\">\n",
    "    <li style=\"font-size: 20px; font-weight: bold;\">\n",
    "        4. What is the relationship between marital status and loan approval?\n",
    "    </li>\n",
    "</ul>"
   ]
  },
  {
   "cell_type": "markdown",
   "id": "f4269bd3-b97d-49ca-bc87-92ea9840ec85",
   "metadata": {},
   "source": [
    "<ul style=\"list-style-type: none;\">\n",
    "    <li style=\"font-size: 20px; font-weight: bold;\">\n",
    "        5. What is the relationship between marital status and loan approval?\n",
    "    </li>\n",
    "</ul>"
   ]
  },
  {
   "cell_type": "markdown",
   "id": "1c5ec163-746e-4aec-95d6-27eea6807d58",
   "metadata": {},
   "source": [
    "<ul style=\"list-style-type: none;\">\n",
    "    <li style=\"font-size: 20px; font-weight: bold;\">\n",
    "        6. What is the relationship between marital status and loan approval?\n",
    "    </li>\n",
    "</ul>"
   ]
  },
  {
   "cell_type": "markdown",
   "id": "a574509c-6e50-42eb-8a0f-3d7759fa27ff",
   "metadata": {},
   "source": [
    "<ul style=\"list-style-type: none;\">\n",
    "    <li style=\"font-size: 20px; font-weight: bold;\">\n",
    "        7. What is the relationship between marital status and loan approval?\n",
    "    </li>\n",
    "</ul>"
   ]
  },
  {
   "cell_type": "markdown",
   "id": "4ec40cad-05a2-4e67-8d40-8acf0e46c65c",
   "metadata": {},
   "source": [
    "<ul style=\"list-style-type: none;\">\n",
    "    <li style=\"font-size: 20px; font-weight: bold;\">\n",
    "        8. What is the relationship between marital status and loan approval?\n",
    "    </li>\n",
    "</ul>"
   ]
  },
  {
   "cell_type": "markdown",
   "id": "1c369d10-1ffb-4263-bb66-daf340095ba4",
   "metadata": {},
   "source": [
    "<ul style=\"list-style-type: none;\">\n",
    "    <li style=\"font-size: 20px; font-weight: bold;\">\n",
    "        9. What is the relationship between marital status and loan approval?\n",
    "    </li>\n",
    "</ul>"
   ]
  },
  {
   "cell_type": "code",
   "execution_count": null,
   "id": "e074ec6a-c63b-425d-9771-007813069e05",
   "metadata": {},
   "outputs": [],
   "source": []
  }
 ],
 "metadata": {
  "kernelspec": {
   "display_name": "Python 3 (ipykernel)",
   "language": "python",
   "name": "python3"
  },
  "language_info": {
   "codemirror_mode": {
    "name": "ipython",
    "version": 3
   },
   "file_extension": ".py",
   "mimetype": "text/x-python",
   "name": "python",
   "nbconvert_exporter": "python",
   "pygments_lexer": "ipython3",
   "version": "3.12.3"
  }
 },
 "nbformat": 4,
 "nbformat_minor": 5
}
